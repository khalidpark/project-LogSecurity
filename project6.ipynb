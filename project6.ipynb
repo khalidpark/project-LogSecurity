{
  "nbformat": 4,
  "nbformat_minor": 0,
  "metadata": {
    "colab": {
      "name": "project6.ipynb",
      "provenance": [],
      "collapsed_sections": [],
      "toc_visible": true,
      "authorship_tag": "ABX9TyNP2vNJNyMZNqSlkq3MJoEq",
      "include_colab_link": true
    },
    "kernelspec": {
      "name": "python3",
      "display_name": "Python 3"
    },
    "language_info": {
      "name": "python"
    }
  },
  "cells": [
    {
      "cell_type": "markdown",
      "metadata": {
        "id": "view-in-github",
        "colab_type": "text"
      },
      "source": [
        "<a href=\"https://colab.research.google.com/github/khalidpark/project-LogSecurity/blob/main/project6.ipynb\" target=\"_parent\"><img src=\"https://colab.research.google.com/assets/colab-badge.svg\" alt=\"Open In Colab\"/></a>"
      ]
    },
    {
      "cell_type": "markdown",
      "metadata": {
        "id": "R0p2uCXID3Yw"
      },
      "source": [
        "# 데이터 불러오기 및 간단 EDA"
      ]
    },
    {
      "cell_type": "code",
      "metadata": {
        "id": "2UwYHIv5I2KV"
      },
      "source": [
        "import numpy as np\n",
        "import pandas as pd\n",
        "import os\n",
        "import gc\n",
        "import matplotlib.pyplot as plt\n",
        "import tensorflow as tf\n",
        "from sklearn.model_selection import train_test_split\n",
        "from tqdm import tqdm"
      ],
      "execution_count": null,
      "outputs": []
    },
    {
      "cell_type": "code",
      "metadata": {
        "id": "KJXtUp3kI7Nh"
      },
      "source": [
        "train=pd.read_csv('/content/train.csv', error_bad_lines=False, engine=\"python\")"
      ],
      "execution_count": null,
      "outputs": []
    },
    {
      "cell_type": "code",
      "metadata": {
        "colab": {
          "base_uri": "https://localhost:8080/"
        },
        "id": "ZAtvPjU7Bkng",
        "outputId": "f0abc224-bf46-432c-e7f1-930b4253e94e"
      },
      "source": [
        "print(train.shape)"
      ],
      "execution_count": null,
      "outputs": [
        {
          "output_type": "stream",
          "text": [
            "(472972, 3)\n"
          ],
          "name": "stdout"
        }
      ]
    },
    {
      "cell_type": "code",
      "metadata": {
        "colab": {
          "base_uri": "https://localhost:8080/",
          "height": 203
        },
        "id": "rO7_L6bEBrwJ",
        "outputId": "0146af41-6621-48e9-a1e0-728e82d12e70"
      },
      "source": [
        "train.head()"
      ],
      "execution_count": null,
      "outputs": [
        {
          "output_type": "execute_result",
          "data": {
            "text/html": [
              "<div>\n",
              "<style scoped>\n",
              "    .dataframe tbody tr th:only-of-type {\n",
              "        vertical-align: middle;\n",
              "    }\n",
              "\n",
              "    .dataframe tbody tr th {\n",
              "        vertical-align: top;\n",
              "    }\n",
              "\n",
              "    .dataframe thead th {\n",
              "        text-align: right;\n",
              "    }\n",
              "</style>\n",
              "<table border=\"1\" class=\"dataframe\">\n",
              "  <thead>\n",
              "    <tr style=\"text-align: right;\">\n",
              "      <th></th>\n",
              "      <th>id</th>\n",
              "      <th>level</th>\n",
              "      <th>full_log</th>\n",
              "    </tr>\n",
              "  </thead>\n",
              "  <tbody>\n",
              "    <tr>\n",
              "      <th>0</th>\n",
              "      <td>0</td>\n",
              "      <td>0</td>\n",
              "      <td>Sep 24 10:02:22 localhost kibana: {\"type\":\"err...</td>\n",
              "    </tr>\n",
              "    <tr>\n",
              "      <th>1</th>\n",
              "      <td>1</td>\n",
              "      <td>0</td>\n",
              "      <td>Feb  8 16:21:00 localhost logstash: [2021-02-0...</td>\n",
              "    </tr>\n",
              "    <tr>\n",
              "      <th>2</th>\n",
              "      <td>2</td>\n",
              "      <td>0</td>\n",
              "      <td>Jan 13 01:50:40 localhost kibana: {\"type\":\"err...</td>\n",
              "    </tr>\n",
              "    <tr>\n",
              "      <th>3</th>\n",
              "      <td>3</td>\n",
              "      <td>0</td>\n",
              "      <td>Jan  4 10:18:31 localhost kibana: {\"type\":\"err...</td>\n",
              "    </tr>\n",
              "    <tr>\n",
              "      <th>4</th>\n",
              "      <td>4</td>\n",
              "      <td>1</td>\n",
              "      <td>type=SYSCALL msg=audit(1603094402.016:52981): ...</td>\n",
              "    </tr>\n",
              "  </tbody>\n",
              "</table>\n",
              "</div>"
            ],
            "text/plain": [
              "   id  level                                           full_log\n",
              "0   0      0  Sep 24 10:02:22 localhost kibana: {\"type\":\"err...\n",
              "1   1      0  Feb  8 16:21:00 localhost logstash: [2021-02-0...\n",
              "2   2      0  Jan 13 01:50:40 localhost kibana: {\"type\":\"err...\n",
              "3   3      0  Jan  4 10:18:31 localhost kibana: {\"type\":\"err...\n",
              "4   4      1  type=SYSCALL msg=audit(1603094402.016:52981): ..."
            ]
          },
          "metadata": {
            "tags": []
          },
          "execution_count": 71
        }
      ]
    },
    {
      "cell_type": "code",
      "metadata": {
        "colab": {
          "base_uri": "https://localhost:8080/"
        },
        "id": "228CRlvKCY0w",
        "outputId": "f0394388-1ced-41a3-db69-7221e1453a5e"
      },
      "source": [
        "print(train['full_log'][0])"
      ],
      "execution_count": null,
      "outputs": [
        {
          "output_type": "stream",
          "text": [
            "Sep 24 10:02:22 localhost kibana: {\"type\":\"error\",\"@timestamp\":\"2020-09-24T01:02:22Z\",\"tags\":[\"warning\",\"stats-collection\"],\"pid\":6458,\"level\":\"error\",\"error\":{\"message\":\"No Living connections\",\"name\":\"Error\",\"stack\":\"Error: No Living connections\\n    at sendReqWithConnection (/usr/share/kibana/node_modules/elasticsearch/src/lib/transport.js:226:15)\\n    at next (/usr/share/kibana/node_modules/elasticsearch/src/lib/connection_pool.js:214:7)\\n    at process._tickCallback (internal/process/next_tick.js:61:11)\"},\"message\":\"No Living connections\"}\n"
          ],
          "name": "stdout"
        }
      ]
    },
    {
      "cell_type": "code",
      "metadata": {
        "colab": {
          "base_uri": "https://localhost:8080/"
        },
        "id": "Hhu5LKqKDJCB",
        "outputId": "e37f46f8-705a-4e4e-d584-ec8893c59011"
      },
      "source": [
        "print(train['full_log'][1])"
      ],
      "execution_count": null,
      "outputs": [
        {
          "output_type": "stream",
          "text": [
            "Feb  8 16:21:00 localhost logstash: [2021-02-08T16:21:00,548][INFO ][logstash.outputs.elasticsearch] retrying failed action with response code: 503 ({\"type\"=>\"unavailable_shards_exception\", \"reason\"=>\"[wazuh-alerts-audit-3.x-2021.16.08][3] primary shard is not active Timeout: [1m], request: [BulkShardRequest [[wazuh-alerts-audit-3.x-2021.16.08][3]] containing [25] requests]\"})\n"
          ],
          "name": "stdout"
        }
      ]
    },
    {
      "cell_type": "markdown",
      "metadata": {
        "id": "N1RmLUKpChVF"
      },
      "source": [
        "### full_log 분석\n",
        "\n",
        "full log는 딕셔너리 형식\n",
        "\n",
        "데이터의 형식이고정되어있지 않아, 위험 키워드를 특정하거나 수치만을 활용하는 방법이 필요하다 판단됨.\n"
      ]
    },
    {
      "cell_type": "code",
      "metadata": {
        "colab": {
          "base_uri": "https://localhost:8080/",
          "height": 282
        },
        "id": "x2cAL8-_B0xa",
        "outputId": "e85aacfe-7c7f-40eb-e0a8-30d112404707"
      },
      "source": [
        "#train full_log의 길이 확인\n",
        "train['full_log'].str.split(' ').str.len().hist(bins=20)"
      ],
      "execution_count": null,
      "outputs": [
        {
          "output_type": "execute_result",
          "data": {
            "text/plain": [
              "<matplotlib.axes._subplots.AxesSubplot at 0x7f36837a0950>"
            ]
          },
          "metadata": {
            "tags": []
          },
          "execution_count": 74
        },
        {
          "output_type": "display_data",
          "data": {
            "image/png": "[encoded data removed]",
            "text/plain": [
              "<Figure size 432x288 with 1 Axes>"
            ]
          },
          "metadata": {
            "tags": [],
            "needs_background": "light"
          }
        }
      ]
    },
    {
      "cell_type": "code",
      "metadata": {
        "colab": {
          "base_uri": "https://localhost:8080/"
        },
        "id": "V1xvmHvAB-UI",
        "outputId": "721a7240-d423-4c11-98cc-eb15800caf37"
      },
      "source": [
        "#train level별 값 확인\n",
        "train['level'].value_counts()"
      ],
      "execution_count": null,
      "outputs": [
        {
          "output_type": "execute_result",
          "data": {
            "text/plain": [
              "0    334065\n",
              "1    132517\n",
              "3      4141\n",
              "5      2219\n",
              "2        12\n",
              "4        10\n",
              "6         8\n",
              "Name: level, dtype: int64"
            ]
          },
          "metadata": {
            "tags": []
          },
          "execution_count": 75
        }
      ]
    },
    {
      "cell_type": "markdown",
      "metadata": {
        "id": "j9Kpn4NbCBke"
      },
      "source": [
        "### 분포분석\n",
        "\n",
        "보안위험이 0 인 분포의 비율이 70%이므로 분포의 가중치를 유의하여 모델에 적용해야함"
      ]
    },
    {
      "cell_type": "markdown",
      "metadata": {
        "id": "_cDKvmX1DyDo"
      },
      "source": [
        "\n",
        "\n",
        "---\n",
        "\n"
      ]
    },
    {
      "cell_type": "markdown",
      "metadata": {
        "id": "-4UYFG_wDzuy"
      },
      "source": [
        "# 데이터전처리 및 모델링"
      ]
    },
    {
      "cell_type": "markdown",
      "metadata": {
        "id": "EzZSIuRSmulY"
      },
      "source": [
        "## 머신러닝"
      ]
    },
    {
      "cell_type": "markdown",
      "metadata": {
        "id": "3NhOELGJEHVZ"
      },
      "source": [
        "### 방법1) 숫자를 마스킹 처리한 뒤, CountVectorizer 처리 후 randomforest"
      ]
    },
    {
      "cell_type": "code",
      "metadata": {
        "id": "54CiXSwHSXZP"
      },
      "source": [
        "train_1 = train"
      ],
      "execution_count": null,
      "outputs": []
    },
    {
      "cell_type": "code",
      "metadata": {
        "id": "OrIvOu5tF29k"
      },
      "source": [
        "#full_log에서 숫자는 마스킹 처리\n",
        "train_1['full_log']=train_1['full_log'].str.replace(r'[0-9]', '<num>')"
      ],
      "execution_count": null,
      "outputs": []
    },
    {
      "cell_type": "code",
      "metadata": {
        "id": "tTSTZfOhF-3w"
      },
      "source": [
        "#train['full_log'] => train_text로 list\n",
        "#train['level']=> train_level로 array\n",
        "train_text_1=list(train_1['full_log'])\n",
        "train_level_1=np.array(train_1['level'])"
      ],
      "execution_count": null,
      "outputs": []
    },
    {
      "cell_type": "code",
      "metadata": {
        "id": "gr5M4wDfGEoe"
      },
      "source": [
        "#CountVectorizer로 벡터화\n",
        "from sklearn.feature_extraction.text import CountVectorizer\n",
        "vectorizer=CountVectorizer(analyzer=\"word\", max_features=10000)\n",
        "\n",
        "train_features_1=vectorizer.fit_transform(train_text_1)"
      ],
      "execution_count": null,
      "outputs": []
    },
    {
      "cell_type": "code",
      "metadata": {
        "colab": {
          "base_uri": "https://localhost:8080/"
        },
        "id": "ufKlS2_oG4p4",
        "outputId": "e0fa33e3-07f2-45d1-eb40-25cb7cd71688"
      },
      "source": [
        "train_features_1"
      ],
      "execution_count": null,
      "outputs": [
        {
          "output_type": "execute_result",
          "data": {
            "text/plain": [
              "<472972x13214 sparse matrix of type '<class 'numpy.int64'>'\n",
              "\twith 16455803 stored elements in Compressed Sparse Row format>"
            ]
          },
          "metadata": {
            "tags": []
          },
          "execution_count": 80
        }
      ]
    },
    {
      "cell_type": "code",
      "metadata": {
        "id": "nQntL5FzHEXs"
      },
      "source": [
        "#훈련 데이터 셋과 검증 데이터 셋으로 분리\n",
        "TEST_SIZE=0.2\n",
        "RANDOM_SEED=42\n",
        "\n",
        "x_train_1,x_val_1, y_train_1, y_val_1=train_test_split(train_features_1, train_level_1, test_size=TEST_SIZE, random_state=RANDOM_SEED)\n"
      ],
      "execution_count": null,
      "outputs": []
    },
    {
      "cell_type": "code",
      "metadata": {
        "colab": {
          "base_uri": "https://localhost:8080/"
        },
        "id": "D71EjwI1HNr4",
        "outputId": "cd8ee0c8-f169-499b-c191-fc99ff968d18"
      },
      "source": [
        "#랜덤포레스트로 모델링\n",
        "from sklearn.ensemble import RandomForestClassifier\n",
        "\n",
        "model_1=RandomForestClassifier(n_estimators=100)\n",
        "\n",
        "model_1.fit(x_train_1, y_train_1)"
      ],
      "execution_count": null,
      "outputs": [
        {
          "output_type": "execute_result",
          "data": {
            "text/plain": [
              "RandomForestClassifier(bootstrap=True, ccp_alpha=0.0, class_weight=None,\n",
              "                       criterion='gini', max_depth=None, max_features='auto',\n",
              "                       max_leaf_nodes=None, max_samples=None,\n",
              "                       min_impurity_decrease=0.0, min_impurity_split=None,\n",
              "                       min_samples_leaf=1, min_samples_split=2,\n",
              "                       min_weight_fraction_leaf=0.0, n_estimators=100,\n",
              "                       n_jobs=None, oob_score=False, random_state=None,\n",
              "                       verbose=0, warm_start=False)"
            ]
          },
          "metadata": {
            "tags": []
          },
          "execution_count": 83
        }
      ]
    },
    {
      "cell_type": "code",
      "metadata": {
        "colab": {
          "base_uri": "https://localhost:8080/"
        },
        "id": "AeLDq6g_HVUL",
        "outputId": "9ee26f03-84ef-408a-bb7d-b928ec0a507e"
      },
      "source": [
        "#모델 검증\n",
        "model_1.score(x_val_1, y_val_1)"
      ],
      "execution_count": null,
      "outputs": [
        {
          "output_type": "execute_result",
          "data": {
            "text/plain": [
              "0.9979280088799619"
            ]
          },
          "metadata": {
            "tags": []
          },
          "execution_count": 84
        }
      ]
    },
    {
      "cell_type": "code",
      "metadata": {
        "colab": {
          "base_uri": "https://localhost:8080/",
          "height": 295
        },
        "id": "fnQlTJR5Hfwa",
        "outputId": "2e78185d-cadc-430d-eb02-2f4ff9303f5e"
      },
      "source": [
        "#crosstab으로 확인\n",
        "pred_1=model_1.predict(x_val_1)\n",
        "crosstab_1 = pd.crosstab(y_val_1, pred_1, rownames=['real'], colnames=['pred'])\n",
        "crosstab_1"
      ],
      "execution_count": null,
      "outputs": [
        {
          "output_type": "execute_result",
          "data": {
            "text/html": [
              "<div>\n",
              "<style scoped>\n",
              "    .dataframe tbody tr th:only-of-type {\n",
              "        vertical-align: middle;\n",
              "    }\n",
              "\n",
              "    .dataframe tbody tr th {\n",
              "        vertical-align: top;\n",
              "    }\n",
              "\n",
              "    .dataframe thead th {\n",
              "        text-align: right;\n",
              "    }\n",
              "</style>\n",
              "<table border=\"1\" class=\"dataframe\">\n",
              "  <thead>\n",
              "    <tr style=\"text-align: right;\">\n",
              "      <th>pred</th>\n",
              "      <th>0</th>\n",
              "      <th>1</th>\n",
              "      <th>2</th>\n",
              "      <th>3</th>\n",
              "      <th>4</th>\n",
              "      <th>5</th>\n",
              "    </tr>\n",
              "    <tr>\n",
              "      <th>real</th>\n",
              "      <th></th>\n",
              "      <th></th>\n",
              "      <th></th>\n",
              "      <th></th>\n",
              "      <th></th>\n",
              "      <th></th>\n",
              "    </tr>\n",
              "  </thead>\n",
              "  <tbody>\n",
              "    <tr>\n",
              "      <th>0</th>\n",
              "      <td>66728</td>\n",
              "      <td>56</td>\n",
              "      <td>0</td>\n",
              "      <td>0</td>\n",
              "      <td>0</td>\n",
              "      <td>2</td>\n",
              "    </tr>\n",
              "    <tr>\n",
              "      <th>1</th>\n",
              "      <td>117</td>\n",
              "      <td>26429</td>\n",
              "      <td>0</td>\n",
              "      <td>0</td>\n",
              "      <td>0</td>\n",
              "      <td>1</td>\n",
              "    </tr>\n",
              "    <tr>\n",
              "      <th>2</th>\n",
              "      <td>0</td>\n",
              "      <td>0</td>\n",
              "      <td>2</td>\n",
              "      <td>0</td>\n",
              "      <td>0</td>\n",
              "      <td>0</td>\n",
              "    </tr>\n",
              "    <tr>\n",
              "      <th>3</th>\n",
              "      <td>1</td>\n",
              "      <td>1</td>\n",
              "      <td>0</td>\n",
              "      <td>799</td>\n",
              "      <td>0</td>\n",
              "      <td>0</td>\n",
              "    </tr>\n",
              "    <tr>\n",
              "      <th>4</th>\n",
              "      <td>0</td>\n",
              "      <td>0</td>\n",
              "      <td>0</td>\n",
              "      <td>0</td>\n",
              "      <td>3</td>\n",
              "      <td>0</td>\n",
              "    </tr>\n",
              "    <tr>\n",
              "      <th>5</th>\n",
              "      <td>12</td>\n",
              "      <td>3</td>\n",
              "      <td>0</td>\n",
              "      <td>0</td>\n",
              "      <td>0</td>\n",
              "      <td>438</td>\n",
              "    </tr>\n",
              "    <tr>\n",
              "      <th>6</th>\n",
              "      <td>1</td>\n",
              "      <td>0</td>\n",
              "      <td>0</td>\n",
              "      <td>2</td>\n",
              "      <td>0</td>\n",
              "      <td>0</td>\n",
              "    </tr>\n",
              "  </tbody>\n",
              "</table>\n",
              "</div>"
            ],
            "text/plain": [
              "pred      0      1  2    3  4    5\n",
              "real                              \n",
              "0     66728     56  0    0  0    2\n",
              "1       117  26429  0    0  0    1\n",
              "2         0      0  2    0  0    0\n",
              "3         1      1  0  799  0    0\n",
              "4         0      0  0    0  3    0\n",
              "5        12      3  0    0  0  438\n",
              "6         1      0  0    2  0    0"
            ]
          },
          "metadata": {
            "tags": []
          },
          "execution_count": 85
        }
      ]
    },
    {
      "cell_type": "code",
      "metadata": {
        "colab": {
          "base_uri": "https://localhost:8080/"
        },
        "id": "ehX4Ar7YTHPS",
        "outputId": "2ab6918a-ebfb-408e-b034-c893af8b5bec"
      },
      "source": [
        "from sklearn import metrics\n",
        "metrics.f1_score(y_val_1, pred_1, average='macro')"
      ],
      "execution_count": null,
      "outputs": [
        {
          "output_type": "execute_result",
          "data": {
            "text/plain": [
              "0.8532283553877571"
            ]
          },
          "metadata": {
            "tags": []
          },
          "execution_count": 86
        }
      ]
    },
    {
      "cell_type": "markdown",
      "metadata": {
        "id": "EDh3qUOskGlX"
      },
      "source": [
        "### 방법2) 숫자를 마스킹 처리한 뒤, TfidfVectorizer 처리 후 randomforest"
      ]
    },
    {
      "cell_type": "code",
      "metadata": {
        "id": "V5tM3CaKlCtH"
      },
      "source": [
        "train_2 = train"
      ],
      "execution_count": 104,
      "outputs": []
    },
    {
      "cell_type": "code",
      "metadata": {
        "id": "7f5-ESrolEow"
      },
      "source": [
        "train_2['full_log']=train_2['full_log'].str.replace(r'[0-9]', '<num>')"
      ],
      "execution_count": 105,
      "outputs": []
    },
    {
      "cell_type": "code",
      "metadata": {
        "id": "FSQWfSZUlOgY"
      },
      "source": [
        "# Tfidf 기반 피쳐 벡터화 변환\n",
        "tfidf_vec = TfidfVectorizer(min_df=0,ngram_range=(2,2),max_features=10000)\n",
        "train_text_2 = tfidf_vec.fit_transform(train_2['full_log'])\n",
        "train_level_2=np.array(train_2['level'])\n"
      ],
      "execution_count": 106,
      "outputs": []
    },
    {
      "cell_type": "code",
      "metadata": {
        "id": "IB-QMLpDlkpp"
      },
      "source": [
        "TEST_SIZE=0.2\n",
        "RANDOM_SEED=42\n",
        "\n",
        "x_train_2,x_val_2, y_train_2, y_val_2=train_test_split(train_text_2, train_level_2, test_size=TEST_SIZE, random_state=RANDOM_SEED)"
      ],
      "execution_count": 107,
      "outputs": []
    },
    {
      "cell_type": "code",
      "metadata": {
        "colab": {
          "base_uri": "https://localhost:8080/"
        },
        "id": "Td36hjXbl-XE",
        "outputId": "35d5eb9f-0f1c-4e3b-f1b8-9335e0387470"
      },
      "source": [
        "from sklearn.ensemble import RandomForestClassifier\n",
        "\n",
        "model_2=RandomForestClassifier(n_estimators=100)\n",
        "\n",
        "model_2.fit(x_train_2, y_train_2)"
      ],
      "execution_count": 108,
      "outputs": [
        {
          "output_type": "execute_result",
          "data": {
            "text/plain": [
              "RandomForestClassifier(bootstrap=True, ccp_alpha=0.0, class_weight=None,\n",
              "                       criterion='gini', max_depth=None, max_features='auto',\n",
              "                       max_leaf_nodes=None, max_samples=None,\n",
              "                       min_impurity_decrease=0.0, min_impurity_split=None,\n",
              "                       min_samples_leaf=1, min_samples_split=2,\n",
              "                       min_weight_fraction_leaf=0.0, n_estimators=100,\n",
              "                       n_jobs=None, oob_score=False, random_state=None,\n",
              "                       verbose=0, warm_start=False)"
            ]
          },
          "metadata": {
            "tags": []
          },
          "execution_count": 108
        }
      ]
    },
    {
      "cell_type": "code",
      "metadata": {
        "colab": {
          "base_uri": "https://localhost:8080/"
        },
        "id": "zDNtnvUWmVAC",
        "outputId": "6d87f50d-d6a4-4b58-8ba4-1b770df554dd"
      },
      "source": [
        "#방법2의 vectorize 이 더 우수한걸로 파악됨\n",
        "\n",
        "model_2.score(x_val_2, y_val_2)"
      ],
      "execution_count": 109,
      "outputs": [
        {
          "output_type": "execute_result",
          "data": {
            "text/plain": [
              "0.9979491516464929"
            ]
          },
          "metadata": {
            "tags": []
          },
          "execution_count": 109
        }
      ]
    },
    {
      "cell_type": "code",
      "metadata": {
        "colab": {
          "base_uri": "https://localhost:8080/",
          "height": 297
        },
        "id": "yb8K6HzPmXzT",
        "outputId": "f4e295a8-af00-46c3-ff72-618a85d8d190"
      },
      "source": [
        "#crosstab으로 확인\n",
        "pred_2=model_2.predict(x_val_2)\n",
        "crosstab_2 = pd.crosstab(y_val_2, pred_2, rownames=['real'], colnames=['pred'])\n",
        "crosstab_2"
      ],
      "execution_count": 110,
      "outputs": [
        {
          "output_type": "execute_result",
          "data": {
            "text/html": [
              "<div>\n",
              "<style scoped>\n",
              "    .dataframe tbody tr th:only-of-type {\n",
              "        vertical-align: middle;\n",
              "    }\n",
              "\n",
              "    .dataframe tbody tr th {\n",
              "        vertical-align: top;\n",
              "    }\n",
              "\n",
              "    .dataframe thead th {\n",
              "        text-align: right;\n",
              "    }\n",
              "</style>\n",
              "<table border=\"1\" class=\"dataframe\">\n",
              "  <thead>\n",
              "    <tr style=\"text-align: right;\">\n",
              "      <th>pred</th>\n",
              "      <th>0</th>\n",
              "      <th>1</th>\n",
              "      <th>2</th>\n",
              "      <th>3</th>\n",
              "      <th>4</th>\n",
              "      <th>5</th>\n",
              "    </tr>\n",
              "    <tr>\n",
              "      <th>real</th>\n",
              "      <th></th>\n",
              "      <th></th>\n",
              "      <th></th>\n",
              "      <th></th>\n",
              "      <th></th>\n",
              "      <th></th>\n",
              "    </tr>\n",
              "  </thead>\n",
              "  <tbody>\n",
              "    <tr>\n",
              "      <th>0</th>\n",
              "      <td>66737</td>\n",
              "      <td>48</td>\n",
              "      <td>0</td>\n",
              "      <td>0</td>\n",
              "      <td>0</td>\n",
              "      <td>1</td>\n",
              "    </tr>\n",
              "    <tr>\n",
              "      <th>1</th>\n",
              "      <td>123</td>\n",
              "      <td>26423</td>\n",
              "      <td>0</td>\n",
              "      <td>0</td>\n",
              "      <td>0</td>\n",
              "      <td>1</td>\n",
              "    </tr>\n",
              "    <tr>\n",
              "      <th>2</th>\n",
              "      <td>0</td>\n",
              "      <td>0</td>\n",
              "      <td>2</td>\n",
              "      <td>0</td>\n",
              "      <td>0</td>\n",
              "      <td>0</td>\n",
              "    </tr>\n",
              "    <tr>\n",
              "      <th>3</th>\n",
              "      <td>1</td>\n",
              "      <td>1</td>\n",
              "      <td>0</td>\n",
              "      <td>799</td>\n",
              "      <td>0</td>\n",
              "      <td>0</td>\n",
              "    </tr>\n",
              "    <tr>\n",
              "      <th>4</th>\n",
              "      <td>0</td>\n",
              "      <td>0</td>\n",
              "      <td>0</td>\n",
              "      <td>0</td>\n",
              "      <td>3</td>\n",
              "      <td>0</td>\n",
              "    </tr>\n",
              "    <tr>\n",
              "      <th>5</th>\n",
              "      <td>14</td>\n",
              "      <td>2</td>\n",
              "      <td>0</td>\n",
              "      <td>0</td>\n",
              "      <td>0</td>\n",
              "      <td>437</td>\n",
              "    </tr>\n",
              "    <tr>\n",
              "      <th>6</th>\n",
              "      <td>1</td>\n",
              "      <td>0</td>\n",
              "      <td>0</td>\n",
              "      <td>2</td>\n",
              "      <td>0</td>\n",
              "      <td>0</td>\n",
              "    </tr>\n",
              "  </tbody>\n",
              "</table>\n",
              "</div>"
            ],
            "text/plain": [
              "pred      0      1  2    3  4    5\n",
              "real                              \n",
              "0     66737     48  0    0  0    1\n",
              "1       123  26423  0    0  0    1\n",
              "2         0      0  2    0  0    0\n",
              "3         1      1  0  799  0    0\n",
              "4         0      0  0    0  3    0\n",
              "5        14      2  0    0  0  437\n",
              "6         1      0  0    2  0    0"
            ]
          },
          "metadata": {
            "tags": []
          },
          "execution_count": 110
        }
      ]
    },
    {
      "cell_type": "markdown",
      "metadata": {
        "id": "6c2IkNLnTz4x"
      },
      "source": [
        "\n",
        "\n",
        "---\n",
        "\n"
      ]
    },
    {
      "cell_type": "markdown",
      "metadata": {
        "id": "SuJSzeKZPh0D"
      },
      "source": [
        "### 방법3) 숫자를 마스킹 처리한 뒤, TfidfVectorizer 처리 후 XGBClassifier"
      ]
    },
    {
      "cell_type": "code",
      "metadata": {
        "id": "N7MrRdshT6xf"
      },
      "source": [
        "train_3 = train"
      ],
      "execution_count": null,
      "outputs": []
    },
    {
      "cell_type": "code",
      "metadata": {
        "id": "zYnyUQwKntfA"
      },
      "source": [
        "train_3['full_log']=train_3['full_log'].str.replace(r'[0-9]', '<num>')"
      ],
      "execution_count": null,
      "outputs": []
    },
    {
      "cell_type": "code",
      "metadata": {
        "id": "IpBSzuTPPxGj"
      },
      "source": [
        "from sklearn.feature_extraction.text import TfidfVectorizer\n",
        "from xgboost import XGBClassifier"
      ],
      "execution_count": null,
      "outputs": []
    },
    {
      "cell_type": "code",
      "metadata": {
        "id": "ref0v4FBP40S"
      },
      "source": [
        "# Tfidf 기반 피쳐 벡터화 변환\n",
        "tfidf_vec = TfidfVectorizer(min_df=0,ngram_range=(2,2),max_features=10000)\n",
        "train_text_3 = tfidf_vec.fit_transform(train_3['full_log'])"
      ],
      "execution_count": null,
      "outputs": []
    },
    {
      "cell_type": "code",
      "metadata": {
        "id": "dJsnV1TCQNp6"
      },
      "source": [
        "train_level_3=np.array(train_3['level'])\n",
        "x_train_3, x_val_3, y_train_3, y_val_3 = train_test_split(train_text_3, train_level_3, test_size=0.2, stratify=train_level_3, random_state = 42)"
      ],
      "execution_count": null,
      "outputs": []
    },
    {
      "cell_type": "code",
      "metadata": {
        "colab": {
          "base_uri": "https://localhost:8080/"
        },
        "id": "PW1tS5EkQbIp",
        "outputId": "60d044d7-3c73-4ae1-d689-f737e71e4ba4"
      },
      "source": [
        "# XGBClassifier\n",
        "\n",
        "model_3 = XGBClassifier(booster='gbtree', \n",
        "                    colsample_bylevel=0.8, \n",
        "                    colsample_bytree=0.7, \n",
        "                    gamma=0, \n",
        "                    max_depth=5, learning_rate=0.15,\n",
        "                    n_estimators=100, \n",
        "                    nthread=4,\n",
        "                    objective = 'multi:softmax',\n",
        "                    silent= False,\n",
        "                    random_state = 42)\n",
        "\n",
        "model_3.fit(x_train_3, y_train_3, eval_set=[(x_val_3, y_val_3)],\n",
        "             early_stopping_rounds=10)\n",
        "model_3.score(x_val_3, y_val_3)\n"
      ],
      "execution_count": null,
      "outputs": [
        {
          "output_type": "stream",
          "text": [
            "[0]\tvalidation_0-merror:0.002833\n",
            "Will train until validation_0-merror hasn't improved in 10 rounds.\n",
            "[1]\tvalidation_0-merror:0.002336\n",
            "[2]\tvalidation_0-merror:0.002326\n",
            "[3]\tvalidation_0-merror:0.002315\n",
            "[4]\tvalidation_0-merror:0.002231\n",
            "[5]\tvalidation_0-merror:0.002241\n",
            "[6]\tvalidation_0-merror:0.00222\n",
            "[7]\tvalidation_0-merror:0.00222\n",
            "[8]\tvalidation_0-merror:0.00222\n",
            "[9]\tvalidation_0-merror:0.002199\n",
            "[10]\tvalidation_0-merror:0.002178\n",
            "[11]\tvalidation_0-merror:0.002178\n",
            "[12]\tvalidation_0-merror:0.002188\n",
            "[13]\tvalidation_0-merror:0.002188\n",
            "[14]\tvalidation_0-merror:0.002178\n",
            "[15]\tvalidation_0-merror:0.002167\n",
            "[16]\tvalidation_0-merror:0.002167\n",
            "[17]\tvalidation_0-merror:0.002167\n",
            "[18]\tvalidation_0-merror:0.002167\n",
            "[19]\tvalidation_0-merror:0.002093\n",
            "[20]\tvalidation_0-merror:0.002157\n",
            "[21]\tvalidation_0-merror:0.002093\n",
            "[22]\tvalidation_0-merror:0.002093\n",
            "[23]\tvalidation_0-merror:0.002083\n",
            "[24]\tvalidation_0-merror:0.00204\n",
            "[25]\tvalidation_0-merror:0.001998\n",
            "[26]\tvalidation_0-merror:0.001956\n",
            "[27]\tvalidation_0-merror:0.001956\n",
            "[28]\tvalidation_0-merror:0.001966\n",
            "[29]\tvalidation_0-merror:0.001977\n",
            "[30]\tvalidation_0-merror:0.001977\n",
            "[31]\tvalidation_0-merror:0.001966\n",
            "[32]\tvalidation_0-merror:0.001966\n",
            "[33]\tvalidation_0-merror:0.001956\n",
            "[34]\tvalidation_0-merror:0.001956\n",
            "[35]\tvalidation_0-merror:0.001956\n",
            "[36]\tvalidation_0-merror:0.001956\n",
            "Stopping. Best iteration:\n",
            "[26]\tvalidation_0-merror:0.001956\n",
            "\n"
          ],
          "name": "stdout"
        },
        {
          "output_type": "execute_result",
          "data": {
            "text/plain": [
              "0.9980442940958825"
            ]
          },
          "metadata": {
            "tags": []
          },
          "execution_count": 92
        }
      ]
    },
    {
      "cell_type": "code",
      "metadata": {
        "colab": {
          "base_uri": "https://localhost:8080/"
        },
        "id": "qHVRXVS1RWnB",
        "outputId": "850e3793-9423-4dc0-8a5a-91604710aec4"
      },
      "source": [
        "#모델 검증\n",
        "model_3.score(x_val_3, y_val_3)"
      ],
      "execution_count": null,
      "outputs": [
        {
          "output_type": "execute_result",
          "data": {
            "text/plain": [
              "0.9980442940958825"
            ]
          },
          "metadata": {
            "tags": []
          },
          "execution_count": 93
        }
      ]
    },
    {
      "cell_type": "code",
      "metadata": {
        "colab": {
          "base_uri": "https://localhost:8080/",
          "height": 295
        },
        "id": "3xC47pkNQ5Dt",
        "outputId": "f839011c-77b5-4032-e279-af9b220c79e9"
      },
      "source": [
        "#crosstab으로 확인\n",
        "pred_3 = model_3.predict(x_val_3)\n",
        "crosstab_3 = pd.crosstab(y_val_3, pred_3, rownames=['real'], colnames=['pred'])\n",
        "crosstab_3"
      ],
      "execution_count": null,
      "outputs": [
        {
          "output_type": "execute_result",
          "data": {
            "text/html": [
              "<div>\n",
              "<style scoped>\n",
              "    .dataframe tbody tr th:only-of-type {\n",
              "        vertical-align: middle;\n",
              "    }\n",
              "\n",
              "    .dataframe tbody tr th {\n",
              "        vertical-align: top;\n",
              "    }\n",
              "\n",
              "    .dataframe thead th {\n",
              "        text-align: right;\n",
              "    }\n",
              "</style>\n",
              "<table border=\"1\" class=\"dataframe\">\n",
              "  <thead>\n",
              "    <tr style=\"text-align: right;\">\n",
              "      <th>pred</th>\n",
              "      <th>0</th>\n",
              "      <th>1</th>\n",
              "      <th>2</th>\n",
              "      <th>3</th>\n",
              "      <th>4</th>\n",
              "      <th>5</th>\n",
              "      <th>6</th>\n",
              "    </tr>\n",
              "    <tr>\n",
              "      <th>real</th>\n",
              "      <th></th>\n",
              "      <th></th>\n",
              "      <th></th>\n",
              "      <th></th>\n",
              "      <th></th>\n",
              "      <th></th>\n",
              "      <th></th>\n",
              "    </tr>\n",
              "  </thead>\n",
              "  <tbody>\n",
              "    <tr>\n",
              "      <th>0</th>\n",
              "      <td>66813</td>\n",
              "      <td>0</td>\n",
              "      <td>0</td>\n",
              "      <td>0</td>\n",
              "      <td>0</td>\n",
              "      <td>0</td>\n",
              "      <td>0</td>\n",
              "    </tr>\n",
              "    <tr>\n",
              "      <th>1</th>\n",
              "      <td>156</td>\n",
              "      <td>26348</td>\n",
              "      <td>0</td>\n",
              "      <td>0</td>\n",
              "      <td>0</td>\n",
              "      <td>0</td>\n",
              "      <td>0</td>\n",
              "    </tr>\n",
              "    <tr>\n",
              "      <th>2</th>\n",
              "      <td>0</td>\n",
              "      <td>0</td>\n",
              "      <td>2</td>\n",
              "      <td>0</td>\n",
              "      <td>0</td>\n",
              "      <td>0</td>\n",
              "      <td>0</td>\n",
              "    </tr>\n",
              "    <tr>\n",
              "      <th>3</th>\n",
              "      <td>7</td>\n",
              "      <td>0</td>\n",
              "      <td>0</td>\n",
              "      <td>821</td>\n",
              "      <td>0</td>\n",
              "      <td>0</td>\n",
              "      <td>0</td>\n",
              "    </tr>\n",
              "    <tr>\n",
              "      <th>4</th>\n",
              "      <td>0</td>\n",
              "      <td>0</td>\n",
              "      <td>0</td>\n",
              "      <td>0</td>\n",
              "      <td>2</td>\n",
              "      <td>0</td>\n",
              "      <td>0</td>\n",
              "    </tr>\n",
              "    <tr>\n",
              "      <th>5</th>\n",
              "      <td>21</td>\n",
              "      <td>0</td>\n",
              "      <td>0</td>\n",
              "      <td>0</td>\n",
              "      <td>0</td>\n",
              "      <td>423</td>\n",
              "      <td>0</td>\n",
              "    </tr>\n",
              "    <tr>\n",
              "      <th>6</th>\n",
              "      <td>1</td>\n",
              "      <td>0</td>\n",
              "      <td>0</td>\n",
              "      <td>0</td>\n",
              "      <td>0</td>\n",
              "      <td>0</td>\n",
              "      <td>1</td>\n",
              "    </tr>\n",
              "  </tbody>\n",
              "</table>\n",
              "</div>"
            ],
            "text/plain": [
              "pred      0      1  2    3  4    5  6\n",
              "real                                 \n",
              "0     66813      0  0    0  0    0  0\n",
              "1       156  26348  0    0  0    0  0\n",
              "2         0      0  2    0  0    0  0\n",
              "3         7      0  0  821  0    0  0\n",
              "4         0      0  0    0  2    0  0\n",
              "5        21      0  0    0  0  423  0\n",
              "6         1      0  0    0  0    0  1"
            ]
          },
          "metadata": {
            "tags": []
          },
          "execution_count": 94
        }
      ]
    },
    {
      "cell_type": "code",
      "metadata": {
        "colab": {
          "base_uri": "https://localhost:8080/"
        },
        "id": "rr7hvrs-RBLQ",
        "outputId": "62aa92fe-a0df-4fa5-8518-5e54194fd68c"
      },
      "source": [
        "from sklearn import metrics\n",
        "metrics.f1_score(y_val_3, pred_3, average='macro')"
      ],
      "execution_count": null,
      "outputs": [
        {
          "output_type": "execute_result",
          "data": {
            "text/plain": [
              "0.947695147264075"
            ]
          },
          "metadata": {
            "tags": []
          },
          "execution_count": 66
        }
      ]
    },
    {
      "cell_type": "markdown",
      "metadata": {
        "id": "qMSKlxTFZO9c"
      },
      "source": [
        "### 방법4) 숫자를 마스킹 처리한 뒤, TfidfVectorizer 처리 후 LGBMClassifier\n"
      ]
    },
    {
      "cell_type": "code",
      "metadata": {
        "id": "k3Pl1rDMdmMx"
      },
      "source": [
        "train_4 = train"
      ],
      "execution_count": 95,
      "outputs": []
    },
    {
      "cell_type": "code",
      "metadata": {
        "id": "ms9ReakPnwKC"
      },
      "source": [
        "train_4['full_log']=train_4['full_log'].str.replace(r'[0-9]', '<num>')"
      ],
      "execution_count": null,
      "outputs": []
    },
    {
      "cell_type": "code",
      "metadata": {
        "colab": {
          "base_uri": "https://localhost:8080/"
        },
        "id": "QMFNcfw6drkd",
        "outputId": "8b78bf04-c651-4ec7-b67b-0f6c2e38ab99"
      },
      "source": [
        "!pip install lightgbm"
      ],
      "execution_count": 96,
      "outputs": [
        {
          "output_type": "stream",
          "text": [
            "Requirement already satisfied: lightgbm in /usr/local/lib/python3.7/dist-packages (2.2.3)\n",
            "Requirement already satisfied: scikit-learn in /usr/local/lib/python3.7/dist-packages (from lightgbm) (0.22.2.post1)\n",
            "Requirement already satisfied: scipy in /usr/local/lib/python3.7/dist-packages (from lightgbm) (1.4.1)\n",
            "Requirement already satisfied: numpy in /usr/local/lib/python3.7/dist-packages (from lightgbm) (1.19.5)\n",
            "Requirement already satisfied: joblib>=0.11 in /usr/local/lib/python3.7/dist-packages (from scikit-learn->lightgbm) (1.0.1)\n"
          ],
          "name": "stdout"
        }
      ]
    },
    {
      "cell_type": "code",
      "metadata": {
        "id": "J70teRLEdt0t"
      },
      "source": [
        "from lightgbm import LGBMClassifier"
      ],
      "execution_count": 97,
      "outputs": []
    },
    {
      "cell_type": "code",
      "metadata": {
        "id": "VbLwhSZFdyYQ"
      },
      "source": [
        "# Tfidf 기반 피쳐 벡터화 변환\n",
        "tfidf_vec = TfidfVectorizer(min_df=0,ngram_range=(2,2),max_features=10000)\n",
        "train_text_4 = tfidf_vec.fit_transform(train_4['full_log'])"
      ],
      "execution_count": 98,
      "outputs": []
    },
    {
      "cell_type": "code",
      "metadata": {
        "id": "9edyPq3ad3PO"
      },
      "source": [
        "train_level_4=np.array(train_4['level'])\n",
        "x_train_4, x_val_4, y_train_4, y_val_4 = train_test_split(train_text_4, train_level_4, test_size=0.2, stratify=train_level_4, random_state = 42)"
      ],
      "execution_count": 100,
      "outputs": []
    },
    {
      "cell_type": "code",
      "metadata": {
        "colab": {
          "base_uri": "https://localhost:8080/"
        },
        "id": "Ifd_2nrkd_A-",
        "outputId": "5469f6c6-a561-4f46-d5dd-6669a9ec9283"
      },
      "source": [
        "# LGBMClassifier\n",
        "\n",
        "model_4 = LGBMClassifier(n_estimators=3000, learning_rate=0.03, random_state=42, reg_lambda=0.3)\n",
        "\n",
        "model_4.fit(x_train_4, y_train_4, eval_set=[(x_val_4, y_val_4)],\n",
        "             early_stopping_rounds=10)\n",
        "model_4.score(x_val_4, y_val_4)\n"
      ],
      "execution_count": 101,
      "outputs": [
        {
          "output_type": "stream",
          "text": [
            "[1]\tvalid_0's multi_logloss: 0.613199\n",
            "Training until validation scores don't improve for 10 rounds.\n",
            "[2]\tvalid_0's multi_logloss: 0.582565\n",
            "[3]\tvalid_0's multi_logloss: 0.554945\n",
            "[4]\tvalid_0's multi_logloss: 0.529655\n",
            "[5]\tvalid_0's multi_logloss: 0.50627\n",
            "[6]\tvalid_0's multi_logloss: 0.48453\n",
            "[7]\tvalid_0's multi_logloss: 0.464212\n",
            "[8]\tvalid_0's multi_logloss: 0.445162\n",
            "[9]\tvalid_0's multi_logloss: 0.427252\n",
            "[10]\tvalid_0's multi_logloss: 0.410368\n",
            "[11]\tvalid_0's multi_logloss: 0.394414\n",
            "[12]\tvalid_0's multi_logloss: 0.379305\n",
            "[13]\tvalid_0's multi_logloss: 0.364981\n",
            "[14]\tvalid_0's multi_logloss: 0.351374\n",
            "[15]\tvalid_0's multi_logloss: 0.338432\n",
            "[16]\tvalid_0's multi_logloss: 0.326104\n",
            "[17]\tvalid_0's multi_logloss: 0.314352\n",
            "[18]\tvalid_0's multi_logloss: 0.303135\n",
            "[19]\tvalid_0's multi_logloss: 0.29242\n",
            "[20]\tvalid_0's multi_logloss: 0.282174\n",
            "[21]\tvalid_0's multi_logloss: 0.272368\n",
            "[22]\tvalid_0's multi_logloss: 0.262978\n",
            "[23]\tvalid_0's multi_logloss: 0.253984\n",
            "[24]\tvalid_0's multi_logloss: 0.24536\n",
            "[25]\tvalid_0's multi_logloss: 0.237086\n",
            "[26]\tvalid_0's multi_logloss: 0.229142\n",
            "[27]\tvalid_0's multi_logloss: 0.221516\n",
            "[28]\tvalid_0's multi_logloss: 0.21419\n",
            "[29]\tvalid_0's multi_logloss: 0.207146\n",
            "[30]\tvalid_0's multi_logloss: 0.200371\n",
            "[31]\tvalid_0's multi_logloss: 0.193855\n",
            "[32]\tvalid_0's multi_logloss: 0.187584\n",
            "[33]\tvalid_0's multi_logloss: 0.181546\n",
            "[34]\tvalid_0's multi_logloss: 0.175733\n",
            "[35]\tvalid_0's multi_logloss: 0.170132\n",
            "[36]\tvalid_0's multi_logloss: 0.164736\n",
            "[37]\tvalid_0's multi_logloss: 0.159533\n",
            "[38]\tvalid_0's multi_logloss: 0.154515\n",
            "[39]\tvalid_0's multi_logloss: 0.149678\n",
            "[40]\tvalid_0's multi_logloss: 0.145011\n",
            "[41]\tvalid_0's multi_logloss: 0.140508\n",
            "[42]\tvalid_0's multi_logloss: 0.136163\n",
            "[43]\tvalid_0's multi_logloss: 0.131969\n",
            "[44]\tvalid_0's multi_logloss: 0.127919\n",
            "[45]\tvalid_0's multi_logloss: 0.124008\n",
            "[46]\tvalid_0's multi_logloss: 0.120231\n",
            "[47]\tvalid_0's multi_logloss: 0.116581\n",
            "[48]\tvalid_0's multi_logloss: 0.113053\n",
            "[49]\tvalid_0's multi_logloss: 0.109645\n",
            "[50]\tvalid_0's multi_logloss: 0.106352\n",
            "[51]\tvalid_0's multi_logloss: 0.103169\n",
            "[52]\tvalid_0's multi_logloss: 0.100092\n",
            "[53]\tvalid_0's multi_logloss: 0.0971164\n",
            "[54]\tvalid_0's multi_logloss: 0.0942389\n",
            "[55]\tvalid_0's multi_logloss: 0.0914558\n",
            "[56]\tvalid_0's multi_logloss: 0.0887642\n",
            "[57]\tvalid_0's multi_logloss: 0.0861604\n",
            "[58]\tvalid_0's multi_logloss: 0.0836417\n",
            "[59]\tvalid_0's multi_logloss: 0.0812041\n",
            "[60]\tvalid_0's multi_logloss: 0.0788455\n",
            "[61]\tvalid_0's multi_logloss: 0.0765632\n",
            "[62]\tvalid_0's multi_logloss: 0.0743543\n",
            "[63]\tvalid_0's multi_logloss: 0.0722164\n",
            "[64]\tvalid_0's multi_logloss: 0.0701467\n",
            "[65]\tvalid_0's multi_logloss: 0.0681439\n",
            "[66]\tvalid_0's multi_logloss: 0.0662026\n",
            "[67]\tvalid_0's multi_logloss: 0.0643251\n",
            "[68]\tvalid_0's multi_logloss: 0.0625066\n",
            "[69]\tvalid_0's multi_logloss: 0.0607445\n",
            "[70]\tvalid_0's multi_logloss: 0.0590393\n",
            "[71]\tvalid_0's multi_logloss: 0.0573875\n",
            "[72]\tvalid_0's multi_logloss: 0.0557879\n",
            "[73]\tvalid_0's multi_logloss: 0.0542382\n",
            "[74]\tvalid_0's multi_logloss: 0.0527365\n",
            "[75]\tvalid_0's multi_logloss: 0.0512823\n",
            "[76]\tvalid_0's multi_logloss: 0.0498729\n",
            "[77]\tvalid_0's multi_logloss: 0.0485077\n",
            "[78]\tvalid_0's multi_logloss: 0.0471847\n",
            "[79]\tvalid_0's multi_logloss: 0.0459039\n",
            "[80]\tvalid_0's multi_logloss: 0.0446633\n",
            "[81]\tvalid_0's multi_logloss: 0.043458\n",
            "[82]\tvalid_0's multi_logloss: 0.0422921\n",
            "[83]\tvalid_0's multi_logloss: 0.0411612\n",
            "[84]\tvalid_0's multi_logloss: 0.0400647\n",
            "[85]\tvalid_0's multi_logloss: 0.0390014\n",
            "[86]\tvalid_0's multi_logloss: 0.0379713\n",
            "[87]\tvalid_0's multi_logloss: 0.0369717\n",
            "[88]\tvalid_0's multi_logloss: 0.0360028\n",
            "[89]\tvalid_0's multi_logloss: 0.0350649\n",
            "[90]\tvalid_0's multi_logloss: 0.0341551\n",
            "[91]\tvalid_0's multi_logloss: 0.0332728\n",
            "[92]\tvalid_0's multi_logloss: 0.0324188\n",
            "[93]\tvalid_0's multi_logloss: 0.0315889\n",
            "[94]\tvalid_0's multi_logloss: 0.0307854\n",
            "[95]\tvalid_0's multi_logloss: 0.0300064\n",
            "[96]\tvalid_0's multi_logloss: 0.0292511\n",
            "[97]\tvalid_0's multi_logloss: 0.0285195\n",
            "[98]\tvalid_0's multi_logloss: 0.0278085\n",
            "[99]\tvalid_0's multi_logloss: 0.0271198\n",
            "[100]\tvalid_0's multi_logloss: 0.026452\n",
            "[101]\tvalid_0's multi_logloss: 0.0258036\n",
            "[102]\tvalid_0's multi_logloss: 0.025175\n",
            "[103]\tvalid_0's multi_logloss: 0.0245648\n",
            "[104]\tvalid_0's multi_logloss: 0.0239737\n",
            "[105]\tvalid_0's multi_logloss: 0.0233998\n",
            "[106]\tvalid_0's multi_logloss: 0.022844\n",
            "[107]\tvalid_0's multi_logloss: 0.0223044\n",
            "[108]\tvalid_0's multi_logloss: 0.021781\n",
            "[109]\tvalid_0's multi_logloss: 0.0212744\n",
            "[110]\tvalid_0's multi_logloss: 0.0207823\n",
            "[111]\tvalid_0's multi_logloss: 0.0203049\n",
            "[112]\tvalid_0's multi_logloss: 0.019842\n",
            "[113]\tvalid_0's multi_logloss: 0.0193936\n",
            "[114]\tvalid_0's multi_logloss: 0.0189586\n",
            "[115]\tvalid_0's multi_logloss: 0.0185361\n",
            "[116]\tvalid_0's multi_logloss: 0.0181267\n",
            "[117]\tvalid_0's multi_logloss: 0.0177282\n",
            "[118]\tvalid_0's multi_logloss: 0.0173422\n",
            "[119]\tvalid_0's multi_logloss: 0.0169672\n",
            "[120]\tvalid_0's multi_logloss: 0.0166038\n",
            "[121]\tvalid_0's multi_logloss: 0.0162507\n",
            "[122]\tvalid_0's multi_logloss: 0.0159081\n",
            "[123]\tvalid_0's multi_logloss: 0.015576\n",
            "[124]\tvalid_0's multi_logloss: 0.0152538\n",
            "[125]\tvalid_0's multi_logloss: 0.0149414\n",
            "[126]\tvalid_0's multi_logloss: 0.0146383\n",
            "[127]\tvalid_0's multi_logloss: 0.0143446\n",
            "[128]\tvalid_0's multi_logloss: 0.0140596\n",
            "[129]\tvalid_0's multi_logloss: 0.0137846\n",
            "[130]\tvalid_0's multi_logloss: 0.0135169\n",
            "[131]\tvalid_0's multi_logloss: 0.0132571\n",
            "[132]\tvalid_0's multi_logloss: 0.013006\n",
            "[133]\tvalid_0's multi_logloss: 0.0127617\n",
            "[134]\tvalid_0's multi_logloss: 0.0125248\n",
            "[135]\tvalid_0's multi_logloss: 0.0122937\n",
            "[136]\tvalid_0's multi_logloss: 0.012072\n",
            "[137]\tvalid_0's multi_logloss: 0.0118556\n",
            "[138]\tvalid_0's multi_logloss: 0.0116456\n",
            "[139]\tvalid_0's multi_logloss: 0.0114423\n",
            "[140]\tvalid_0's multi_logloss: 0.0112457\n",
            "[141]\tvalid_0's multi_logloss: 0.0110547\n",
            "[142]\tvalid_0's multi_logloss: 0.0108699\n",
            "[143]\tvalid_0's multi_logloss: 0.0106908\n",
            "[144]\tvalid_0's multi_logloss: 0.0105162\n",
            "[145]\tvalid_0's multi_logloss: 0.0103462\n",
            "[146]\tvalid_0's multi_logloss: 0.0101812\n",
            "[147]\tvalid_0's multi_logloss: 0.0100205\n",
            "[148]\tvalid_0's multi_logloss: 0.00986622\n",
            "[149]\tvalid_0's multi_logloss: 0.00971486\n",
            "[150]\tvalid_0's multi_logloss: 0.00956978\n",
            "[151]\tvalid_0's multi_logloss: 0.00942825\n",
            "[152]\tvalid_0's multi_logloss: 0.0092916\n",
            "[153]\tvalid_0's multi_logloss: 0.00915764\n",
            "[154]\tvalid_0's multi_logloss: 0.00902926\n",
            "[155]\tvalid_0's multi_logloss: 0.0089035\n",
            "[156]\tvalid_0's multi_logloss: 0.00878218\n",
            "[157]\tvalid_0's multi_logloss: 0.00866596\n",
            "[158]\tvalid_0's multi_logloss: 0.00855163\n",
            "[159]\tvalid_0's multi_logloss: 0.00844174\n",
            "[160]\tvalid_0's multi_logloss: 0.00833419\n",
            "[161]\tvalid_0's multi_logloss: 0.00823008\n",
            "[162]\tvalid_0's multi_logloss: 0.00812954\n",
            "[163]\tvalid_0's multi_logloss: 0.00803159\n",
            "[164]\tvalid_0's multi_logloss: 0.00793732\n",
            "[165]\tvalid_0's multi_logloss: 0.00784554\n",
            "[166]\tvalid_0's multi_logloss: 0.00775665\n",
            "[167]\tvalid_0's multi_logloss: 0.00766913\n",
            "[168]\tvalid_0's multi_logloss: 0.0075853\n",
            "[169]\tvalid_0's multi_logloss: 0.00750441\n",
            "[170]\tvalid_0's multi_logloss: 0.007425\n",
            "[171]\tvalid_0's multi_logloss: 0.00734865\n",
            "[172]\tvalid_0's multi_logloss: 0.00727432\n",
            "[173]\tvalid_0's multi_logloss: 0.00720085\n",
            "[174]\tvalid_0's multi_logloss: 0.00713161\n",
            "[175]\tvalid_0's multi_logloss: 0.00706403\n",
            "[176]\tvalid_0's multi_logloss: 0.00699808\n",
            "[177]\tvalid_0's multi_logloss: 0.00693429\n",
            "[178]\tvalid_0's multi_logloss: 0.00687232\n",
            "[179]\tvalid_0's multi_logloss: 0.00681095\n",
            "[180]\tvalid_0's multi_logloss: 0.0067527\n",
            "[181]\tvalid_0's multi_logloss: 0.00669615\n",
            "[182]\tvalid_0's multi_logloss: 0.00664113\n",
            "[183]\tvalid_0's multi_logloss: 0.00658829\n",
            "[184]\tvalid_0's multi_logloss: 0.00653638\n",
            "[185]\tvalid_0's multi_logloss: 0.00648712\n",
            "[186]\tvalid_0's multi_logloss: 0.00643878\n",
            "[187]\tvalid_0's multi_logloss: 0.00639191\n",
            "[188]\tvalid_0's multi_logloss: 0.00634578\n",
            "[189]\tvalid_0's multi_logloss: 0.00630103\n",
            "[190]\tvalid_0's multi_logloss: 0.00625824\n",
            "[191]\tvalid_0's multi_logloss: 0.00621718\n",
            "[192]\tvalid_0's multi_logloss: 0.00617646\n",
            "[193]\tvalid_0's multi_logloss: 0.0061373\n",
            "[194]\tvalid_0's multi_logloss: 0.00609987\n",
            "[195]\tvalid_0's multi_logloss: 0.00606302\n",
            "[196]\tvalid_0's multi_logloss: 0.00602698\n",
            "[197]\tvalid_0's multi_logloss: 0.0059928\n",
            "[198]\tvalid_0's multi_logloss: 0.00595857\n",
            "[199]\tvalid_0's multi_logloss: 0.00592539\n",
            "[200]\tvalid_0's multi_logloss: 0.00589443\n",
            "[201]\tvalid_0's multi_logloss: 0.00586437\n",
            "[202]\tvalid_0's multi_logloss: 0.00583466\n",
            "[203]\tvalid_0's multi_logloss: 0.00580669\n",
            "[204]\tvalid_0's multi_logloss: 0.00577867\n",
            "[205]\tvalid_0's multi_logloss: 0.00575226\n",
            "[206]\tvalid_0's multi_logloss: 0.00572681\n",
            "[207]\tvalid_0's multi_logloss: 0.00570079\n",
            "[208]\tvalid_0's multi_logloss: 0.00567647\n",
            "[209]\tvalid_0's multi_logloss: 0.00565439\n",
            "[210]\tvalid_0's multi_logloss: 0.00563151\n",
            "[211]\tvalid_0's multi_logloss: 0.00560957\n",
            "[212]\tvalid_0's multi_logloss: 0.00558763\n",
            "[213]\tvalid_0's multi_logloss: 0.00556791\n",
            "[214]\tvalid_0's multi_logloss: 0.00554859\n",
            "[215]\tvalid_0's multi_logloss: 0.00552933\n",
            "[216]\tvalid_0's multi_logloss: 0.00551101\n",
            "[217]\tvalid_0's multi_logloss: 0.00549333\n",
            "[218]\tvalid_0's multi_logloss: 0.0054759\n",
            "[219]\tvalid_0's multi_logloss: 0.00545992\n",
            "[220]\tvalid_0's multi_logloss: 0.00544409\n",
            "[221]\tvalid_0's multi_logloss: 0.00542699\n",
            "[222]\tvalid_0's multi_logloss: 0.00541162\n",
            "[223]\tvalid_0's multi_logloss: 0.00539774\n",
            "[224]\tvalid_0's multi_logloss: 0.00538351\n",
            "[225]\tvalid_0's multi_logloss: 0.00536896\n",
            "[226]\tvalid_0's multi_logloss: 0.00535572\n",
            "[227]\tvalid_0's multi_logloss: 0.00534228\n",
            "[228]\tvalid_0's multi_logloss: 0.00533035\n",
            "[229]\tvalid_0's multi_logloss: 0.00531873\n",
            "[230]\tvalid_0's multi_logloss: 0.00530768\n",
            "[231]\tvalid_0's multi_logloss: 0.00529742\n",
            "[232]\tvalid_0's multi_logloss: 0.00528682\n",
            "[233]\tvalid_0's multi_logloss: 0.00527712\n",
            "[234]\tvalid_0's multi_logloss: 0.00526731\n",
            "[235]\tvalid_0's multi_logloss: 0.00525757\n",
            "[236]\tvalid_0's multi_logloss: 0.00524878\n",
            "[237]\tvalid_0's multi_logloss: 0.00524021\n",
            "[238]\tvalid_0's multi_logloss: 0.00523144\n",
            "[239]\tvalid_0's multi_logloss: 0.00522312\n",
            "[240]\tvalid_0's multi_logloss: 0.00521398\n",
            "[241]\tvalid_0's multi_logloss: 0.0052054\n",
            "[242]\tvalid_0's multi_logloss: 0.00519717\n",
            "[243]\tvalid_0's multi_logloss: 0.00518852\n",
            "[244]\tvalid_0's multi_logloss: 0.00518224\n",
            "[245]\tvalid_0's multi_logloss: 0.00517597\n",
            "[246]\tvalid_0's multi_logloss: 0.0051678\n",
            "[247]\tvalid_0's multi_logloss: 0.00516139\n",
            "[248]\tvalid_0's multi_logloss: 0.00515527\n",
            "[249]\tvalid_0's multi_logloss: 0.00514912\n",
            "[250]\tvalid_0's multi_logloss: 0.00514301\n",
            "[251]\tvalid_0's multi_logloss: 0.00513724\n",
            "[252]\tvalid_0's multi_logloss: 0.00513265\n",
            "[253]\tvalid_0's multi_logloss: 0.0051278\n",
            "[254]\tvalid_0's multi_logloss: 0.00512343\n",
            "[255]\tvalid_0's multi_logloss: 0.00511857\n",
            "[256]\tvalid_0's multi_logloss: 0.00511346\n",
            "[257]\tvalid_0's multi_logloss: 0.00510849\n",
            "[258]\tvalid_0's multi_logloss: 0.00510497\n",
            "[259]\tvalid_0's multi_logloss: 0.0051011\n",
            "[260]\tvalid_0's multi_logloss: 0.00509851\n",
            "[261]\tvalid_0's multi_logloss: 0.00509554\n",
            "[262]\tvalid_0's multi_logloss: 0.005093\n",
            "[263]\tvalid_0's multi_logloss: 0.00508908\n",
            "[264]\tvalid_0's multi_logloss: 0.00508653\n",
            "[265]\tvalid_0's multi_logloss: 0.00508509\n",
            "[266]\tvalid_0's multi_logloss: 0.00508286\n",
            "[267]\tvalid_0's multi_logloss: 0.00508047\n",
            "[268]\tvalid_0's multi_logloss: 0.00507877\n",
            "[269]\tvalid_0's multi_logloss: 0.00507707\n",
            "[270]\tvalid_0's multi_logloss: 0.00507636\n",
            "[271]\tvalid_0's multi_logloss: 0.0050741\n",
            "[272]\tvalid_0's multi_logloss: 0.0050719\n",
            "[273]\tvalid_0's multi_logloss: 0.00506951\n",
            "[274]\tvalid_0's multi_logloss: 0.00506846\n",
            "[275]\tvalid_0's multi_logloss: 0.00506761\n",
            "[276]\tvalid_0's multi_logloss: 0.00506705\n",
            "[277]\tvalid_0's multi_logloss: 0.00506536\n",
            "[278]\tvalid_0's multi_logloss: 0.00506513\n",
            "[279]\tvalid_0's multi_logloss: 0.00506444\n",
            "[280]\tvalid_0's multi_logloss: 0.00506312\n",
            "[281]\tvalid_0's multi_logloss: 0.00506427\n",
            "[282]\tvalid_0's multi_logloss: 0.00506369\n",
            "[283]\tvalid_0's multi_logloss: 0.00506332\n",
            "[284]\tvalid_0's multi_logloss: 0.00506258\n",
            "[285]\tvalid_0's multi_logloss: 0.00506286\n",
            "[286]\tvalid_0's multi_logloss: 0.00506259\n",
            "[287]\tvalid_0's multi_logloss: 0.00506243\n",
            "[288]\tvalid_0's multi_logloss: 0.0050632\n",
            "[289]\tvalid_0's multi_logloss: 0.00506361\n",
            "[290]\tvalid_0's multi_logloss: 0.00506258\n",
            "[291]\tvalid_0's multi_logloss: 0.00506277\n",
            "[292]\tvalid_0's multi_logloss: 0.0050616\n",
            "[293]\tvalid_0's multi_logloss: 0.00506307\n",
            "[294]\tvalid_0's multi_logloss: 0.00506282\n",
            "[295]\tvalid_0's multi_logloss: 0.00506329\n",
            "[296]\tvalid_0's multi_logloss: 0.0050636\n",
            "[297]\tvalid_0's multi_logloss: 0.00506429\n",
            "[298]\tvalid_0's multi_logloss: 0.00506418\n",
            "[299]\tvalid_0's multi_logloss: 0.00506454\n",
            "[300]\tvalid_0's multi_logloss: 0.00506569\n",
            "[301]\tvalid_0's multi_logloss: 0.00506669\n",
            "[302]\tvalid_0's multi_logloss: 0.00506672\n",
            "Early stopping, best iteration is:\n",
            "[292]\tvalid_0's multi_logloss: 0.0050616\n"
          ],
          "name": "stdout"
        },
        {
          "output_type": "execute_result",
          "data": {
            "text/plain": [
              "0.9979280088799619"
            ]
          },
          "metadata": {
            "tags": []
          },
          "execution_count": 101
        }
      ]
    },
    {
      "cell_type": "code",
      "metadata": {
        "colab": {
          "base_uri": "https://localhost:8080/",
          "height": 297
        },
        "id": "Qpi6E6_yeXD9",
        "outputId": "64ac0608-8f7d-4393-847b-575ef9599c7f"
      },
      "source": [
        "#crosstab으로 확인\n",
        "pred_4 = model_4.predict(x_val_4)\n",
        "crosstab_4 = pd.crosstab(y_val_4, pred_4, rownames=['real'], colnames=['pred'])\n",
        "crosstab_4"
      ],
      "execution_count": 102,
      "outputs": [
        {
          "output_type": "execute_result",
          "data": {
            "text/html": [
              "<div>\n",
              "<style scoped>\n",
              "    .dataframe tbody tr th:only-of-type {\n",
              "        vertical-align: middle;\n",
              "    }\n",
              "\n",
              "    .dataframe tbody tr th {\n",
              "        vertical-align: top;\n",
              "    }\n",
              "\n",
              "    .dataframe thead th {\n",
              "        text-align: right;\n",
              "    }\n",
              "</style>\n",
              "<table border=\"1\" class=\"dataframe\">\n",
              "  <thead>\n",
              "    <tr style=\"text-align: right;\">\n",
              "      <th>pred</th>\n",
              "      <th>0</th>\n",
              "      <th>1</th>\n",
              "      <th>2</th>\n",
              "      <th>3</th>\n",
              "      <th>4</th>\n",
              "      <th>5</th>\n",
              "      <th>6</th>\n",
              "    </tr>\n",
              "    <tr>\n",
              "      <th>real</th>\n",
              "      <th></th>\n",
              "      <th></th>\n",
              "      <th></th>\n",
              "      <th></th>\n",
              "      <th></th>\n",
              "      <th></th>\n",
              "      <th></th>\n",
              "    </tr>\n",
              "  </thead>\n",
              "  <tbody>\n",
              "    <tr>\n",
              "      <th>0</th>\n",
              "      <td>66787</td>\n",
              "      <td>26</td>\n",
              "      <td>0</td>\n",
              "      <td>0</td>\n",
              "      <td>0</td>\n",
              "      <td>0</td>\n",
              "      <td>0</td>\n",
              "    </tr>\n",
              "    <tr>\n",
              "      <th>1</th>\n",
              "      <td>141</td>\n",
              "      <td>26362</td>\n",
              "      <td>0</td>\n",
              "      <td>0</td>\n",
              "      <td>0</td>\n",
              "      <td>1</td>\n",
              "      <td>0</td>\n",
              "    </tr>\n",
              "    <tr>\n",
              "      <th>2</th>\n",
              "      <td>0</td>\n",
              "      <td>1</td>\n",
              "      <td>1</td>\n",
              "      <td>0</td>\n",
              "      <td>0</td>\n",
              "      <td>0</td>\n",
              "      <td>0</td>\n",
              "    </tr>\n",
              "    <tr>\n",
              "      <th>3</th>\n",
              "      <td>5</td>\n",
              "      <td>0</td>\n",
              "      <td>0</td>\n",
              "      <td>823</td>\n",
              "      <td>0</td>\n",
              "      <td>0</td>\n",
              "      <td>0</td>\n",
              "    </tr>\n",
              "    <tr>\n",
              "      <th>4</th>\n",
              "      <td>0</td>\n",
              "      <td>0</td>\n",
              "      <td>0</td>\n",
              "      <td>1</td>\n",
              "      <td>1</td>\n",
              "      <td>0</td>\n",
              "      <td>0</td>\n",
              "    </tr>\n",
              "    <tr>\n",
              "      <th>5</th>\n",
              "      <td>18</td>\n",
              "      <td>2</td>\n",
              "      <td>0</td>\n",
              "      <td>0</td>\n",
              "      <td>0</td>\n",
              "      <td>424</td>\n",
              "      <td>0</td>\n",
              "    </tr>\n",
              "    <tr>\n",
              "      <th>6</th>\n",
              "      <td>0</td>\n",
              "      <td>1</td>\n",
              "      <td>0</td>\n",
              "      <td>0</td>\n",
              "      <td>0</td>\n",
              "      <td>0</td>\n",
              "      <td>1</td>\n",
              "    </tr>\n",
              "  </tbody>\n",
              "</table>\n",
              "</div>"
            ],
            "text/plain": [
              "pred      0      1  2    3  4    5  6\n",
              "real                                 \n",
              "0     66787     26  0    0  0    0  0\n",
              "1       141  26362  0    0  0    1  0\n",
              "2         0      1  1    0  0    0  0\n",
              "3         5      0  0  823  0    0  0\n",
              "4         0      0  0    1  1    0  0\n",
              "5        18      2  0    0  0  424  0\n",
              "6         0      1  0    0  0    0  1"
            ]
          },
          "metadata": {
            "tags": []
          },
          "execution_count": 102
        }
      ]
    },
    {
      "cell_type": "code",
      "metadata": {
        "colab": {
          "base_uri": "https://localhost:8080/"
        },
        "id": "YwicKqFReewt",
        "outputId": "4c0126bd-2ec6-4671-992c-017ab8c194d7"
      },
      "source": [
        "metrics.f1_score(y_val_4, pred_4, average='macro')"
      ],
      "execution_count": 103,
      "outputs": [
        {
          "output_type": "execute_result",
          "data": {
            "text/plain": [
              "0.8525043221885754"
            ]
          },
          "metadata": {
            "tags": []
          },
          "execution_count": 103
        }
      ]
    },
    {
      "cell_type": "markdown",
      "metadata": {
        "id": "vG9hldsmk4VB"
      },
      "source": [
        "\n",
        "\n",
        "---\n",
        "\n"
      ]
    },
    {
      "cell_type": "markdown",
      "metadata": {
        "id": "GjALcuntn0e5"
      },
      "source": [
        "### 방법5) 숫자를 마스킹 처리한 뒤, TfidfVectorizer 처리 후 ExtraTreesClassifier\n"
      ]
    },
    {
      "cell_type": "code",
      "metadata": {
        "id": "iGvB8Q2ppr-Q"
      },
      "source": [
        "train_5 = train"
      ],
      "execution_count": 111,
      "outputs": []
    },
    {
      "cell_type": "code",
      "metadata": {
        "id": "Msji5NsxpuF8"
      },
      "source": [
        "train_5['full_log']=train_5['full_log'].str.replace(r'[0-9]', '<num>')"
      ],
      "execution_count": 112,
      "outputs": []
    },
    {
      "cell_type": "code",
      "metadata": {
        "id": "NgAYeswgpzp6"
      },
      "source": [
        "from sklearn.ensemble import ExtraTreesClassifier"
      ],
      "execution_count": 113,
      "outputs": []
    },
    {
      "cell_type": "code",
      "metadata": {
        "id": "rXkcK9Ssp6XQ"
      },
      "source": [
        "# Tfidf 기반 피쳐 벡터화 변환\n",
        "tfidf_vec = TfidfVectorizer(min_df=0,ngram_range=(2,2),max_features=10000)\n",
        "train_text_5 = tfidf_vec.fit_transform(train_5['full_log'])"
      ],
      "execution_count": 114,
      "outputs": []
    },
    {
      "cell_type": "code",
      "metadata": {
        "id": "5DymptbuqCQo"
      },
      "source": [
        "train_level_5=np.array(train_5['level'])\n",
        "x_train_5, x_val_5, y_train_5, y_val_5 = train_test_split(train_text_5, train_level_5, test_size=0.2, stratify=train_level_5, random_state = 42)"
      ],
      "execution_count": 115,
      "outputs": []
    },
    {
      "cell_type": "code",
      "metadata": {
        "colab": {
          "base_uri": "https://localhost:8080/"
        },
        "id": "75k_ps4WqNcj",
        "outputId": "efe6597d-b456-4b08-9981-d9e5a3300186"
      },
      "source": [
        "model_5 = ExtraTreesClassifier(n_estimators=100, n_jobs=-1)\n",
        "model_5.fit(x_train_5, y_train_5)\n"
      ],
      "execution_count": 117,
      "outputs": [
        {
          "output_type": "execute_result",
          "data": {
            "text/plain": [
              "ExtraTreesClassifier(bootstrap=False, ccp_alpha=0.0, class_weight=None,\n",
              "                     criterion='gini', max_depth=None, max_features='auto',\n",
              "                     max_leaf_nodes=None, max_samples=None,\n",
              "                     min_impurity_decrease=0.0, min_impurity_split=None,\n",
              "                     min_samples_leaf=1, min_samples_split=2,\n",
              "                     min_weight_fraction_leaf=0.0, n_estimators=100, n_jobs=-1,\n",
              "                     oob_score=False, random_state=None, verbose=0,\n",
              "                     warm_start=False)"
            ]
          },
          "metadata": {
            "tags": []
          },
          "execution_count": 117
        }
      ]
    },
    {
      "cell_type": "code",
      "metadata": {
        "colab": {
          "base_uri": "https://localhost:8080/"
        },
        "id": "DXGX_TyJqaLM",
        "outputId": "b8755124-8ca0-44c6-94fa-4767aef7d52d"
      },
      "source": [
        "model_5.score(x_val_5, y_val_5)\n"
      ],
      "execution_count": 118,
      "outputs": [
        {
          "output_type": "execute_result",
          "data": {
            "text/plain": [
              "0.9978011522807759"
            ]
          },
          "metadata": {
            "tags": []
          },
          "execution_count": 118
        }
      ]
    },
    {
      "cell_type": "code",
      "metadata": {
        "colab": {
          "base_uri": "https://localhost:8080/",
          "height": 297
        },
        "id": "tNMqqp6-qeKr",
        "outputId": "92266712-61fb-4919-a602-e01508b433fb"
      },
      "source": [
        "#crosstab으로 확인\n",
        "pred_5 = model_5.predict(x_val_5)\n",
        "crosstab_5 = pd.crosstab(y_val_5, pred_5, rownames=['real'], colnames=['pred'])\n",
        "crosstab_5"
      ],
      "execution_count": 119,
      "outputs": [
        {
          "output_type": "execute_result",
          "data": {
            "text/html": [
              "<div>\n",
              "<style scoped>\n",
              "    .dataframe tbody tr th:only-of-type {\n",
              "        vertical-align: middle;\n",
              "    }\n",
              "\n",
              "    .dataframe tbody tr th {\n",
              "        vertical-align: top;\n",
              "    }\n",
              "\n",
              "    .dataframe thead th {\n",
              "        text-align: right;\n",
              "    }\n",
              "</style>\n",
              "<table border=\"1\" class=\"dataframe\">\n",
              "  <thead>\n",
              "    <tr style=\"text-align: right;\">\n",
              "      <th>pred</th>\n",
              "      <th>0</th>\n",
              "      <th>1</th>\n",
              "      <th>2</th>\n",
              "      <th>3</th>\n",
              "      <th>4</th>\n",
              "      <th>5</th>\n",
              "      <th>6</th>\n",
              "    </tr>\n",
              "    <tr>\n",
              "      <th>real</th>\n",
              "      <th></th>\n",
              "      <th></th>\n",
              "      <th></th>\n",
              "      <th></th>\n",
              "      <th></th>\n",
              "      <th></th>\n",
              "      <th></th>\n",
              "    </tr>\n",
              "  </thead>\n",
              "  <tbody>\n",
              "    <tr>\n",
              "      <th>0</th>\n",
              "      <td>66761</td>\n",
              "      <td>50</td>\n",
              "      <td>0</td>\n",
              "      <td>0</td>\n",
              "      <td>0</td>\n",
              "      <td>2</td>\n",
              "      <td>0</td>\n",
              "    </tr>\n",
              "    <tr>\n",
              "      <th>1</th>\n",
              "      <td>127</td>\n",
              "      <td>26376</td>\n",
              "      <td>0</td>\n",
              "      <td>0</td>\n",
              "      <td>0</td>\n",
              "      <td>1</td>\n",
              "      <td>0</td>\n",
              "    </tr>\n",
              "    <tr>\n",
              "      <th>2</th>\n",
              "      <td>0</td>\n",
              "      <td>0</td>\n",
              "      <td>2</td>\n",
              "      <td>0</td>\n",
              "      <td>0</td>\n",
              "      <td>0</td>\n",
              "      <td>0</td>\n",
              "    </tr>\n",
              "    <tr>\n",
              "      <th>3</th>\n",
              "      <td>6</td>\n",
              "      <td>0</td>\n",
              "      <td>0</td>\n",
              "      <td>822</td>\n",
              "      <td>0</td>\n",
              "      <td>0</td>\n",
              "      <td>0</td>\n",
              "    </tr>\n",
              "    <tr>\n",
              "      <th>4</th>\n",
              "      <td>0</td>\n",
              "      <td>0</td>\n",
              "      <td>0</td>\n",
              "      <td>0</td>\n",
              "      <td>2</td>\n",
              "      <td>0</td>\n",
              "      <td>0</td>\n",
              "    </tr>\n",
              "    <tr>\n",
              "      <th>5</th>\n",
              "      <td>18</td>\n",
              "      <td>3</td>\n",
              "      <td>0</td>\n",
              "      <td>0</td>\n",
              "      <td>0</td>\n",
              "      <td>423</td>\n",
              "      <td>0</td>\n",
              "    </tr>\n",
              "    <tr>\n",
              "      <th>6</th>\n",
              "      <td>1</td>\n",
              "      <td>0</td>\n",
              "      <td>0</td>\n",
              "      <td>0</td>\n",
              "      <td>0</td>\n",
              "      <td>0</td>\n",
              "      <td>1</td>\n",
              "    </tr>\n",
              "  </tbody>\n",
              "</table>\n",
              "</div>"
            ],
            "text/plain": [
              "pred      0      1  2    3  4    5  6\n",
              "real                                 \n",
              "0     66761     50  0    0  0    2  0\n",
              "1       127  26376  0    0  0    1  0\n",
              "2         0      0  2    0  0    0  0\n",
              "3         6      0  0  822  0    0  0\n",
              "4         0      0  0    0  2    0  0\n",
              "5        18      3  0    0  0  423  0\n",
              "6         1      0  0    0  0    0  1"
            ]
          },
          "metadata": {
            "tags": []
          },
          "execution_count": 119
        }
      ]
    },
    {
      "cell_type": "code",
      "metadata": {
        "colab": {
          "base_uri": "https://localhost:8080/"
        },
        "id": "qjhBTp0AqiCI",
        "outputId": "477b6b71-f6df-4f8b-833a-3d9adc3eddd1"
      },
      "source": [
        "metrics.f1_score(y_val_5, pred_5, average='macro')"
      ],
      "execution_count": 120,
      "outputs": [
        {
          "output_type": "execute_result",
          "data": {
            "text/plain": [
              "0.9472141673934485"
            ]
          },
          "metadata": {
            "tags": []
          },
          "execution_count": 120
        }
      ]
    },
    {
      "cell_type": "markdown",
      "metadata": {
        "id": "Wd56oR8yquFY"
      },
      "source": [
        "\n",
        "\n",
        "---\n",
        "\n"
      ]
    }
  ]
}