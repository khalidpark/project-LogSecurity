{
  "nbformat": 4,
  "nbformat_minor": 0,
  "metadata": {
    "accelerator": "GPU",
    "colab": {
      "name": "project6.ipynb",
      "provenance": [],
      "collapsed_sections": [],
      "toc_visible": true,
      "authorship_tag": "ABX9TyNgBx8XhthYYjr2vkVFRfVI",
      "include_colab_link": true
    },
    "kernelspec": {
      "display_name": "Python 3",
      "name": "python3"
    },
    "language_info": {
      "name": "python"
    }
  },
  "cells": [
    {
      "cell_type": "markdown",
      "metadata": {
        "id": "view-in-github",
        "colab_type": "text"
      },
      "source": [
        "<a href=\"https://colab.research.google.com/github/khalidpark/project-LogSecurity/blob/main/project6.ipynb\" target=\"_parent\"><img src=\"https://colab.research.google.com/assets/colab-badge.svg\" alt=\"Open In Colab\"/></a>"
      ]
    },
    {
      "cell_type": "markdown",
      "metadata": {
        "id": "R0p2uCXID3Yw"
      },
      "source": [
        "# 데이터 불러오기 및 간단 EDA"
      ]
    },
    {
      "cell_type": "code",
      "metadata": {
        "id": "2UwYHIv5I2KV"
      },
      "source": [
        "import numpy as np\n",
        "import pandas as pd\n",
        "import os\n",
        "import gc\n",
        "import matplotlib.pyplot as plt\n",
        "import tensorflow as tf\n",
        "from sklearn.model_selection import train_test_split\n",
        "from tqdm import tqdm"
      ],
      "execution_count": null,
      "outputs": []
    },
    {
      "cell_type": "code",
      "metadata": {
        "id": "KJXtUp3kI7Nh"
      },
      "source": [
        "train=pd.read_csv('/content/train.csv', error_bad_lines=False, engine=\"python\")"
      ],
      "execution_count": null,
      "outputs": []
    },
    {
      "cell_type": "code",
      "metadata": {
        "colab": {
          "base_uri": "https://localhost:8080/"
        },
        "id": "ZAtvPjU7Bkng",
        "outputId": "de2c8dda-cee5-4c28-f3e4-bbb690b2e420"
      },
      "source": [
        "print(train.shape)"
      ],
      "execution_count": null,
      "outputs": [
        {
          "output_type": "stream",
          "text": [
            "(472972, 3)\n"
          ],
          "name": "stdout"
        }
      ]
    },
    {
      "cell_type": "code",
      "metadata": {
        "colab": {
          "base_uri": "https://localhost:8080/",
          "height": 204
        },
        "id": "rO7_L6bEBrwJ",
        "outputId": "8343b085-a554-4076-b3f6-8ea9365b70d0"
      },
      "source": [
        "train.head()"
      ],
      "execution_count": null,
      "outputs": [
        {
          "output_type": "execute_result",
          "data": {
            "text/html": [
              "<div>\n",
              "<style scoped>\n",
              "    .dataframe tbody tr th:only-of-type {\n",
              "        vertical-align: middle;\n",
              "    }\n",
              "\n",
              "    .dataframe tbody tr th {\n",
              "        vertical-align: top;\n",
              "    }\n",
              "\n",
              "    .dataframe thead th {\n",
              "        text-align: right;\n",
              "    }\n",
              "</style>\n",
              "<table border=\"1\" class=\"dataframe\">\n",
              "  <thead>\n",
              "    <tr style=\"text-align: right;\">\n",
              "      <th></th>\n",
              "      <th>id</th>\n",
              "      <th>level</th>\n",
              "      <th>full_log</th>\n",
              "    </tr>\n",
              "  </thead>\n",
              "  <tbody>\n",
              "    <tr>\n",
              "      <th>0</th>\n",
              "      <td>0</td>\n",
              "      <td>0</td>\n",
              "      <td>Sep 24 10:02:22 localhost kibana: {\"type\":\"err...</td>\n",
              "    </tr>\n",
              "    <tr>\n",
              "      <th>1</th>\n",
              "      <td>1</td>\n",
              "      <td>0</td>\n",
              "      <td>Feb  8 16:21:00 localhost logstash: [2021-02-0...</td>\n",
              "    </tr>\n",
              "    <tr>\n",
              "      <th>2</th>\n",
              "      <td>2</td>\n",
              "      <td>0</td>\n",
              "      <td>Jan 13 01:50:40 localhost kibana: {\"type\":\"err...</td>\n",
              "    </tr>\n",
              "    <tr>\n",
              "      <th>3</th>\n",
              "      <td>3</td>\n",
              "      <td>0</td>\n",
              "      <td>Jan  4 10:18:31 localhost kibana: {\"type\":\"err...</td>\n",
              "    </tr>\n",
              "    <tr>\n",
              "      <th>4</th>\n",
              "      <td>4</td>\n",
              "      <td>1</td>\n",
              "      <td>type=SYSCALL msg=audit(1603094402.016:52981): ...</td>\n",
              "    </tr>\n",
              "  </tbody>\n",
              "</table>\n",
              "</div>"
            ],
            "text/plain": [
              "   id  level                                           full_log\n",
              "0   0      0  Sep 24 10:02:22 localhost kibana: {\"type\":\"err...\n",
              "1   1      0  Feb  8 16:21:00 localhost logstash: [2021-02-0...\n",
              "2   2      0  Jan 13 01:50:40 localhost kibana: {\"type\":\"err...\n",
              "3   3      0  Jan  4 10:18:31 localhost kibana: {\"type\":\"err...\n",
              "4   4      1  type=SYSCALL msg=audit(1603094402.016:52981): ..."
            ]
          },
          "metadata": {
            "tags": []
          },
          "execution_count": 83
        }
      ]
    },
    {
      "cell_type": "code",
      "metadata": {
        "colab": {
          "base_uri": "https://localhost:8080/"
        },
        "id": "ZwUqHJkSIimz",
        "outputId": "625f072f-6003-4d8c-fa1d-6d1c789951ae"
      },
      "source": [
        "train.dtypes"
      ],
      "execution_count": null,
      "outputs": [
        {
          "output_type": "execute_result",
          "data": {
            "text/plain": [
              "id           int64\n",
              "level        int64\n",
              "full_log    object\n",
              "dtype: object"
            ]
          },
          "metadata": {
            "tags": []
          },
          "execution_count": 84
        }
      ]
    },
    {
      "cell_type": "code",
      "metadata": {
        "colab": {
          "base_uri": "https://localhost:8080/"
        },
        "id": "228CRlvKCY0w",
        "outputId": "d778bb8a-c7ac-49c9-d208-6325f2300a05"
      },
      "source": [
        "#로그 데이터 프린트 후 구성 확인\n",
        "print(train['full_log'][0])"
      ],
      "execution_count": null,
      "outputs": [
        {
          "output_type": "stream",
          "text": [
            "Sep 24 10:02:22 localhost kibana: {\"type\":\"error\",\"@timestamp\":\"2020-09-24T01:02:22Z\",\"tags\":[\"warning\",\"stats-collection\"],\"pid\":6458,\"level\":\"error\",\"error\":{\"message\":\"No Living connections\",\"name\":\"Error\",\"stack\":\"Error: No Living connections\\n    at sendReqWithConnection (/usr/share/kibana/node_modules/elasticsearch/src/lib/transport.js:226:15)\\n    at next (/usr/share/kibana/node_modules/elasticsearch/src/lib/connection_pool.js:214:7)\\n    at process._tickCallback (internal/process/next_tick.js:61:11)\"},\"message\":\"No Living connections\"}\n"
          ],
          "name": "stdout"
        }
      ]
    },
    {
      "cell_type": "code",
      "metadata": {
        "colab": {
          "base_uri": "https://localhost:8080/"
        },
        "id": "Hhu5LKqKDJCB",
        "outputId": "e5de24a8-01f5-4359-d0a1-a0d86349deb5"
      },
      "source": [
        "##로그 데이터 프린트 후 구성 확인\n",
        "print(train['full_log'][1])"
      ],
      "execution_count": null,
      "outputs": [
        {
          "output_type": "stream",
          "text": [
            "Feb  8 16:21:00 localhost logstash: [2021-02-08T16:21:00,548][INFO ][logstash.outputs.elasticsearch] retrying failed action with response code: 503 ({\"type\"=>\"unavailable_shards_exception\", \"reason\"=>\"[wazuh-alerts-audit-3.x-2021.16.08][3] primary shard is not active Timeout: [1m], request: [BulkShardRequest [[wazuh-alerts-audit-3.x-2021.16.08][3]] containing [25] requests]\"})\n"
          ],
          "name": "stdout"
        }
      ]
    },
    {
      "cell_type": "markdown",
      "metadata": {
        "id": "N1RmLUKpChVF"
      },
      "source": [
        "### full_log 분석\n",
        "\n",
        "full log는 딕셔너리 형식\n",
        "\n",
        "데이터의 형식이고정되어있지 않아, 위험 키워드를 특정하거나 수치만을 활용하는 방법이 필요하다 판단됨.\n"
      ]
    },
    {
      "cell_type": "code",
      "metadata": {
        "colab": {
          "base_uri": "https://localhost:8080/",
          "height": 283
        },
        "id": "x2cAL8-_B0xa",
        "outputId": "0664d16d-f429-418b-a1d5-18a2f300f096"
      },
      "source": [
        "#train full_log의 길이 확인\n",
        "train['full_log'].str.split(' ').str.len().hist(bins=20)"
      ],
      "execution_count": null,
      "outputs": [
        {
          "output_type": "execute_result",
          "data": {
            "text/plain": [
              "<matplotlib.axes._subplots.AxesSubplot at 0x7f4c41363c50>"
            ]
          },
          "metadata": {
            "tags": []
          },
          "execution_count": 14
        },
        {
          "output_type": "display_data",
          "data": {
            "image/png": "[encoded data removed]",
            "text/plain": [
              "<Figure size 432x288 with 1 Axes>"
            ]
          },
          "metadata": {
            "tags": []
          }
        }
      ]
    },
    {
      "cell_type": "code",
      "metadata": {
        "colab": {
          "base_uri": "https://localhost:8080/"
        },
        "id": "V1xvmHvAB-UI",
        "outputId": "95eabcca-5075-45c0-9d3f-eec3c5dbcd0c"
      },
      "source": [
        "#train level별 값 확인\n",
        "train['level'].value_counts()"
      ],
      "execution_count": null,
      "outputs": [
        {
          "output_type": "execute_result",
          "data": {
            "text/plain": [
              "0    203887\n",
              "1     80791\n",
              "3      2524\n",
              "5      1343\n",
              "4         6\n",
              "6         5\n",
              "2         4\n",
              "Name: level, dtype: int64"
            ]
          },
          "metadata": {
            "tags": []
          },
          "execution_count": 15
        }
      ]
    },
    {
      "cell_type": "markdown",
      "metadata": {
        "id": "j9Kpn4NbCBke"
      },
      "source": [
        "### 분포분석\n",
        "\n",
        "보안위험이 0 인 분포의 비율이 70%이므로 분포의 가중치를 유의하여 모델에 적용해야함"
      ]
    },
    {
      "cell_type": "markdown",
      "metadata": {
        "id": "_cDKvmX1DyDo"
      },
      "source": [
        "\n",
        "\n",
        "---\n",
        "\n"
      ]
    },
    {
      "cell_type": "markdown",
      "metadata": {
        "id": "-4UYFG_wDzuy"
      },
      "source": [
        "# 데이터전처리 및 모델링"
      ]
    },
    {
      "cell_type": "markdown",
      "metadata": {
        "id": "3NhOELGJEHVZ"
      },
      "source": [
        "### 방법1) 숫자 마스킹 처리 -> CountVectorizer -> Randomforest"
      ]
    },
    {
      "cell_type": "code",
      "metadata": {
        "id": "54CiXSwHSXZP"
      },
      "source": [
        "train_1 = train.copy()"
      ],
      "execution_count": null,
      "outputs": []
    },
    {
      "cell_type": "code",
      "metadata": {
        "id": "OrIvOu5tF29k"
      },
      "source": [
        "#full_log에서 숫자는 마스킹 처리\n",
        "train_1['full_log']=train_1['full_log'].str.replace(r'[0-9]', '<num>')"
      ],
      "execution_count": null,
      "outputs": []
    },
    {
      "cell_type": "code",
      "metadata": {
        "colab": {
          "base_uri": "https://localhost:8080/"
        },
        "id": "dBeyABt5jir2",
        "outputId": "a865f0f5-ad28-4e21-96c5-94033e42b550"
      },
      "source": [
        "#마스킹 전 후 비교\n",
        "print(train['full_log'][0])\n",
        "print(train_1['full_log'][0])"
      ],
      "execution_count": null,
      "outputs": [
        {
          "output_type": "stream",
          "text": [
            "Sep 24 10:02:22 localhost kibana: {\"type\":\"error\",\"@timestamp\":\"2020-09-24T01:02:22Z\",\"tags\":[\"warning\",\"stats-collection\"],\"pid\":6458,\"level\":\"error\",\"error\":{\"message\":\"No Living connections\",\"name\":\"Error\",\"stack\":\"Error: No Living connections\\n    at sendReqWithConnection (/usr/share/kibana/node_modules/elasticsearch/src/lib/transport.js:226:15)\\n    at next (/usr/share/kibana/node_modules/elasticsearch/src/lib/connection_pool.js:214:7)\\n    at process._tickCallback (internal/process/next_tick.js:61:11)\"},\"message\":\"No Living connections\"}\n",
            "Sep <num><num> <num><num>:<num><num>:<num><num> localhost kibana: {\"type\":\"error\",\"@timestamp\":\"<num><num><num><num>-<num><num>-<num><num>T<num><num>:<num><num>:<num><num>Z\",\"tags\":[\"warning\",\"stats-collection\"],\"pid\":<num><num><num><num>,\"level\":\"error\",\"error\":{\"message\":\"No Living connections\",\"name\":\"Error\",\"stack\":\"Error: No Living connections\\n    at sendReqWithConnection (/usr/share/kibana/node_modules/elasticsearch/src/lib/transport.js:<num><num><num>:<num><num>)\\n    at next (/usr/share/kibana/node_modules/elasticsearch/src/lib/connection_pool.js:<num><num><num>:<num>)\\n    at process._tickCallback (internal/process/next_tick.js:<num><num>:<num><num>)\"},\"message\":\"No Living connections\"}\n"
          ],
          "name": "stdout"
        }
      ]
    },
    {
      "cell_type": "code",
      "metadata": {
        "id": "tTSTZfOhF-3w"
      },
      "source": [
        "#train['full_log'] => train_text로 list\n",
        "#train['level']=> train_level로 array\n",
        "train_text_1=list(train_1['full_log'])\n",
        "train_level_1=np.array(train_1['level'])"
      ],
      "execution_count": null,
      "outputs": []
    },
    {
      "cell_type": "code",
      "metadata": {
        "id": "gr5M4wDfGEoe"
      },
      "source": [
        "#CountVectorizer로 벡터화\n",
        "from sklearn.feature_extraction.text import CountVectorizer\n",
        "vectorizer=CountVectorizer(analyzer=\"word\", max_features=10000)\n",
        "\n",
        "train_features_1=vectorizer.fit_transform(train_text_1)"
      ],
      "execution_count": null,
      "outputs": []
    },
    {
      "cell_type": "code",
      "metadata": {
        "colab": {
          "base_uri": "https://localhost:8080/"
        },
        "id": "ufKlS2_oG4p4",
        "outputId": "95df9838-d41e-4c5d-c377-f9e56c03e689"
      },
      "source": [
        "train_features_1"
      ],
      "execution_count": null,
      "outputs": [
        {
          "output_type": "execute_result",
          "data": {
            "text/plain": [
              "<472972x10000 sparse matrix of type '<class 'numpy.int64'>'\n",
              "\twith 16452589 stored elements in Compressed Sparse Row format>"
            ]
          },
          "metadata": {
            "tags": []
          },
          "execution_count": 25
        }
      ]
    },
    {
      "cell_type": "code",
      "metadata": {
        "id": "nQntL5FzHEXs"
      },
      "source": [
        "#훈련 데이터 셋과 검증 데이터 셋으로 분리\n",
        "TEST_SIZE=0.2\n",
        "RANDOM_SEED=42\n",
        "\n",
        "x_train_1,x_val_1, y_train_1, y_val_1=train_test_split(train_features_1, train_level_1, test_size=TEST_SIZE, random_state=RANDOM_SEED)\n"
      ],
      "execution_count": null,
      "outputs": []
    },
    {
      "cell_type": "code",
      "metadata": {
        "colab": {
          "base_uri": "https://localhost:8080/"
        },
        "id": "D71EjwI1HNr4",
        "outputId": "f9465957-ea40-4d99-97fa-26b21da042c3"
      },
      "source": [
        "#랜덤포레스트로 모델링\n",
        "from sklearn.ensemble import RandomForestClassifier\n",
        "\n",
        "model_1=RandomForestClassifier(n_estimators=100)\n",
        "\n",
        "model_1.fit(x_train_1, y_train_1)"
      ],
      "execution_count": null,
      "outputs": [
        {
          "output_type": "execute_result",
          "data": {
            "text/plain": [
              "RandomForestClassifier(bootstrap=True, ccp_alpha=0.0, class_weight=None,\n",
              "                       criterion='gini', max_depth=None, max_features='auto',\n",
              "                       max_leaf_nodes=None, max_samples=None,\n",
              "                       min_impurity_decrease=0.0, min_impurity_split=None,\n",
              "                       min_samples_leaf=1, min_samples_split=2,\n",
              "                       min_weight_fraction_leaf=0.0, n_estimators=100,\n",
              "                       n_jobs=None, oob_score=False, random_state=None,\n",
              "                       verbose=0, warm_start=False)"
            ]
          },
          "metadata": {
            "tags": []
          },
          "execution_count": 27
        }
      ]
    },
    {
      "cell_type": "code",
      "metadata": {
        "colab": {
          "base_uri": "https://localhost:8080/"
        },
        "id": "AeLDq6g_HVUL",
        "outputId": "5a0a7e7b-9f8c-4789-f8b7-6367525ba975"
      },
      "source": [
        "#모델 검증\n",
        "model_1.score(x_val_1, y_val_1)"
      ],
      "execution_count": null,
      "outputs": [
        {
          "output_type": "execute_result",
          "data": {
            "text/plain": [
              "0.9979174374966965"
            ]
          },
          "metadata": {
            "tags": []
          },
          "execution_count": 28
        }
      ]
    },
    {
      "cell_type": "code",
      "metadata": {
        "colab": {
          "base_uri": "https://localhost:8080/",
          "height": 297
        },
        "id": "fnQlTJR5Hfwa",
        "outputId": "48ea10f8-f183-4f3f-aa32-5fd6e288d47a"
      },
      "source": [
        "#crosstab으로 확인\n",
        "pred_1=model_1.predict(x_val_1)\n",
        "crosstab_1 = pd.crosstab(y_val_1, pred_1, rownames=['real'], colnames=['pred'])\n",
        "crosstab_1"
      ],
      "execution_count": null,
      "outputs": [
        {
          "output_type": "execute_result",
          "data": {
            "text/html": [
              "<div>\n",
              "<style scoped>\n",
              "    .dataframe tbody tr th:only-of-type {\n",
              "        vertical-align: middle;\n",
              "    }\n",
              "\n",
              "    .dataframe tbody tr th {\n",
              "        vertical-align: top;\n",
              "    }\n",
              "\n",
              "    .dataframe thead th {\n",
              "        text-align: right;\n",
              "    }\n",
              "</style>\n",
              "<table border=\"1\" class=\"dataframe\">\n",
              "  <thead>\n",
              "    <tr style=\"text-align: right;\">\n",
              "      <th>pred</th>\n",
              "      <th>0</th>\n",
              "      <th>1</th>\n",
              "      <th>2</th>\n",
              "      <th>3</th>\n",
              "      <th>4</th>\n",
              "      <th>5</th>\n",
              "    </tr>\n",
              "    <tr>\n",
              "      <th>real</th>\n",
              "      <th></th>\n",
              "      <th></th>\n",
              "      <th></th>\n",
              "      <th></th>\n",
              "      <th></th>\n",
              "      <th></th>\n",
              "    </tr>\n",
              "  </thead>\n",
              "  <tbody>\n",
              "    <tr>\n",
              "      <th>0</th>\n",
              "      <td>66729</td>\n",
              "      <td>55</td>\n",
              "      <td>0</td>\n",
              "      <td>0</td>\n",
              "      <td>0</td>\n",
              "      <td>2</td>\n",
              "    </tr>\n",
              "    <tr>\n",
              "      <th>1</th>\n",
              "      <td>119</td>\n",
              "      <td>26427</td>\n",
              "      <td>0</td>\n",
              "      <td>0</td>\n",
              "      <td>0</td>\n",
              "      <td>1</td>\n",
              "    </tr>\n",
              "    <tr>\n",
              "      <th>2</th>\n",
              "      <td>0</td>\n",
              "      <td>0</td>\n",
              "      <td>2</td>\n",
              "      <td>0</td>\n",
              "      <td>0</td>\n",
              "      <td>0</td>\n",
              "    </tr>\n",
              "    <tr>\n",
              "      <th>3</th>\n",
              "      <td>1</td>\n",
              "      <td>1</td>\n",
              "      <td>0</td>\n",
              "      <td>799</td>\n",
              "      <td>0</td>\n",
              "      <td>0</td>\n",
              "    </tr>\n",
              "    <tr>\n",
              "      <th>4</th>\n",
              "      <td>0</td>\n",
              "      <td>0</td>\n",
              "      <td>0</td>\n",
              "      <td>0</td>\n",
              "      <td>3</td>\n",
              "      <td>0</td>\n",
              "    </tr>\n",
              "    <tr>\n",
              "      <th>5</th>\n",
              "      <td>12</td>\n",
              "      <td>3</td>\n",
              "      <td>0</td>\n",
              "      <td>0</td>\n",
              "      <td>0</td>\n",
              "      <td>438</td>\n",
              "    </tr>\n",
              "    <tr>\n",
              "      <th>6</th>\n",
              "      <td>1</td>\n",
              "      <td>0</td>\n",
              "      <td>0</td>\n",
              "      <td>2</td>\n",
              "      <td>0</td>\n",
              "      <td>0</td>\n",
              "    </tr>\n",
              "  </tbody>\n",
              "</table>\n",
              "</div>"
            ],
            "text/plain": [
              "pred      0      1  2    3  4    5\n",
              "real                              \n",
              "0     66729     55  0    0  0    2\n",
              "1       119  26427  0    0  0    1\n",
              "2         0      0  2    0  0    0\n",
              "3         1      1  0  799  0    0\n",
              "4         0      0  0    0  3    0\n",
              "5        12      3  0    0  0  438\n",
              "6         1      0  0    2  0    0"
            ]
          },
          "metadata": {
            "tags": []
          },
          "execution_count": 29
        }
      ]
    },
    {
      "cell_type": "markdown",
      "metadata": {
        "id": "ZMw1Kz0foKwI"
      },
      "source": [
        "###### score : 0.9979174374966965"
      ]
    },
    {
      "cell_type": "markdown",
      "metadata": {
        "id": "EDh3qUOskGlX"
      },
      "source": [
        "### 방법2) 숫자 마스킹 처리 -> TfidfVectorizer -> Randomforest"
      ]
    },
    {
      "cell_type": "code",
      "metadata": {
        "id": "V5tM3CaKlCtH"
      },
      "source": [
        "train_2 = train.copy()"
      ],
      "execution_count": null,
      "outputs": []
    },
    {
      "cell_type": "code",
      "metadata": {
        "id": "7f5-ESrolEow"
      },
      "source": [
        "train_2['full_log']=train_2['full_log'].str.replace(r'[0-9]', '<num>')"
      ],
      "execution_count": null,
      "outputs": []
    },
    {
      "cell_type": "code",
      "metadata": {
        "id": "y_4wanPNkc5j"
      },
      "source": [
        "from sklearn.feature_extraction.text import TfidfVectorizer"
      ],
      "execution_count": null,
      "outputs": []
    },
    {
      "cell_type": "code",
      "metadata": {
        "id": "FSQWfSZUlOgY"
      },
      "source": [
        "# Tfidf 기반 피쳐 벡터화 변환\n",
        "tfidf_vec = TfidfVectorizer(min_df=0,ngram_range=(2,2),max_features=10000)\n",
        "train_text_2 = tfidf_vec.fit_transform(train_2['full_log'])\n",
        "train_level_2=np.array(train_2['level'])\n"
      ],
      "execution_count": null,
      "outputs": []
    },
    {
      "cell_type": "code",
      "metadata": {
        "id": "IB-QMLpDlkpp"
      },
      "source": [
        "TEST_SIZE=0.2\n",
        "RANDOM_SEED=42\n",
        "\n",
        "x_train_2,x_val_2, y_train_2, y_val_2=train_test_split(train_text_2, train_level_2, test_size=TEST_SIZE, random_state=RANDOM_SEED)"
      ],
      "execution_count": null,
      "outputs": []
    },
    {
      "cell_type": "code",
      "metadata": {
        "colab": {
          "base_uri": "https://localhost:8080/"
        },
        "id": "Td36hjXbl-XE",
        "outputId": "95772d61-17bb-4316-a336-8cec6000a4f7"
      },
      "source": [
        "from sklearn.ensemble import RandomForestClassifier\n",
        "\n",
        "model_2=RandomForestClassifier(n_estimators=100)\n",
        "\n",
        "model_2.fit(x_train_2, y_train_2)"
      ],
      "execution_count": null,
      "outputs": [
        {
          "output_type": "execute_result",
          "data": {
            "text/plain": [
              "RandomForestClassifier(bootstrap=True, ccp_alpha=0.0, class_weight=None,\n",
              "                       criterion='gini', max_depth=None, max_features='auto',\n",
              "                       max_leaf_nodes=None, max_samples=None,\n",
              "                       min_impurity_decrease=0.0, min_impurity_split=None,\n",
              "                       min_samples_leaf=1, min_samples_split=2,\n",
              "                       min_weight_fraction_leaf=0.0, n_estimators=100,\n",
              "                       n_jobs=None, oob_score=False, random_state=None,\n",
              "                       verbose=0, warm_start=False)"
            ]
          },
          "metadata": {
            "tags": []
          },
          "execution_count": 35
        }
      ]
    },
    {
      "cell_type": "code",
      "metadata": {
        "colab": {
          "base_uri": "https://localhost:8080/"
        },
        "id": "zDNtnvUWmVAC",
        "outputId": "9f9717ff-9bdf-4936-8c3d-7cdfe222e2e3"
      },
      "source": [
        "#방법1의 vectorize 이 더 우수한걸로 파악됨\n",
        "\n",
        "model_2.score(x_val_2, y_val_2)"
      ],
      "execution_count": null,
      "outputs": [
        {
          "output_type": "execute_result",
          "data": {
            "text/plain": [
              "0.9978962947301654"
            ]
          },
          "metadata": {
            "tags": []
          },
          "execution_count": 36
        }
      ]
    },
    {
      "cell_type": "code",
      "metadata": {
        "colab": {
          "base_uri": "https://localhost:8080/",
          "height": 297
        },
        "id": "yb8K6HzPmXzT",
        "outputId": "d98acb99-c151-4be2-e373-f8260652834e"
      },
      "source": [
        "#crosstab으로 확인\n",
        "pred_2=model_2.predict(x_val_2)\n",
        "crosstab_2 = pd.crosstab(y_val_2, pred_2, rownames=['real'], colnames=['pred'])\n",
        "crosstab_2"
      ],
      "execution_count": null,
      "outputs": [
        {
          "output_type": "execute_result",
          "data": {
            "text/html": [
              "<div>\n",
              "<style scoped>\n",
              "    .dataframe tbody tr th:only-of-type {\n",
              "        vertical-align: middle;\n",
              "    }\n",
              "\n",
              "    .dataframe tbody tr th {\n",
              "        vertical-align: top;\n",
              "    }\n",
              "\n",
              "    .dataframe thead th {\n",
              "        text-align: right;\n",
              "    }\n",
              "</style>\n",
              "<table border=\"1\" class=\"dataframe\">\n",
              "  <thead>\n",
              "    <tr style=\"text-align: right;\">\n",
              "      <th>pred</th>\n",
              "      <th>0</th>\n",
              "      <th>1</th>\n",
              "      <th>2</th>\n",
              "      <th>3</th>\n",
              "      <th>4</th>\n",
              "      <th>5</th>\n",
              "    </tr>\n",
              "    <tr>\n",
              "      <th>real</th>\n",
              "      <th></th>\n",
              "      <th></th>\n",
              "      <th></th>\n",
              "      <th></th>\n",
              "      <th></th>\n",
              "      <th></th>\n",
              "    </tr>\n",
              "  </thead>\n",
              "  <tbody>\n",
              "    <tr>\n",
              "      <th>0</th>\n",
              "      <td>66726</td>\n",
              "      <td>59</td>\n",
              "      <td>0</td>\n",
              "      <td>0</td>\n",
              "      <td>0</td>\n",
              "      <td>1</td>\n",
              "    </tr>\n",
              "    <tr>\n",
              "      <th>1</th>\n",
              "      <td>119</td>\n",
              "      <td>26428</td>\n",
              "      <td>0</td>\n",
              "      <td>0</td>\n",
              "      <td>0</td>\n",
              "      <td>0</td>\n",
              "    </tr>\n",
              "    <tr>\n",
              "      <th>2</th>\n",
              "      <td>0</td>\n",
              "      <td>0</td>\n",
              "      <td>2</td>\n",
              "      <td>0</td>\n",
              "      <td>0</td>\n",
              "      <td>0</td>\n",
              "    </tr>\n",
              "    <tr>\n",
              "      <th>3</th>\n",
              "      <td>1</td>\n",
              "      <td>1</td>\n",
              "      <td>0</td>\n",
              "      <td>799</td>\n",
              "      <td>0</td>\n",
              "      <td>0</td>\n",
              "    </tr>\n",
              "    <tr>\n",
              "      <th>4</th>\n",
              "      <td>0</td>\n",
              "      <td>0</td>\n",
              "      <td>0</td>\n",
              "      <td>0</td>\n",
              "      <td>3</td>\n",
              "      <td>0</td>\n",
              "    </tr>\n",
              "    <tr>\n",
              "      <th>5</th>\n",
              "      <td>13</td>\n",
              "      <td>2</td>\n",
              "      <td>0</td>\n",
              "      <td>0</td>\n",
              "      <td>0</td>\n",
              "      <td>438</td>\n",
              "    </tr>\n",
              "    <tr>\n",
              "      <th>6</th>\n",
              "      <td>1</td>\n",
              "      <td>0</td>\n",
              "      <td>0</td>\n",
              "      <td>2</td>\n",
              "      <td>0</td>\n",
              "      <td>0</td>\n",
              "    </tr>\n",
              "  </tbody>\n",
              "</table>\n",
              "</div>"
            ],
            "text/plain": [
              "pred      0      1  2    3  4    5\n",
              "real                              \n",
              "0     66726     59  0    0  0    1\n",
              "1       119  26428  0    0  0    0\n",
              "2         0      0  2    0  0    0\n",
              "3         1      1  0  799  0    0\n",
              "4         0      0  0    0  3    0\n",
              "5        13      2  0    0  0  438\n",
              "6         1      0  0    2  0    0"
            ]
          },
          "metadata": {
            "tags": []
          },
          "execution_count": 37
        }
      ]
    },
    {
      "cell_type": "markdown",
      "metadata": {
        "id": "WwAGjXTFodz8"
      },
      "source": [
        "###### score : 0.9978962947301654"
      ]
    },
    {
      "cell_type": "markdown",
      "metadata": {
        "id": "PC_pfyxglEVr"
      },
      "source": [
        "### =>  Vectorrizer 비교 결과 : Countervectorizer의 성능 더 우수"
      ]
    },
    {
      "cell_type": "markdown",
      "metadata": {
        "id": "6c2IkNLnTz4x"
      },
      "source": [
        "\n",
        "\n",
        "---\n",
        "\n"
      ]
    },
    {
      "cell_type": "markdown",
      "metadata": {
        "id": "SuJSzeKZPh0D"
      },
      "source": [
        "### 방법3) 숫자 마스킹 처리 -> Countervectorizer -> XGBClassifier"
      ]
    },
    {
      "cell_type": "code",
      "metadata": {
        "id": "N7MrRdshT6xf"
      },
      "source": [
        "train_3 = train.copy()"
      ],
      "execution_count": null,
      "outputs": []
    },
    {
      "cell_type": "code",
      "metadata": {
        "colab": {
          "base_uri": "https://localhost:8080/"
        },
        "id": "zYnyUQwKntfA",
        "outputId": "a742ffe4-64de-4d0f-c57e-c8b3fc41846d"
      },
      "source": [
        "# 숫자 마스킹 작업\n",
        "train_3['full_log']=train_3['full_log'].str.replace(r'[0-9]', '<num>')\n",
        "\n",
        "print(train_3['full_log'][0])"
      ],
      "execution_count": null,
      "outputs": [
        {
          "output_type": "stream",
          "text": [
            "Sep <num><num> <num><num>:<num><num>:<num><num> localhost kibana: {\"type\":\"error\",\"@timestamp\":\"<num><num><num><num>-<num><num>-<num><num>T<num><num>:<num><num>:<num><num>Z\",\"tags\":[\"warning\",\"stats-collection\"],\"pid\":<num><num><num><num>,\"level\":\"error\",\"error\":{\"message\":\"No Living connections\",\"name\":\"Error\",\"stack\":\"Error: No Living connections\\n    at sendReqWithConnection (/usr/share/kibana/node_modules/elasticsearch/src/lib/transport.js:<num><num><num>:<num><num>)\\n    at next (/usr/share/kibana/node_modules/elasticsearch/src/lib/connection_pool.js:<num><num><num>:<num>)\\n    at process._tickCallback (internal/process/next_tick.js:<num><num>:<num><num>)\"},\"message\":\"No Living connections\"}\n"
          ],
          "name": "stdout"
        }
      ]
    },
    {
      "cell_type": "code",
      "metadata": {
        "colab": {
          "base_uri": "https://localhost:8080/"
        },
        "id": "jVe8y1SHkzQX",
        "outputId": "ac747460-7399-40c0-e76a-cc4fd4f6f2e9"
      },
      "source": [
        "print(train_3['full_log'])"
      ],
      "execution_count": null,
      "outputs": [
        {
          "output_type": "stream",
          "text": [
            "0         Sep <num><num> <num><num>:<num><num>:<num><num...\n",
            "1         Feb  <num> <num><num>:<num><num>:<num><num> lo...\n",
            "2         Jan <num><num> <num><num>:<num><num>:<num><num...\n",
            "3         Jan  <num> <num><num>:<num><num>:<num><num> lo...\n",
            "4         type=SYSCALL msg=audit(<num><num><num><num><nu...\n",
            "                                ...                        \n",
            "472967    Feb <num><num> <num><num>:<num><num>:<num><num...\n",
            "472968    type=SYSCALL msg=audit(<num><num><num><num><nu...\n",
            "472969    Oct <num><num> <num><num>:<num><num>:<num><num...\n",
            "472970    Jan <num><num> <num><num>:<num><num>:<num><num...\n",
            "472971    Oct <num><num> <num><num>:<num><num>:<num><num...\n",
            "Name: full_log, Length: 472972, dtype: object\n"
          ],
          "name": "stdout"
        }
      ]
    },
    {
      "cell_type": "code",
      "metadata": {
        "id": "4R9c9kQ3nqJ3"
      },
      "source": [
        "train_text_3=list(train_3['full_log'])\n",
        "train_level_3=np.array(train_3['level'])"
      ],
      "execution_count": null,
      "outputs": []
    },
    {
      "cell_type": "code",
      "metadata": {
        "colab": {
          "base_uri": "https://localhost:8080/",
          "height": 89
        },
        "id": "o-YE4qRslB83",
        "outputId": "4cb9ea0b-42f6-4609-8869-e53efce3c0a1"
      },
      "source": [
        "train_text_3[0]"
      ],
      "execution_count": null,
      "outputs": [
        {
          "output_type": "execute_result",
          "data": {
            "application/vnd.google.colaboratory.intrinsic+json": {
              "type": "string"
            },
            "text/plain": [
              "'Sep <num><num> <num><num>:<num><num>:<num><num> localhost kibana: {\"type\":\"error\",\"@timestamp\":\"<num><num><num><num>-<num><num>-<num><num>T<num><num>:<num><num>:<num><num>Z\",\"tags\":[\"warning\",\"stats-collection\"],\"pid\":<num><num><num><num>,\"level\":\"error\",\"error\":{\"message\":\"No Living connections\",\"name\":\"Error\",\"stack\":\"Error: No Living connections\\\\n    at sendReqWithConnection (/usr/share/kibana/node_modules/elasticsearch/src/lib/transport.js:<num><num><num>:<num><num>)\\\\n    at next (/usr/share/kibana/node_modules/elasticsearch/src/lib/connection_pool.js:<num><num><num>:<num>)\\\\n    at process._tickCallback (internal/process/next_tick.js:<num><num>:<num><num>)\"},\"message\":\"No Living connections\"}'"
            ]
          },
          "metadata": {
            "tags": []
          },
          "execution_count": 126
        }
      ]
    },
    {
      "cell_type": "code",
      "metadata": {
        "colab": {
          "base_uri": "https://localhost:8080/"
        },
        "id": "OtsABmpOnf_P",
        "outputId": "ea2c5f28-fe49-4600-89f2-885658052caf"
      },
      "source": [
        "#CountVectorizer로 벡터화\n",
        "from sklearn.feature_extraction.text import CountVectorizer\n",
        "vectorizer=CountVectorizer(analyzer=\"word\", max_features=10000)\n",
        "\n",
        "train_features_3=vectorizer.fit_transform(train_text_3)\n",
        "train_features_3"
      ],
      "execution_count": null,
      "outputs": [
        {
          "output_type": "execute_result",
          "data": {
            "text/plain": [
              "<472972x10000 sparse matrix of type '<class 'numpy.int64'>'\n",
              "\twith 16452589 stored elements in Compressed Sparse Row format>"
            ]
          },
          "metadata": {
            "tags": []
          },
          "execution_count": 127
        }
      ]
    },
    {
      "cell_type": "code",
      "metadata": {
        "colab": {
          "base_uri": "https://localhost:8080/"
        },
        "id": "Efk4B3NElQNS",
        "outputId": "94f50e3f-a255-4f85-e693-af92e5be6b91"
      },
      "source": [
        "# train_text_3[0] = [train_text_3[0]]\n",
        "# train_features_33=vectorizer.transform(train_text_3[0])\n",
        "# train_features_33"
      ],
      "execution_count": null,
      "outputs": [
        {
          "output_type": "execute_result",
          "data": {
            "text/plain": [
              "<1x10000 sparse matrix of type '<class 'numpy.int64'>'\n",
              "\twith 35 stored elements in Compressed Sparse Row format>"
            ]
          },
          "metadata": {
            "tags": []
          },
          "execution_count": 128
        }
      ]
    },
    {
      "cell_type": "code",
      "metadata": {
        "id": "dsaosIPOnf_Q"
      },
      "source": [
        "#훈련 데이터 셋과 검증 데이터 셋으로 분리\n",
        "TEST_SIZE=0.2\n",
        "RANDOM_SEED=42\n",
        "\n",
        "x_train_3,x_val_3, y_train_3, y_val_3=train_test_split(train_features_3, train_level_3, test_size=TEST_SIZE, random_state=RANDOM_SEED)\n"
      ],
      "execution_count": null,
      "outputs": []
    },
    {
      "cell_type": "code",
      "metadata": {
        "id": "IpBSzuTPPxGj"
      },
      "source": [
        "from xgboost import XGBClassifier"
      ],
      "execution_count": null,
      "outputs": []
    },
    {
      "cell_type": "code",
      "metadata": {
        "colab": {
          "base_uri": "https://localhost:8080/"
        },
        "id": "PW1tS5EkQbIp",
        "outputId": "005a5688-eed1-4d80-a216-ff6ab19bea72"
      },
      "source": [
        "# XGBClassifier\n",
        "\n",
        "model_3 = XGBClassifier(booster='gbtree', \n",
        "                    colsample_bylevel=0.8, \n",
        "                    colsample_bytree=0.7, \n",
        "                    gamma=0, \n",
        "                    max_depth=5, learning_rate=0.15,\n",
        "                    n_estimators=100, \n",
        "                    nthread=4,\n",
        "                    objective = 'multi:softmax',\n",
        "                    silent= False,\n",
        "                    random_state = 42)\n",
        "\n",
        "model_3.fit(x_train_3, y_train_3, eval_set=[(x_val_3, y_val_3)],early_stopping_rounds=10)"
      ],
      "execution_count": null,
      "outputs": [
        {
          "output_type": "stream",
          "text": [
            "[0]\tvalidation_0-merror:0.002749\n",
            "Will train until validation_0-merror hasn't improved in 10 rounds.\n",
            "[1]\tvalidation_0-merror:0.002231\n",
            "[2]\tvalidation_0-merror:0.001882\n",
            "[3]\tvalidation_0-merror:0.001966\n",
            "[4]\tvalidation_0-merror:0.001945\n",
            "[5]\tvalidation_0-merror:0.001956\n",
            "[6]\tvalidation_0-merror:0.001956\n",
            "[7]\tvalidation_0-merror:0.001966\n",
            "[8]\tvalidation_0-merror:0.001956\n",
            "[9]\tvalidation_0-merror:0.001977\n",
            "[10]\tvalidation_0-merror:0.001966\n",
            "[11]\tvalidation_0-merror:0.001892\n",
            "[12]\tvalidation_0-merror:0.001892\n",
            "Stopping. Best iteration:\n",
            "[2]\tvalidation_0-merror:0.001882\n",
            "\n"
          ],
          "name": "stdout"
        },
        {
          "output_type": "execute_result",
          "data": {
            "text/plain": [
              "XGBClassifier(base_score=0.5, booster='gbtree', colsample_bylevel=0.8,\n",
              "              colsample_bynode=1, colsample_bytree=0.7, gamma=0,\n",
              "              learning_rate=0.15, max_delta_step=0, max_depth=5,\n",
              "              min_child_weight=1, missing=None, n_estimators=100, n_jobs=1,\n",
              "              nthread=4, objective='multi:softprob', random_state=42,\n",
              "              reg_alpha=0, reg_lambda=1, scale_pos_weight=1, seed=None,\n",
              "              silent=False, subsample=1, verbosity=1)"
            ]
          },
          "metadata": {
            "tags": []
          },
          "execution_count": 44
        }
      ]
    },
    {
      "cell_type": "code",
      "metadata": {
        "colab": {
          "base_uri": "https://localhost:8080/"
        },
        "id": "qHVRXVS1RWnB",
        "outputId": "bd1ea881-8b9c-4416-9755-430c9d6e1e4b"
      },
      "source": [
        "#모델 검증\n",
        "model_3.score(x_val_3, y_val_3)"
      ],
      "execution_count": null,
      "outputs": [
        {
          "output_type": "execute_result",
          "data": {
            "text/plain": [
              "0.998118293778741"
            ]
          },
          "metadata": {
            "tags": []
          },
          "execution_count": 45
        }
      ]
    },
    {
      "cell_type": "code",
      "metadata": {
        "colab": {
          "base_uri": "https://localhost:8080/",
          "height": 297
        },
        "id": "3xC47pkNQ5Dt",
        "outputId": "fa822001-b403-4934-ea7c-89fc292d79a1"
      },
      "source": [
        "#crosstab으로 확인\n",
        "pred_3 = model_3.predict(x_val_3)\n",
        "crosstab_3 = pd.crosstab(y_val_3, pred_3, rownames=['real'], colnames=['pred'])\n",
        "crosstab_3"
      ],
      "execution_count": null,
      "outputs": [
        {
          "output_type": "execute_result",
          "data": {
            "text/html": [
              "<div>\n",
              "<style scoped>\n",
              "    .dataframe tbody tr th:only-of-type {\n",
              "        vertical-align: middle;\n",
              "    }\n",
              "\n",
              "    .dataframe tbody tr th {\n",
              "        vertical-align: top;\n",
              "    }\n",
              "\n",
              "    .dataframe thead th {\n",
              "        text-align: right;\n",
              "    }\n",
              "</style>\n",
              "<table border=\"1\" class=\"dataframe\">\n",
              "  <thead>\n",
              "    <tr style=\"text-align: right;\">\n",
              "      <th>pred</th>\n",
              "      <th>0</th>\n",
              "      <th>1</th>\n",
              "      <th>2</th>\n",
              "      <th>3</th>\n",
              "      <th>4</th>\n",
              "      <th>5</th>\n",
              "    </tr>\n",
              "    <tr>\n",
              "      <th>real</th>\n",
              "      <th></th>\n",
              "      <th></th>\n",
              "      <th></th>\n",
              "      <th></th>\n",
              "      <th></th>\n",
              "      <th></th>\n",
              "    </tr>\n",
              "  </thead>\n",
              "  <tbody>\n",
              "    <tr>\n",
              "      <th>0</th>\n",
              "      <td>66785</td>\n",
              "      <td>1</td>\n",
              "      <td>0</td>\n",
              "      <td>0</td>\n",
              "      <td>0</td>\n",
              "      <td>0</td>\n",
              "    </tr>\n",
              "    <tr>\n",
              "      <th>1</th>\n",
              "      <td>145</td>\n",
              "      <td>26402</td>\n",
              "      <td>0</td>\n",
              "      <td>0</td>\n",
              "      <td>0</td>\n",
              "      <td>0</td>\n",
              "    </tr>\n",
              "    <tr>\n",
              "      <th>2</th>\n",
              "      <td>0</td>\n",
              "      <td>0</td>\n",
              "      <td>2</td>\n",
              "      <td>0</td>\n",
              "      <td>0</td>\n",
              "      <td>0</td>\n",
              "    </tr>\n",
              "    <tr>\n",
              "      <th>3</th>\n",
              "      <td>9</td>\n",
              "      <td>0</td>\n",
              "      <td>0</td>\n",
              "      <td>792</td>\n",
              "      <td>0</td>\n",
              "      <td>0</td>\n",
              "    </tr>\n",
              "    <tr>\n",
              "      <th>4</th>\n",
              "      <td>0</td>\n",
              "      <td>0</td>\n",
              "      <td>0</td>\n",
              "      <td>0</td>\n",
              "      <td>3</td>\n",
              "      <td>0</td>\n",
              "    </tr>\n",
              "    <tr>\n",
              "      <th>5</th>\n",
              "      <td>20</td>\n",
              "      <td>0</td>\n",
              "      <td>0</td>\n",
              "      <td>0</td>\n",
              "      <td>0</td>\n",
              "      <td>433</td>\n",
              "    </tr>\n",
              "    <tr>\n",
              "      <th>6</th>\n",
              "      <td>1</td>\n",
              "      <td>0</td>\n",
              "      <td>0</td>\n",
              "      <td>2</td>\n",
              "      <td>0</td>\n",
              "      <td>0</td>\n",
              "    </tr>\n",
              "  </tbody>\n",
              "</table>\n",
              "</div>"
            ],
            "text/plain": [
              "pred      0      1  2    3  4    5\n",
              "real                              \n",
              "0     66785      1  0    0  0    0\n",
              "1       145  26402  0    0  0    0\n",
              "2         0      0  2    0  0    0\n",
              "3         9      0  0  792  0    0\n",
              "4         0      0  0    0  3    0\n",
              "5        20      0  0    0  0  433\n",
              "6         1      0  0    2  0    0"
            ]
          },
          "metadata": {
            "tags": []
          },
          "execution_count": 85
        }
      ]
    },
    {
      "cell_type": "markdown",
      "metadata": {
        "id": "MjQXzeQ2ot9_"
      },
      "source": [
        "###### score : 0.998118293778741"
      ]
    },
    {
      "cell_type": "markdown",
      "metadata": {
        "id": "Q2nEHdnNNrS7"
      },
      "source": [
        "\n",
        "\n",
        "---\n",
        "\n"
      ]
    },
    {
      "cell_type": "code",
      "metadata": {
        "id": "MT_FUaQyVWKQ"
      },
      "source": [
        "# text_raw = input()\n",
        "# print(text_raw)\n",
        "# print('-------------------------------------------------')\n",
        "# data = {'id': 0,'level': 0,'full_log': [text_raw]}\n",
        "# df = pd.DataFrame(data)\n",
        "# print(df.head(5))\n",
        "# print('-------------------------------------------------')\n",
        "# df['full_log']=df['full_log'].str.replace(r'[0-9]', '<num>')\n",
        "# test_text=list(df['full_log'])\n",
        "# print(test_text)\n",
        "# print('-------------------------------------------------')\n",
        "\n",
        "\n",
        "# vectorizer=CountVectorizer(analyzer=\"word\", max_features=10000)\n",
        "# test_features=vectorizer.fit_transform(test_text)\n",
        "# print(test_features)\n",
        "\n",
        "\n",
        "# predict = model_3.predict(test_features)"
      ],
      "execution_count": null,
      "outputs": []
    },
    {
      "cell_type": "code",
      "metadata": {
        "colab": {
          "base_uri": "https://localhost:8080/",
          "height": 136
        },
        "id": "1GIf9X8uMwrS",
        "outputId": "5867d666-6321-4f2c-c78c-906e08675b54"
      },
      "source": [
        "# text = \"Sep 24 10:02:22 localhost kibana: {\"type\":\"error\",\"@timestamp\":\"2020-09-24T01:02:22Z\"}\"\n",
        "\n",
        "# text=text.replace(r'[0-9]', '<num>')\n",
        "# print(text)\n",
        "\n",
        "# vectorizer=CountVectorizer(analyzer=\"word\", max_features=10000)\n",
        "# features=vectorizer.fit_transform([text])\n",
        "     \n",
        "# predict = model_3.predict(features)"
      ],
      "execution_count": null,
      "outputs": [
        {
          "output_type": "error",
          "ename": "SyntaxError",
          "evalue": "ignored",
          "traceback": [
            "\u001b[0;36m  File \u001b[0;32m\"<ipython-input-92-21a54b210ed6>\"\u001b[0;36m, line \u001b[0;32m1\u001b[0m\n\u001b[0;31m    text = \"Sep 24 10:02:22 localhost kibana: {\"type\":\"error\",\"@timestamp\":\"2020-09-24T01:02:22Z\"}\"\u001b[0m\n\u001b[0m                                                   ^\u001b[0m\n\u001b[0;31mSyntaxError\u001b[0m\u001b[0;31m:\u001b[0m invalid syntax\n"
          ]
        }
      ]
    },
    {
      "cell_type": "code",
      "metadata": {
        "colab": {
          "base_uri": "https://localhost:8080/"
        },
        "id": "Ld7--NjYluwu",
        "outputId": "c3e5b7c8-56ce-469a-f5e5-ecb6dac80c60"
      },
      "source": [
        "# pred33 = model_3.predict(train_features_33)\n",
        "# print(pred33)"
      ],
      "execution_count": null,
      "outputs": [
        {
          "output_type": "stream",
          "text": [
            "[0]\n"
          ],
          "name": "stdout"
        }
      ]
    },
    {
      "cell_type": "markdown",
      "metadata": {
        "id": "vG9hldsmk4VB"
      },
      "source": [
        "\n",
        "\n",
        "---\n",
        "\n"
      ]
    },
    {
      "cell_type": "markdown",
      "metadata": {
        "id": "GjALcuntn0e5"
      },
      "source": [
        "### 방법4) 숫자 마스킹 처리 -> Countervectorizer -> ExtraTreesClassifier\n"
      ]
    },
    {
      "cell_type": "code",
      "metadata": {
        "id": "iGvB8Q2ppr-Q"
      },
      "source": [
        "train_5 = train"
      ],
      "execution_count": null,
      "outputs": []
    },
    {
      "cell_type": "code",
      "metadata": {
        "id": "Msji5NsxpuF8"
      },
      "source": [
        "# 숫자 마스킹 작업\n",
        "train_5['full_log']=train_5['full_log'].str.replace(r'[0-9]', '<num>')"
      ],
      "execution_count": null,
      "outputs": []
    },
    {
      "cell_type": "code",
      "metadata": {
        "id": "VKeorj5mRL6b"
      },
      "source": [
        "train_text_5=list(train_5['full_log'])\n",
        "train_level_5=np.array(train_5['level'])"
      ],
      "execution_count": null,
      "outputs": []
    },
    {
      "cell_type": "code",
      "metadata": {
        "colab": {
          "base_uri": "https://localhost:8080/"
        },
        "id": "mDYtDnj5RPv0",
        "outputId": "9fbee090-93f1-4bd9-889b-2c970c017337"
      },
      "source": [
        "#CountVectorizer로 벡터화\n",
        "from sklearn.feature_extraction.text import CountVectorizer\n",
        "vectorizer=CountVectorizer(analyzer=\"word\", max_features=10000)\n",
        "\n",
        "train_features_5=vectorizer.fit_transform(train_text_5)\n",
        "train_features_5"
      ],
      "execution_count": null,
      "outputs": [
        {
          "output_type": "execute_result",
          "data": {
            "text/plain": [
              "<472972x10000 sparse matrix of type '<class 'numpy.int64'>'\n",
              "\twith 16452589 stored elements in Compressed Sparse Row format>"
            ]
          },
          "metadata": {
            "tags": []
          },
          "execution_count": 50
        }
      ]
    },
    {
      "cell_type": "code",
      "metadata": {
        "id": "rgEed33kRY2o"
      },
      "source": [
        "#훈련 데이터 셋과 검증 데이터 셋으로 분리\n",
        "TEST_SIZE=0.2\n",
        "RANDOM_SEED=42\n",
        "\n",
        "x_train_5,x_val_5, y_train_5, y_val_5=train_test_split(train_features_5, train_level_5, test_size=TEST_SIZE, random_state=RANDOM_SEED)"
      ],
      "execution_count": null,
      "outputs": []
    },
    {
      "cell_type": "code",
      "metadata": {
        "id": "NgAYeswgpzp6"
      },
      "source": [
        "from sklearn.ensemble import ExtraTreesClassifier"
      ],
      "execution_count": null,
      "outputs": []
    },
    {
      "cell_type": "code",
      "metadata": {
        "colab": {
          "base_uri": "https://localhost:8080/"
        },
        "id": "75k_ps4WqNcj",
        "outputId": "3fbf3c47-f664-4767-a568-4a673811764d"
      },
      "source": [
        "model_5 = ExtraTreesClassifier(n_estimators=100, n_jobs=-1)\n",
        "model_5.fit(x_train_5, y_train_5)\n"
      ],
      "execution_count": null,
      "outputs": [
        {
          "output_type": "execute_result",
          "data": {
            "text/plain": [
              "ExtraTreesClassifier(bootstrap=False, ccp_alpha=0.0, class_weight=None,\n",
              "                     criterion='gini', max_depth=None, max_features='auto',\n",
              "                     max_leaf_nodes=None, max_samples=None,\n",
              "                     min_impurity_decrease=0.0, min_impurity_split=None,\n",
              "                     min_samples_leaf=1, min_samples_split=2,\n",
              "                     min_weight_fraction_leaf=0.0, n_estimators=100, n_jobs=-1,\n",
              "                     oob_score=False, random_state=None, verbose=0,\n",
              "                     warm_start=False)"
            ]
          },
          "metadata": {
            "tags": []
          },
          "execution_count": 53
        }
      ]
    },
    {
      "cell_type": "code",
      "metadata": {
        "colab": {
          "base_uri": "https://localhost:8080/"
        },
        "id": "DXGX_TyJqaLM",
        "outputId": "8cff5b7d-20a2-4b61-e857-e335a6284418"
      },
      "source": [
        "model_5.score(x_val_5, y_val_5)\n"
      ],
      "execution_count": null,
      "outputs": [
        {
          "output_type": "execute_result",
          "data": {
            "text/plain": [
              "0.9978962947301654"
            ]
          },
          "metadata": {
            "tags": []
          },
          "execution_count": 54
        }
      ]
    },
    {
      "cell_type": "code",
      "metadata": {
        "colab": {
          "base_uri": "https://localhost:8080/",
          "height": 297
        },
        "id": "tNMqqp6-qeKr",
        "outputId": "957763be-c5e3-4a2e-970a-d3628c57234a"
      },
      "source": [
        "#crosstab으로 확인\n",
        "pred_5 = model_5.predict(x_val_5)\n",
        "crosstab_5 = pd.crosstab(y_val_5, pred_5, rownames=['real'], colnames=['pred'])\n",
        "crosstab_5"
      ],
      "execution_count": null,
      "outputs": [
        {
          "output_type": "execute_result",
          "data": {
            "text/html": [
              "<div>\n",
              "<style scoped>\n",
              "    .dataframe tbody tr th:only-of-type {\n",
              "        vertical-align: middle;\n",
              "    }\n",
              "\n",
              "    .dataframe tbody tr th {\n",
              "        vertical-align: top;\n",
              "    }\n",
              "\n",
              "    .dataframe thead th {\n",
              "        text-align: right;\n",
              "    }\n",
              "</style>\n",
              "<table border=\"1\" class=\"dataframe\">\n",
              "  <thead>\n",
              "    <tr style=\"text-align: right;\">\n",
              "      <th>pred</th>\n",
              "      <th>0</th>\n",
              "      <th>1</th>\n",
              "      <th>2</th>\n",
              "      <th>3</th>\n",
              "      <th>4</th>\n",
              "      <th>5</th>\n",
              "    </tr>\n",
              "    <tr>\n",
              "      <th>real</th>\n",
              "      <th></th>\n",
              "      <th></th>\n",
              "      <th></th>\n",
              "      <th></th>\n",
              "      <th></th>\n",
              "      <th></th>\n",
              "    </tr>\n",
              "  </thead>\n",
              "  <tbody>\n",
              "    <tr>\n",
              "      <th>0</th>\n",
              "      <td>66726</td>\n",
              "      <td>58</td>\n",
              "      <td>0</td>\n",
              "      <td>0</td>\n",
              "      <td>0</td>\n",
              "      <td>2</td>\n",
              "    </tr>\n",
              "    <tr>\n",
              "      <th>1</th>\n",
              "      <td>118</td>\n",
              "      <td>26428</td>\n",
              "      <td>0</td>\n",
              "      <td>0</td>\n",
              "      <td>0</td>\n",
              "      <td>1</td>\n",
              "    </tr>\n",
              "    <tr>\n",
              "      <th>2</th>\n",
              "      <td>0</td>\n",
              "      <td>0</td>\n",
              "      <td>2</td>\n",
              "      <td>0</td>\n",
              "      <td>0</td>\n",
              "      <td>0</td>\n",
              "    </tr>\n",
              "    <tr>\n",
              "      <th>3</th>\n",
              "      <td>1</td>\n",
              "      <td>1</td>\n",
              "      <td>0</td>\n",
              "      <td>799</td>\n",
              "      <td>0</td>\n",
              "      <td>0</td>\n",
              "    </tr>\n",
              "    <tr>\n",
              "      <th>4</th>\n",
              "      <td>0</td>\n",
              "      <td>0</td>\n",
              "      <td>0</td>\n",
              "      <td>0</td>\n",
              "      <td>3</td>\n",
              "      <td>0</td>\n",
              "    </tr>\n",
              "    <tr>\n",
              "      <th>5</th>\n",
              "      <td>12</td>\n",
              "      <td>3</td>\n",
              "      <td>0</td>\n",
              "      <td>0</td>\n",
              "      <td>0</td>\n",
              "      <td>438</td>\n",
              "    </tr>\n",
              "    <tr>\n",
              "      <th>6</th>\n",
              "      <td>1</td>\n",
              "      <td>0</td>\n",
              "      <td>0</td>\n",
              "      <td>2</td>\n",
              "      <td>0</td>\n",
              "      <td>0</td>\n",
              "    </tr>\n",
              "  </tbody>\n",
              "</table>\n",
              "</div>"
            ],
            "text/plain": [
              "pred      0      1  2    3  4    5\n",
              "real                              \n",
              "0     66726     58  0    0  0    2\n",
              "1       118  26428  0    0  0    1\n",
              "2         0      0  2    0  0    0\n",
              "3         1      1  0  799  0    0\n",
              "4         0      0  0    0  3    0\n",
              "5        12      3  0    0  0  438\n",
              "6         1      0  0    2  0    0"
            ]
          },
          "metadata": {
            "tags": []
          },
          "execution_count": 55
        }
      ]
    },
    {
      "cell_type": "markdown",
      "metadata": {
        "id": "8vlJZQWORln3"
      },
      "source": [
        "###### score : 0.9978962947301654"
      ]
    },
    {
      "cell_type": "markdown",
      "metadata": {
        "id": "ksVoovis6dFO"
      },
      "source": [
        "\n",
        "\n",
        "---\n",
        "\n"
      ]
    },
    {
      "cell_type": "markdown",
      "metadata": {
        "id": "iP7-TsCU6eFd"
      },
      "source": [
        "### 방법5) 숫자 마스킹 처리 -> Countervectorizer -> KNN"
      ]
    },
    {
      "cell_type": "code",
      "metadata": {
        "id": "-C_YBqEK6h8Z"
      },
      "source": [
        "train_6 = train"
      ],
      "execution_count": null,
      "outputs": []
    },
    {
      "cell_type": "code",
      "metadata": {
        "id": "Ib1KESOP6h8a"
      },
      "source": [
        "train_6['full_log']=train_6['full_log'].str.replace(r'[0-9]', '<num>')"
      ],
      "execution_count": null,
      "outputs": []
    },
    {
      "cell_type": "code",
      "metadata": {
        "id": "Davqr1wd6rI3"
      },
      "source": [
        "train_text_6=list(train_6['full_log'])\n",
        "train_level_6=np.array(train_6['level'])"
      ],
      "execution_count": null,
      "outputs": []
    },
    {
      "cell_type": "code",
      "metadata": {
        "colab": {
          "base_uri": "https://localhost:8080/"
        },
        "id": "n6gounaV6vS7",
        "outputId": "79be675f-5e58-48ab-a187-20cefa781b8c"
      },
      "source": [
        "#CountVectorizer로 벡터화\n",
        "from sklearn.feature_extraction.text import CountVectorizer\n",
        "vectorizer=CountVectorizer(analyzer=\"word\", max_features=10000)\n",
        "\n",
        "train_features_6=vectorizer.fit_transform(train_text_6)\n",
        "train_features_6"
      ],
      "execution_count": null,
      "outputs": [
        {
          "output_type": "execute_result",
          "data": {
            "text/plain": [
              "<472972x10000 sparse matrix of type '<class 'numpy.int64'>'\n",
              "\twith 16452589 stored elements in Compressed Sparse Row format>"
            ]
          },
          "metadata": {
            "tags": []
          },
          "execution_count": 59
        }
      ]
    },
    {
      "cell_type": "code",
      "metadata": {
        "id": "ZABo4Nst61uh"
      },
      "source": [
        "#훈련 데이터 셋과 검증 데이터 셋으로 분리\n",
        "TEST_SIZE=0.2\n",
        "RANDOM_SEED=42\n",
        "\n",
        "x_train_6,x_val_6, y_train_6, y_val_6=train_test_split(train_features_6, train_level_6, test_size=TEST_SIZE, random_state=RANDOM_SEED)"
      ],
      "execution_count": null,
      "outputs": []
    },
    {
      "cell_type": "code",
      "metadata": {
        "id": "OvJ4EUIq7AuV"
      },
      "source": [
        "from sklearn.neighbors import KNeighborsClassifier"
      ],
      "execution_count": null,
      "outputs": []
    },
    {
      "cell_type": "code",
      "metadata": {
        "colab": {
          "base_uri": "https://localhost:8080/"
        },
        "id": "5lBx9EcS69Lg",
        "outputId": "7d8ee24a-998a-4f15-bbf0-7caf0f6359b1"
      },
      "source": [
        "model_6 = KNeighborsClassifier(n_neighbors = 3)\n",
        "model_6.fit(x_train_6, y_train_6)"
      ],
      "execution_count": null,
      "outputs": [
        {
          "output_type": "execute_result",
          "data": {
            "text/plain": [
              "KNeighborsClassifier(algorithm='auto', leaf_size=30, metric='minkowski',\n",
              "                     metric_params=None, n_jobs=None, n_neighbors=3, p=2,\n",
              "                     weights='uniform')"
            ]
          },
          "metadata": {
            "tags": []
          },
          "execution_count": 62
        }
      ]
    },
    {
      "cell_type": "code",
      "metadata": {
        "colab": {
          "base_uri": "https://localhost:8080/"
        },
        "id": "W-oarLxA6h8d",
        "outputId": "07d457bb-05b4-41c1-bce8-cbb91716dc5c"
      },
      "source": [
        "model_6.score(x_val_6, y_val_6)\n"
      ],
      "execution_count": null,
      "outputs": [
        {
          "output_type": "execute_result",
          "data": {
            "text/plain": [
              "0.9977165812146519"
            ]
          },
          "metadata": {
            "tags": []
          },
          "execution_count": 63
        }
      ]
    },
    {
      "cell_type": "code",
      "metadata": {
        "colab": {
          "base_uri": "https://localhost:8080/",
          "height": 297
        },
        "id": "hQeHe_zr6h8d",
        "outputId": "d0c5a9a5-be84-4f5b-8200-8b75ad1be7d1"
      },
      "source": [
        "#crosstab으로 확인\n",
        "pred_6 = model_6.predict(x_val_6)\n",
        "crosstab_6 = pd.crosstab(y_val_6, pred_6, rownames=['real'], colnames=['pred'])\n",
        "crosstab_6"
      ],
      "execution_count": null,
      "outputs": [
        {
          "output_type": "execute_result",
          "data": {
            "text/html": [
              "<div>\n",
              "<style scoped>\n",
              "    .dataframe tbody tr th:only-of-type {\n",
              "        vertical-align: middle;\n",
              "    }\n",
              "\n",
              "    .dataframe tbody tr th {\n",
              "        vertical-align: top;\n",
              "    }\n",
              "\n",
              "    .dataframe thead th {\n",
              "        text-align: right;\n",
              "    }\n",
              "</style>\n",
              "<table border=\"1\" class=\"dataframe\">\n",
              "  <thead>\n",
              "    <tr style=\"text-align: right;\">\n",
              "      <th>pred</th>\n",
              "      <th>0</th>\n",
              "      <th>1</th>\n",
              "      <th>2</th>\n",
              "      <th>3</th>\n",
              "      <th>4</th>\n",
              "      <th>5</th>\n",
              "    </tr>\n",
              "    <tr>\n",
              "      <th>real</th>\n",
              "      <th></th>\n",
              "      <th></th>\n",
              "      <th></th>\n",
              "      <th></th>\n",
              "      <th></th>\n",
              "      <th></th>\n",
              "    </tr>\n",
              "  </thead>\n",
              "  <tbody>\n",
              "    <tr>\n",
              "      <th>0</th>\n",
              "      <td>66706</td>\n",
              "      <td>78</td>\n",
              "      <td>0</td>\n",
              "      <td>1</td>\n",
              "      <td>0</td>\n",
              "      <td>1</td>\n",
              "    </tr>\n",
              "    <tr>\n",
              "      <th>1</th>\n",
              "      <td>113</td>\n",
              "      <td>26433</td>\n",
              "      <td>0</td>\n",
              "      <td>0</td>\n",
              "      <td>0</td>\n",
              "      <td>1</td>\n",
              "    </tr>\n",
              "    <tr>\n",
              "      <th>2</th>\n",
              "      <td>0</td>\n",
              "      <td>0</td>\n",
              "      <td>2</td>\n",
              "      <td>0</td>\n",
              "      <td>0</td>\n",
              "      <td>0</td>\n",
              "    </tr>\n",
              "    <tr>\n",
              "      <th>3</th>\n",
              "      <td>1</td>\n",
              "      <td>1</td>\n",
              "      <td>0</td>\n",
              "      <td>799</td>\n",
              "      <td>0</td>\n",
              "      <td>0</td>\n",
              "    </tr>\n",
              "    <tr>\n",
              "      <th>4</th>\n",
              "      <td>0</td>\n",
              "      <td>0</td>\n",
              "      <td>0</td>\n",
              "      <td>0</td>\n",
              "      <td>3</td>\n",
              "      <td>0</td>\n",
              "    </tr>\n",
              "    <tr>\n",
              "      <th>5</th>\n",
              "      <td>12</td>\n",
              "      <td>4</td>\n",
              "      <td>0</td>\n",
              "      <td>1</td>\n",
              "      <td>0</td>\n",
              "      <td>436</td>\n",
              "    </tr>\n",
              "    <tr>\n",
              "      <th>6</th>\n",
              "      <td>1</td>\n",
              "      <td>0</td>\n",
              "      <td>0</td>\n",
              "      <td>2</td>\n",
              "      <td>0</td>\n",
              "      <td>0</td>\n",
              "    </tr>\n",
              "  </tbody>\n",
              "</table>\n",
              "</div>"
            ],
            "text/plain": [
              "pred      0      1  2    3  4    5\n",
              "real                              \n",
              "0     66706     78  0    1  0    1\n",
              "1       113  26433  0    0  0    1\n",
              "2         0      0  2    0  0    0\n",
              "3         1      1  0  799  0    0\n",
              "4         0      0  0    0  3    0\n",
              "5        12      4  0    1  0  436\n",
              "6         1      0  0    2  0    0"
            ]
          },
          "metadata": {
            "tags": []
          },
          "execution_count": 64
        }
      ]
    },
    {
      "cell_type": "markdown",
      "metadata": {
        "id": "KSv-b9zFRBBa"
      },
      "source": [
        "###### score : 0.9977165812146519"
      ]
    },
    {
      "cell_type": "markdown",
      "metadata": {
        "id": "HYfT5z6I8K9i"
      },
      "source": [
        "### 방법6) 숫자 마스킹 처리 -> Countervectorizer -> Adaboost"
      ]
    },
    {
      "cell_type": "code",
      "metadata": {
        "id": "RTdH_fW68UEC"
      },
      "source": [
        "train_7 = train"
      ],
      "execution_count": null,
      "outputs": []
    },
    {
      "cell_type": "code",
      "metadata": {
        "id": "g_Ur1uQQ8UED"
      },
      "source": [
        "train_7['full_log']=train_7['full_log'].str.replace(r'[0-9]', '<num>')"
      ],
      "execution_count": null,
      "outputs": []
    },
    {
      "cell_type": "code",
      "metadata": {
        "id": "ZeXAn3xb8UEE"
      },
      "source": [
        "train_text_7=list(train_7['full_log'])\n",
        "train_level_7=np.array(train_7['level'])"
      ],
      "execution_count": null,
      "outputs": []
    },
    {
      "cell_type": "code",
      "metadata": {
        "colab": {
          "base_uri": "https://localhost:8080/"
        },
        "id": "iJyHc7OX8UEE",
        "outputId": "2d7a49e6-10ed-4f05-d7d4-c79d38b624ee"
      },
      "source": [
        "#CountVectorizer로 벡터화\n",
        "from sklearn.feature_extraction.text import CountVectorizer\n",
        "vectorizer=CountVectorizer(analyzer=\"word\", max_features=10000)\n",
        "\n",
        "train_features_7=vectorizer.fit_transform(train_text_7)\n",
        "train_features_7"
      ],
      "execution_count": null,
      "outputs": [
        {
          "output_type": "execute_result",
          "data": {
            "text/plain": [
              "<472972x10000 sparse matrix of type '<class 'numpy.int64'>'\n",
              "\twith 16452589 stored elements in Compressed Sparse Row format>"
            ]
          },
          "metadata": {
            "tags": []
          },
          "execution_count": 68
        }
      ]
    },
    {
      "cell_type": "code",
      "metadata": {
        "id": "EcWZhdFD8UEF"
      },
      "source": [
        "#훈련 데이터 셋과 검증 데이터 셋으로 분리\n",
        "TEST_SIZE=0.2\n",
        "RANDOM_SEED=42\n",
        "\n",
        "x_train_7,x_val_7, y_train_7, y_val_7=train_test_split(train_features_7, train_level_7, test_size=TEST_SIZE, random_state=RANDOM_SEED)"
      ],
      "execution_count": null,
      "outputs": []
    },
    {
      "cell_type": "code",
      "metadata": {
        "id": "LBPCsJaw8tZo"
      },
      "source": [
        "from sklearn.ensemble import AdaBoostClassifier"
      ],
      "execution_count": null,
      "outputs": []
    },
    {
      "cell_type": "code",
      "metadata": {
        "colab": {
          "base_uri": "https://localhost:8080/"
        },
        "id": "J7Za2E1M8wJn",
        "outputId": "c99c4a81-b520-42f6-ee82-dee0b687aefb"
      },
      "source": [
        "model_7 = AdaBoostClassifier(n_estimators=100)\n",
        "model_7.fit(x_train_7, y_train_7)"
      ],
      "execution_count": null,
      "outputs": [
        {
          "output_type": "execute_result",
          "data": {
            "text/plain": [
              "AdaBoostClassifier(algorithm='SAMME.R', base_estimator=None, learning_rate=1.0,\n",
              "                   n_estimators=100, random_state=None)"
            ]
          },
          "metadata": {
            "tags": []
          },
          "execution_count": 71
        }
      ]
    },
    {
      "cell_type": "code",
      "metadata": {
        "colab": {
          "base_uri": "https://localhost:8080/"
        },
        "id": "5rJurmTe86DG",
        "outputId": "8247bc6f-6d82-47bf-db67-5541cea3d3f0"
      },
      "source": [
        "model_7.score(x_val_7, y_val_7)"
      ],
      "execution_count": null,
      "outputs": [
        {
          "output_type": "execute_result",
          "data": {
            "text/plain": [
              "0.9624504466409429"
            ]
          },
          "metadata": {
            "tags": []
          },
          "execution_count": 72
        }
      ]
    },
    {
      "cell_type": "markdown",
      "metadata": {
        "id": "6TyJyjsHRDjB"
      },
      "source": [
        "###### score : 0.9624504466409429"
      ]
    },
    {
      "cell_type": "markdown",
      "metadata": {
        "id": "yXEubvD6l1Rf"
      },
      "source": [
        "### => 머신러닝 모델 비교 결과 : XGBClassifier의 성능이 가장 우수"
      ]
    },
    {
      "cell_type": "markdown",
      "metadata": {
        "id": "Wd56oR8yquFY"
      },
      "source": [
        "\n",
        "\n",
        "---\n",
        "\n"
      ]
    },
    {
      "cell_type": "markdown",
      "metadata": {
        "id": "dcnTyI6KSn9_"
      },
      "source": [
        "# 우수한 모델의 성능향상을 위한 CV 진행"
      ]
    },
    {
      "cell_type": "markdown",
      "metadata": {
        "id": "KKHrfW_QTpql"
      },
      "source": [
        "### 방법1) RandomSearchCV 를 활용한 방법"
      ]
    },
    {
      "cell_type": "code",
      "metadata": {
        "colab": {
          "base_uri": "https://localhost:8080/"
        },
        "id": "BHDjMNCEUyNC",
        "outputId": "986b5072-526e-4638-ccc2-ca8f94f084c0"
      },
      "source": [
        "# XGBClassifier의 하이퍼 파라미터 확인\n",
        "import xgboost as xgb\n",
        "\n",
        "xgb_clf = xgb.XGBClassifier()\n",
        "\n",
        "print(xgb_clf)"
      ],
      "execution_count": null,
      "outputs": [
        {
          "output_type": "stream",
          "text": [
            "XGBClassifier(base_score=0.5, booster='gbtree', colsample_bylevel=1,\n",
            "              colsample_bynode=1, colsample_bytree=1, gamma=0,\n",
            "              learning_rate=0.1, max_delta_step=0, max_depth=3,\n",
            "              min_child_weight=1, missing=None, n_estimators=100, n_jobs=1,\n",
            "              nthread=None, objective='binary:logistic', random_state=0,\n",
            "              reg_alpha=0, reg_lambda=1, scale_pos_weight=1, seed=None,\n",
            "              silent=None, subsample=1, verbosity=1)\n"
          ],
          "name": "stdout"
        }
      ]
    },
    {
      "cell_type": "code",
      "metadata": {
        "colab": {
          "background_save": true,
          "base_uri": "https://localhost:8080/"
        },
        "id": "yAW89b3UTtKo",
        "outputId": "30331baf-5b2c-4140-bc52-4b36f0e9a9d3"
      },
      "source": [
        "from sklearn.model_selection import RandomizedSearchCV\n",
        "\n",
        "# 하이퍼파라미터 격자생성\n",
        "xgb_param_grid = {'max_depth': list(range(2,10))}\n",
        "\n",
        "xgb_random = RandomizedSearchCV(estimator = xgb_clf,\n",
        "                                param_distributions = xgb_param_grid,\n",
        "                                n_iter = 10,\n",
        "                                n_jobs=-1, \n",
        "                                cv = 3, \n",
        "                                refit=True, \n",
        "                                return_train_score = True)\n",
        "\n",
        "# Fit to the training data\n",
        "xgb_random.fit(x_train_3, y_train_3)"
      ],
      "execution_count": null,
      "outputs": [
        {
          "output_type": "stream",
          "text": [
            "/usr/local/lib/python3.7/dist-packages/sklearn/model_selection/_search.py:281: UserWarning: The total space of parameters 8 is smaller than n_iter=10. Running 8 iterations. For exhaustive searches, use GridSearchCV.\n",
            "  % (grid_size, self.n_iter, grid_size), UserWarning)\n"
          ],
          "name": "stderr"
        }
      ]
    },
    {
      "cell_type": "code",
      "metadata": {
        "id": "gUD6m_07tqr-"
      },
      "source": [
        "random_df = pd.DataFrame(xgb_random.cv_results_)\n",
        "random_df.loc[:, ['mean_test_score', \"params\"]]"
      ],
      "execution_count": null,
      "outputs": []
    }
  ]
}