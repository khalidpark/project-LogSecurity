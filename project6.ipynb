{
  "nbformat": 4,
  "nbformat_minor": 0,
  "metadata": {
    "colab": {
      "name": "project6.ipynb",
      "provenance": [],
      "collapsed_sections": [],
      "toc_visible": true,
      "authorship_tag": "ABX9TyMVP9W/3SfpttNxzUrzM5JM",
      "include_colab_link": true
    },
    "kernelspec": {
      "name": "python3",
      "display_name": "Python 3"
    },
    "language_info": {
      "name": "python"
    },
    "accelerator": "GPU"
  },
  "cells": [
    {
      "cell_type": "markdown",
      "metadata": {
        "id": "view-in-github",
        "colab_type": "text"
      },
      "source": [
        "<a href=\"https://colab.research.google.com/github/khalidpark/project-LogSecurity/blob/main/project6.ipynb\" target=\"_parent\"><img src=\"https://colab.research.google.com/assets/colab-badge.svg\" alt=\"Open In Colab\"/></a>"
      ]
    },
    {
      "cell_type": "markdown",
      "metadata": {
        "id": "R0p2uCXID3Yw"
      },
      "source": [
        "# 데이터 불러오기 및 간단 EDA"
      ]
    },
    {
      "cell_type": "code",
      "metadata": {
        "id": "2UwYHIv5I2KV"
      },
      "source": [
        "import numpy as np\n",
        "import pandas as pd\n",
        "import os\n",
        "import gc\n",
        "import matplotlib.pyplot as plt\n",
        "import tensorflow as tf\n",
        "from sklearn.model_selection import train_test_split\n",
        "from tqdm import tqdm"
      ],
      "execution_count": 8,
      "outputs": []
    },
    {
      "cell_type": "code",
      "metadata": {
        "id": "KJXtUp3kI7Nh",
        "colab": {
          "base_uri": "https://localhost:8080/"
        },
        "outputId": "1ad48d72-2b5c-405d-e37b-6a7335f4b1fb"
      },
      "source": [
        "train=pd.read_csv('/content/train.csv', error_bad_lines=False, engine=\"python\")"
      ],
      "execution_count": 9,
      "outputs": [
        {
          "output_type": "stream",
          "text": [
            "Skipping line 288562: unexpected end of data\n"
          ],
          "name": "stderr"
        }
      ]
    },
    {
      "cell_type": "code",
      "metadata": {
        "colab": {
          "base_uri": "https://localhost:8080/"
        },
        "id": "ZAtvPjU7Bkng",
        "outputId": "56172bd5-7e6c-4198-8d11-c9bfe9a0be12"
      },
      "source": [
        "print(train.shape)"
      ],
      "execution_count": 10,
      "outputs": [
        {
          "output_type": "stream",
          "text": [
            "(288560, 3)\n"
          ],
          "name": "stdout"
        }
      ]
    },
    {
      "cell_type": "code",
      "metadata": {
        "colab": {
          "base_uri": "https://localhost:8080/",
          "height": 204
        },
        "id": "rO7_L6bEBrwJ",
        "outputId": "ccd1d574-8653-47a5-f09f-38277a65e4aa"
      },
      "source": [
        "train.head()"
      ],
      "execution_count": 11,
      "outputs": [
        {
          "output_type": "execute_result",
          "data": {
            "text/html": [
              "<div>\n",
              "<style scoped>\n",
              "    .dataframe tbody tr th:only-of-type {\n",
              "        vertical-align: middle;\n",
              "    }\n",
              "\n",
              "    .dataframe tbody tr th {\n",
              "        vertical-align: top;\n",
              "    }\n",
              "\n",
              "    .dataframe thead th {\n",
              "        text-align: right;\n",
              "    }\n",
              "</style>\n",
              "<table border=\"1\" class=\"dataframe\">\n",
              "  <thead>\n",
              "    <tr style=\"text-align: right;\">\n",
              "      <th></th>\n",
              "      <th>id</th>\n",
              "      <th>level</th>\n",
              "      <th>full_log</th>\n",
              "    </tr>\n",
              "  </thead>\n",
              "  <tbody>\n",
              "    <tr>\n",
              "      <th>0</th>\n",
              "      <td>0</td>\n",
              "      <td>0</td>\n",
              "      <td>Sep 24 10:02:22 localhost kibana: {\"type\":\"err...</td>\n",
              "    </tr>\n",
              "    <tr>\n",
              "      <th>1</th>\n",
              "      <td>1</td>\n",
              "      <td>0</td>\n",
              "      <td>Feb  8 16:21:00 localhost logstash: [2021-02-0...</td>\n",
              "    </tr>\n",
              "    <tr>\n",
              "      <th>2</th>\n",
              "      <td>2</td>\n",
              "      <td>0</td>\n",
              "      <td>Jan 13 01:50:40 localhost kibana: {\"type\":\"err...</td>\n",
              "    </tr>\n",
              "    <tr>\n",
              "      <th>3</th>\n",
              "      <td>3</td>\n",
              "      <td>0</td>\n",
              "      <td>Jan  4 10:18:31 localhost kibana: {\"type\":\"err...</td>\n",
              "    </tr>\n",
              "    <tr>\n",
              "      <th>4</th>\n",
              "      <td>4</td>\n",
              "      <td>1</td>\n",
              "      <td>type=SYSCALL msg=audit(1603094402.016:52981): ...</td>\n",
              "    </tr>\n",
              "  </tbody>\n",
              "</table>\n",
              "</div>"
            ],
            "text/plain": [
              "   id  level                                           full_log\n",
              "0   0      0  Sep 24 10:02:22 localhost kibana: {\"type\":\"err...\n",
              "1   1      0  Feb  8 16:21:00 localhost logstash: [2021-02-0...\n",
              "2   2      0  Jan 13 01:50:40 localhost kibana: {\"type\":\"err...\n",
              "3   3      0  Jan  4 10:18:31 localhost kibana: {\"type\":\"err...\n",
              "4   4      1  type=SYSCALL msg=audit(1603094402.016:52981): ..."
            ]
          },
          "metadata": {
            "tags": []
          },
          "execution_count": 11
        }
      ]
    },
    {
      "cell_type": "code",
      "metadata": {
        "colab": {
          "base_uri": "https://localhost:8080/"
        },
        "id": "228CRlvKCY0w",
        "outputId": "d778bb8a-c7ac-49c9-d208-6325f2300a05"
      },
      "source": [
        "#로그 데이터 프린트 후 구성 확인\n",
        "print(train['full_log'][0])"
      ],
      "execution_count": 12,
      "outputs": [
        {
          "output_type": "stream",
          "text": [
            "Sep 24 10:02:22 localhost kibana: {\"type\":\"error\",\"@timestamp\":\"2020-09-24T01:02:22Z\",\"tags\":[\"warning\",\"stats-collection\"],\"pid\":6458,\"level\":\"error\",\"error\":{\"message\":\"No Living connections\",\"name\":\"Error\",\"stack\":\"Error: No Living connections\\n    at sendReqWithConnection (/usr/share/kibana/node_modules/elasticsearch/src/lib/transport.js:226:15)\\n    at next (/usr/share/kibana/node_modules/elasticsearch/src/lib/connection_pool.js:214:7)\\n    at process._tickCallback (internal/process/next_tick.js:61:11)\"},\"message\":\"No Living connections\"}\n"
          ],
          "name": "stdout"
        }
      ]
    },
    {
      "cell_type": "code",
      "metadata": {
        "colab": {
          "base_uri": "https://localhost:8080/"
        },
        "id": "Hhu5LKqKDJCB",
        "outputId": "f8f4ec3f-ddf9-47dc-8042-b164d596c918"
      },
      "source": [
        "##로그 데이터 프린트 후 구성 확인\n",
        "print(train['full_log'][1])"
      ],
      "execution_count": 13,
      "outputs": [
        {
          "output_type": "stream",
          "text": [
            "Feb  8 16:21:00 localhost logstash: [2021-02-08T16:21:00,548][INFO ][logstash.outputs.elasticsearch] retrying failed action with response code: 503 ({\"type\"=>\"unavailable_shards_exception\", \"reason\"=>\"[wazuh-alerts-audit-3.x-2021.16.08][3] primary shard is not active Timeout: [1m], request: [BulkShardRequest [[wazuh-alerts-audit-3.x-2021.16.08][3]] containing [25] requests]\"})\n"
          ],
          "name": "stdout"
        }
      ]
    },
    {
      "cell_type": "markdown",
      "metadata": {
        "id": "N1RmLUKpChVF"
      },
      "source": [
        "### full_log 분석\n",
        "\n",
        "full log는 딕셔너리 형식\n",
        "\n",
        "데이터의 형식이고정되어있지 않아, 위험 키워드를 특정하거나 수치만을 활용하는 방법이 필요하다 판단됨.\n"
      ]
    },
    {
      "cell_type": "code",
      "metadata": {
        "colab": {
          "base_uri": "https://localhost:8080/",
          "height": 283
        },
        "id": "x2cAL8-_B0xa",
        "outputId": "0664d16d-f429-418b-a1d5-18a2f300f096"
      },
      "source": [
        "#train full_log의 길이 확인\n",
        "train['full_log'].str.split(' ').str.len().hist(bins=20)"
      ],
      "execution_count": 14,
      "outputs": [
        {
          "output_type": "execute_result",
          "data": {
            "text/plain": [
              "<matplotlib.axes._subplots.AxesSubplot at 0x7f4c41363c50>"
            ]
          },
          "metadata": {
            "tags": []
          },
          "execution_count": 14
        },
        {
          "output_type": "display_data",
          "data": {
            "image/png": "[encoded data removed]",
            "text/plain": [
              "<Figure size 432x288 with 1 Axes>"
            ]
          },
          "metadata": {
            "tags": [],
            "needs_background": "light"
          }
        }
      ]
    },
    {
      "cell_type": "code",
      "metadata": {
        "colab": {
          "base_uri": "https://localhost:8080/"
        },
        "id": "V1xvmHvAB-UI",
        "outputId": "95eabcca-5075-45c0-9d3f-eec3c5dbcd0c"
      },
      "source": [
        "#train level별 값 확인\n",
        "train['level'].value_counts()"
      ],
      "execution_count": 15,
      "outputs": [
        {
          "output_type": "execute_result",
          "data": {
            "text/plain": [
              "0    203887\n",
              "1     80791\n",
              "3      2524\n",
              "5      1343\n",
              "4         6\n",
              "6         5\n",
              "2         4\n",
              "Name: level, dtype: int64"
            ]
          },
          "metadata": {
            "tags": []
          },
          "execution_count": 15
        }
      ]
    },
    {
      "cell_type": "markdown",
      "metadata": {
        "id": "j9Kpn4NbCBke"
      },
      "source": [
        "### 분포분석\n",
        "\n",
        "보안위험이 0 인 분포의 비율이 70%이므로 분포의 가중치를 유의하여 모델에 적용해야함"
      ]
    },
    {
      "cell_type": "markdown",
      "metadata": {
        "id": "_cDKvmX1DyDo"
      },
      "source": [
        "\n",
        "\n",
        "---\n",
        "\n"
      ]
    },
    {
      "cell_type": "markdown",
      "metadata": {
        "id": "-4UYFG_wDzuy"
      },
      "source": [
        "# 데이터전처리 및 모델링"
      ]
    },
    {
      "cell_type": "markdown",
      "metadata": {
        "id": "3NhOELGJEHVZ"
      },
      "source": [
        "### 방법1) 숫자 마스킹 처리 -> CountVectorizer -> Randomforest"
      ]
    },
    {
      "cell_type": "code",
      "metadata": {
        "id": "54CiXSwHSXZP"
      },
      "source": [
        "train_1 = train.copy()"
      ],
      "execution_count": 16,
      "outputs": []
    },
    {
      "cell_type": "code",
      "metadata": {
        "id": "OrIvOu5tF29k"
      },
      "source": [
        "#full_log에서 숫자는 마스킹 처리\n",
        "train_1['full_log']=train_1['full_log'].str.replace(r'[0-9]', '<num>')"
      ],
      "execution_count": 17,
      "outputs": []
    },
    {
      "cell_type": "code",
      "metadata": {
        "colab": {
          "base_uri": "https://localhost:8080/"
        },
        "id": "dBeyABt5jir2",
        "outputId": "2fa96a51-f849-488b-e762-1b2ba5db41ae"
      },
      "source": [
        "#마스킹 전 후 비교\n",
        "print(train['full_log'][0])\n",
        "print(train_1['full_log'][0])"
      ],
      "execution_count": 18,
      "outputs": [
        {
          "output_type": "stream",
          "text": [
            "Sep 24 10:02:22 localhost kibana: {\"type\":\"error\",\"@timestamp\":\"2020-09-24T01:02:22Z\",\"tags\":[\"warning\",\"stats-collection\"],\"pid\":6458,\"level\":\"error\",\"error\":{\"message\":\"No Living connections\",\"name\":\"Error\",\"stack\":\"Error: No Living connections\\n    at sendReqWithConnection (/usr/share/kibana/node_modules/elasticsearch/src/lib/transport.js:226:15)\\n    at next (/usr/share/kibana/node_modules/elasticsearch/src/lib/connection_pool.js:214:7)\\n    at process._tickCallback (internal/process/next_tick.js:61:11)\"},\"message\":\"No Living connections\"}\n",
            "Sep <num><num> <num><num>:<num><num>:<num><num> localhost kibana: {\"type\":\"error\",\"@timestamp\":\"<num><num><num><num>-<num><num>-<num><num>T<num><num>:<num><num>:<num><num>Z\",\"tags\":[\"warning\",\"stats-collection\"],\"pid\":<num><num><num><num>,\"level\":\"error\",\"error\":{\"message\":\"No Living connections\",\"name\":\"Error\",\"stack\":\"Error: No Living connections\\n    at sendReqWithConnection (/usr/share/kibana/node_modules/elasticsearch/src/lib/transport.js:<num><num><num>:<num><num>)\\n    at next (/usr/share/kibana/node_modules/elasticsearch/src/lib/connection_pool.js:<num><num><num>:<num>)\\n    at process._tickCallback (internal/process/next_tick.js:<num><num>:<num><num>)\"},\"message\":\"No Living connections\"}\n"
          ],
          "name": "stdout"
        }
      ]
    },
    {
      "cell_type": "code",
      "metadata": {
        "id": "tTSTZfOhF-3w"
      },
      "source": [
        "#train['full_log'] => train_text로 list\n",
        "#train['level']=> train_level로 array\n",
        "train_text_1=list(train_1['full_log'])\n",
        "train_level_1=np.array(train_1['level'])"
      ],
      "execution_count": 19,
      "outputs": []
    },
    {
      "cell_type": "code",
      "metadata": {
        "id": "gr5M4wDfGEoe"
      },
      "source": [
        "#CountVectorizer로 벡터화\n",
        "from sklearn.feature_extraction.text import CountVectorizer\n",
        "vectorizer=CountVectorizer(analyzer=\"word\", max_features=10000)\n",
        "\n",
        "train_features_1=vectorizer.fit_transform(train_text_1)"
      ],
      "execution_count": 20,
      "outputs": []
    },
    {
      "cell_type": "code",
      "metadata": {
        "colab": {
          "base_uri": "https://localhost:8080/"
        },
        "id": "ufKlS2_oG4p4",
        "outputId": "9cbf0b8b-f5fb-4974-aece-8d02c844f06f"
      },
      "source": [
        "train_features_1"
      ],
      "execution_count": 21,
      "outputs": [
        {
          "output_type": "execute_result",
          "data": {
            "text/plain": [
              "<288560x10000 sparse matrix of type '<class 'numpy.int64'>'\n",
              "\twith 10035801 stored elements in Compressed Sparse Row format>"
            ]
          },
          "metadata": {
            "tags": []
          },
          "execution_count": 21
        }
      ]
    },
    {
      "cell_type": "code",
      "metadata": {
        "id": "nQntL5FzHEXs"
      },
      "source": [
        "#훈련 데이터 셋과 검증 데이터 셋으로 분리\n",
        "TEST_SIZE=0.2\n",
        "RANDOM_SEED=42\n",
        "\n",
        "x_train_1,x_val_1, y_train_1, y_val_1=train_test_split(train_features_1, train_level_1, test_size=TEST_SIZE, random_state=RANDOM_SEED)\n"
      ],
      "execution_count": 22,
      "outputs": []
    },
    {
      "cell_type": "code",
      "metadata": {
        "colab": {
          "base_uri": "https://localhost:8080/"
        },
        "id": "D71EjwI1HNr4",
        "outputId": "981c39d9-dece-47bb-ab06-d4f35d54886d"
      },
      "source": [
        "#랜덤포레스트로 모델링\n",
        "from sklearn.ensemble import RandomForestClassifier\n",
        "\n",
        "model_1=RandomForestClassifier(n_estimators=100)\n",
        "\n",
        "model_1.fit(x_train_1, y_train_1)"
      ],
      "execution_count": 23,
      "outputs": [
        {
          "output_type": "execute_result",
          "data": {
            "text/plain": [
              "RandomForestClassifier(bootstrap=True, ccp_alpha=0.0, class_weight=None,\n",
              "                       criterion='gini', max_depth=None, max_features='auto',\n",
              "                       max_leaf_nodes=None, max_samples=None,\n",
              "                       min_impurity_decrease=0.0, min_impurity_split=None,\n",
              "                       min_samples_leaf=1, min_samples_split=2,\n",
              "                       min_weight_fraction_leaf=0.0, n_estimators=100,\n",
              "                       n_jobs=None, oob_score=False, random_state=None,\n",
              "                       verbose=0, warm_start=False)"
            ]
          },
          "metadata": {
            "tags": []
          },
          "execution_count": 23
        }
      ]
    },
    {
      "cell_type": "code",
      "metadata": {
        "colab": {
          "base_uri": "https://localhost:8080/"
        },
        "id": "AeLDq6g_HVUL",
        "outputId": "1316711a-b907-4b47-ebc0-17751c110e7c"
      },
      "source": [
        "#모델 검증\n",
        "model_1.score(x_val_1, y_val_1)"
      ],
      "execution_count": 24,
      "outputs": [
        {
          "output_type": "execute_result",
          "data": {
            "text/plain": [
              "0.9975221790962018"
            ]
          },
          "metadata": {
            "tags": []
          },
          "execution_count": 24
        }
      ]
    },
    {
      "cell_type": "code",
      "metadata": {
        "colab": {
          "base_uri": "https://localhost:8080/",
          "height": 266
        },
        "id": "fnQlTJR5Hfwa",
        "outputId": "0c765ef9-4a44-4e98-8142-406baa9e9483"
      },
      "source": [
        "#crosstab으로 확인\n",
        "pred_1=model_1.predict(x_val_1)\n",
        "crosstab_1 = pd.crosstab(y_val_1, pred_1, rownames=['real'], colnames=['pred'])\n",
        "crosstab_1"
      ],
      "execution_count": 25,
      "outputs": [
        {
          "output_type": "execute_result",
          "data": {
            "text/html": [
              "<div>\n",
              "<style scoped>\n",
              "    .dataframe tbody tr th:only-of-type {\n",
              "        vertical-align: middle;\n",
              "    }\n",
              "\n",
              "    .dataframe tbody tr th {\n",
              "        vertical-align: top;\n",
              "    }\n",
              "\n",
              "    .dataframe thead th {\n",
              "        text-align: right;\n",
              "    }\n",
              "</style>\n",
              "<table border=\"1\" class=\"dataframe\">\n",
              "  <thead>\n",
              "    <tr style=\"text-align: right;\">\n",
              "      <th>pred</th>\n",
              "      <th>0</th>\n",
              "      <th>1</th>\n",
              "      <th>3</th>\n",
              "      <th>4</th>\n",
              "      <th>5</th>\n",
              "    </tr>\n",
              "    <tr>\n",
              "      <th>real</th>\n",
              "      <th></th>\n",
              "      <th></th>\n",
              "      <th></th>\n",
              "      <th></th>\n",
              "      <th></th>\n",
              "    </tr>\n",
              "  </thead>\n",
              "  <tbody>\n",
              "    <tr>\n",
              "      <th>0</th>\n",
              "      <td>40692</td>\n",
              "      <td>37</td>\n",
              "      <td>2</td>\n",
              "      <td>0</td>\n",
              "      <td>4</td>\n",
              "    </tr>\n",
              "    <tr>\n",
              "      <th>1</th>\n",
              "      <td>88</td>\n",
              "      <td>16134</td>\n",
              "      <td>0</td>\n",
              "      <td>0</td>\n",
              "      <td>1</td>\n",
              "    </tr>\n",
              "    <tr>\n",
              "      <th>3</th>\n",
              "      <td>2</td>\n",
              "      <td>0</td>\n",
              "      <td>477</td>\n",
              "      <td>0</td>\n",
              "      <td>0</td>\n",
              "    </tr>\n",
              "    <tr>\n",
              "      <th>4</th>\n",
              "      <td>0</td>\n",
              "      <td>0</td>\n",
              "      <td>0</td>\n",
              "      <td>2</td>\n",
              "      <td>0</td>\n",
              "    </tr>\n",
              "    <tr>\n",
              "      <th>5</th>\n",
              "      <td>7</td>\n",
              "      <td>1</td>\n",
              "      <td>0</td>\n",
              "      <td>0</td>\n",
              "      <td>264</td>\n",
              "    </tr>\n",
              "    <tr>\n",
              "      <th>6</th>\n",
              "      <td>1</td>\n",
              "      <td>0</td>\n",
              "      <td>0</td>\n",
              "      <td>0</td>\n",
              "      <td>0</td>\n",
              "    </tr>\n",
              "  </tbody>\n",
              "</table>\n",
              "</div>"
            ],
            "text/plain": [
              "pred      0      1    3  4    5\n",
              "real                           \n",
              "0     40692     37    2  0    4\n",
              "1        88  16134    0  0    1\n",
              "3         2      0  477  0    0\n",
              "4         0      0    0  2    0\n",
              "5         7      1    0  0  264\n",
              "6         1      0    0  0    0"
            ]
          },
          "metadata": {
            "tags": []
          },
          "execution_count": 25
        }
      ]
    },
    {
      "cell_type": "markdown",
      "metadata": {
        "id": "ZMw1Kz0foKwI"
      },
      "source": [
        "###### score : 0.9979068661134309"
      ]
    },
    {
      "cell_type": "markdown",
      "metadata": {
        "id": "EDh3qUOskGlX"
      },
      "source": [
        "### 방법2) 숫자 마스킹 처리 -> TfidfVectorizer -> Randomforest"
      ]
    },
    {
      "cell_type": "code",
      "metadata": {
        "id": "V5tM3CaKlCtH"
      },
      "source": [
        "train_2 = train.copy()"
      ],
      "execution_count": 26,
      "outputs": []
    },
    {
      "cell_type": "code",
      "metadata": {
        "id": "7f5-ESrolEow"
      },
      "source": [
        "train_2['full_log']=train_2['full_log'].str.replace(r'[0-9]', '<num>')"
      ],
      "execution_count": 27,
      "outputs": []
    },
    {
      "cell_type": "code",
      "metadata": {
        "id": "y_4wanPNkc5j"
      },
      "source": [
        "from sklearn.feature_extraction.text import TfidfVectorizer"
      ],
      "execution_count": 28,
      "outputs": []
    },
    {
      "cell_type": "code",
      "metadata": {
        "id": "FSQWfSZUlOgY"
      },
      "source": [
        "# Tfidf 기반 피쳐 벡터화 변환\n",
        "tfidf_vec = TfidfVectorizer(min_df=0,ngram_range=(2,2),max_features=10000)\n",
        "train_text_2 = tfidf_vec.fit_transform(train_2['full_log'])\n",
        "train_level_2=np.array(train_2['level'])\n"
      ],
      "execution_count": 29,
      "outputs": []
    },
    {
      "cell_type": "code",
      "metadata": {
        "id": "IB-QMLpDlkpp"
      },
      "source": [
        "TEST_SIZE=0.2\n",
        "RANDOM_SEED=42\n",
        "\n",
        "x_train_2,x_val_2, y_train_2, y_val_2=train_test_split(train_text_2, train_level_2, test_size=TEST_SIZE, random_state=RANDOM_SEED)"
      ],
      "execution_count": 30,
      "outputs": []
    },
    {
      "cell_type": "code",
      "metadata": {
        "colab": {
          "base_uri": "https://localhost:8080/"
        },
        "id": "Td36hjXbl-XE",
        "outputId": "19ef056e-26d6-4ee6-f808-e79382e3c926"
      },
      "source": [
        "from sklearn.ensemble import RandomForestClassifier\n",
        "\n",
        "model_2=RandomForestClassifier(n_estimators=100)\n",
        "\n",
        "model_2.fit(x_train_2, y_train_2)"
      ],
      "execution_count": 31,
      "outputs": [
        {
          "output_type": "execute_result",
          "data": {
            "text/plain": [
              "RandomForestClassifier(bootstrap=True, ccp_alpha=0.0, class_weight=None,\n",
              "                       criterion='gini', max_depth=None, max_features='auto',\n",
              "                       max_leaf_nodes=None, max_samples=None,\n",
              "                       min_impurity_decrease=0.0, min_impurity_split=None,\n",
              "                       min_samples_leaf=1, min_samples_split=2,\n",
              "                       min_weight_fraction_leaf=0.0, n_estimators=100,\n",
              "                       n_jobs=None, oob_score=False, random_state=None,\n",
              "                       verbose=0, warm_start=False)"
            ]
          },
          "metadata": {
            "tags": []
          },
          "execution_count": 31
        }
      ]
    },
    {
      "cell_type": "code",
      "metadata": {
        "colab": {
          "base_uri": "https://localhost:8080/"
        },
        "id": "zDNtnvUWmVAC",
        "outputId": "1b2ad707-464d-43b3-a9e1-d77f6a0dd579"
      },
      "source": [
        "#방법1의 vectorize 이 더 우수한걸로 파악됨\n",
        "\n",
        "model_2.score(x_val_2, y_val_2)"
      ],
      "execution_count": 32,
      "outputs": [
        {
          "output_type": "execute_result",
          "data": {
            "text/plain": [
              "0.9977647629609093"
            ]
          },
          "metadata": {
            "tags": []
          },
          "execution_count": 32
        }
      ]
    },
    {
      "cell_type": "code",
      "metadata": {
        "colab": {
          "base_uri": "https://localhost:8080/",
          "height": 266
        },
        "id": "yb8K6HzPmXzT",
        "outputId": "76a98cf4-3d78-42ee-fa5c-bdc0c4a567e8"
      },
      "source": [
        "#crosstab으로 확인\n",
        "pred_2=model_2.predict(x_val_2)\n",
        "crosstab_2 = pd.crosstab(y_val_2, pred_2, rownames=['real'], colnames=['pred'])\n",
        "crosstab_2"
      ],
      "execution_count": 33,
      "outputs": [
        {
          "output_type": "execute_result",
          "data": {
            "text/html": [
              "<div>\n",
              "<style scoped>\n",
              "    .dataframe tbody tr th:only-of-type {\n",
              "        vertical-align: middle;\n",
              "    }\n",
              "\n",
              "    .dataframe tbody tr th {\n",
              "        vertical-align: top;\n",
              "    }\n",
              "\n",
              "    .dataframe thead th {\n",
              "        text-align: right;\n",
              "    }\n",
              "</style>\n",
              "<table border=\"1\" class=\"dataframe\">\n",
              "  <thead>\n",
              "    <tr style=\"text-align: right;\">\n",
              "      <th>pred</th>\n",
              "      <th>0</th>\n",
              "      <th>1</th>\n",
              "      <th>3</th>\n",
              "      <th>4</th>\n",
              "      <th>5</th>\n",
              "    </tr>\n",
              "    <tr>\n",
              "      <th>real</th>\n",
              "      <th></th>\n",
              "      <th></th>\n",
              "      <th></th>\n",
              "      <th></th>\n",
              "      <th></th>\n",
              "    </tr>\n",
              "  </thead>\n",
              "  <tbody>\n",
              "    <tr>\n",
              "      <th>0</th>\n",
              "      <td>40699</td>\n",
              "      <td>33</td>\n",
              "      <td>0</td>\n",
              "      <td>0</td>\n",
              "      <td>3</td>\n",
              "    </tr>\n",
              "    <tr>\n",
              "      <th>1</th>\n",
              "      <td>81</td>\n",
              "      <td>16141</td>\n",
              "      <td>0</td>\n",
              "      <td>0</td>\n",
              "      <td>1</td>\n",
              "    </tr>\n",
              "    <tr>\n",
              "      <th>3</th>\n",
              "      <td>2</td>\n",
              "      <td>0</td>\n",
              "      <td>477</td>\n",
              "      <td>0</td>\n",
              "      <td>0</td>\n",
              "    </tr>\n",
              "    <tr>\n",
              "      <th>4</th>\n",
              "      <td>0</td>\n",
              "      <td>0</td>\n",
              "      <td>0</td>\n",
              "      <td>2</td>\n",
              "      <td>0</td>\n",
              "    </tr>\n",
              "    <tr>\n",
              "      <th>5</th>\n",
              "      <td>7</td>\n",
              "      <td>1</td>\n",
              "      <td>0</td>\n",
              "      <td>0</td>\n",
              "      <td>264</td>\n",
              "    </tr>\n",
              "    <tr>\n",
              "      <th>6</th>\n",
              "      <td>1</td>\n",
              "      <td>0</td>\n",
              "      <td>0</td>\n",
              "      <td>0</td>\n",
              "      <td>0</td>\n",
              "    </tr>\n",
              "  </tbody>\n",
              "</table>\n",
              "</div>"
            ],
            "text/plain": [
              "pred      0      1    3  4    5\n",
              "real                           \n",
              "0     40699     33    0  0    3\n",
              "1        81  16141    0  0    1\n",
              "3         2      0  477  0    0\n",
              "4         0      0    0  2    0\n",
              "5         7      1    0  0  264\n",
              "6         1      0    0  0    0"
            ]
          },
          "metadata": {
            "tags": []
          },
          "execution_count": 33
        }
      ]
    },
    {
      "cell_type": "markdown",
      "metadata": {
        "id": "WwAGjXTFodz8"
      },
      "source": [
        "###### score : 0.9976110537190083"
      ]
    },
    {
      "cell_type": "markdown",
      "metadata": {
        "id": "PC_pfyxglEVr"
      },
      "source": [
        "### Vectorrizer 비교 결과 : Countervectorizer의 성능 더 우수"
      ]
    },
    {
      "cell_type": "markdown",
      "metadata": {
        "id": "6c2IkNLnTz4x"
      },
      "source": [
        "\n",
        "\n",
        "---\n",
        "\n"
      ]
    },
    {
      "cell_type": "markdown",
      "metadata": {
        "id": "SuJSzeKZPh0D"
      },
      "source": [
        "### 방법3) 숫자 마스킹 처리 -> Countervectorizer -> XGBClassifier"
      ]
    },
    {
      "cell_type": "code",
      "metadata": {
        "id": "N7MrRdshT6xf"
      },
      "source": [
        "train_3 = train.copy()"
      ],
      "execution_count": 34,
      "outputs": []
    },
    {
      "cell_type": "code",
      "metadata": {
        "id": "zYnyUQwKntfA"
      },
      "source": [
        "# 숫자 마스킹 작업\n",
        "train_3['full_log']=train_3['full_log'].str.replace(r'[0-9]', '<num>')"
      ],
      "execution_count": 35,
      "outputs": []
    },
    {
      "cell_type": "code",
      "metadata": {
        "id": "4R9c9kQ3nqJ3"
      },
      "source": [
        "train_text_3=list(train_3['full_log'])\n",
        "train_level_3=np.array(train_3['level'])"
      ],
      "execution_count": 36,
      "outputs": []
    },
    {
      "cell_type": "code",
      "metadata": {
        "colab": {
          "base_uri": "https://localhost:8080/"
        },
        "id": "OtsABmpOnf_P",
        "outputId": "5d360c2a-51c9-4f7f-9104-fa2563f5d53e"
      },
      "source": [
        "#CountVectorizer로 벡터화\n",
        "from sklearn.feature_extraction.text import CountVectorizer\n",
        "vectorizer=CountVectorizer(analyzer=\"word\", max_features=10000)\n",
        "\n",
        "train_features_3=vectorizer.fit_transform(train_text_3)\n",
        "train_features_3"
      ],
      "execution_count": 37,
      "outputs": [
        {
          "output_type": "execute_result",
          "data": {
            "text/plain": [
              "<288560x10000 sparse matrix of type '<class 'numpy.int64'>'\n",
              "\twith 10035801 stored elements in Compressed Sparse Row format>"
            ]
          },
          "metadata": {
            "tags": []
          },
          "execution_count": 37
        }
      ]
    },
    {
      "cell_type": "code",
      "metadata": {
        "id": "dsaosIPOnf_Q"
      },
      "source": [
        "#훈련 데이터 셋과 검증 데이터 셋으로 분리\n",
        "TEST_SIZE=0.2\n",
        "RANDOM_SEED=42\n",
        "\n",
        "x_train_3,x_val_3, y_train_3, y_val_3=train_test_split(train_features_3, train_level_3, test_size=TEST_SIZE, random_state=RANDOM_SEED)\n"
      ],
      "execution_count": 38,
      "outputs": []
    },
    {
      "cell_type": "code",
      "metadata": {
        "id": "IpBSzuTPPxGj"
      },
      "source": [
        "from xgboost import XGBClassifier"
      ],
      "execution_count": 39,
      "outputs": []
    },
    {
      "cell_type": "code",
      "metadata": {
        "colab": {
          "base_uri": "https://localhost:8080/"
        },
        "id": "PW1tS5EkQbIp",
        "outputId": "90cb12a1-e8de-4c7f-e452-fb0ef86e3187"
      },
      "source": [
        "# XGBClassifier\n",
        "\n",
        "model_3 = XGBClassifier(booster='gbtree', \n",
        "                    colsample_bylevel=0.8, \n",
        "                    colsample_bytree=0.7, \n",
        "                    gamma=0, \n",
        "                    max_depth=5, learning_rate=0.15,\n",
        "                    n_estimators=100, \n",
        "                    nthread=4,\n",
        "                    objective = 'multi:softmax',\n",
        "                    silent= False,\n",
        "                    random_state = 42)\n",
        "\n",
        "model_3.fit(x_train_3, y_train_3, eval_set=[(x_val_3, y_val_3)],\n",
        "             early_stopping_rounds=10)"
      ],
      "execution_count": 40,
      "outputs": [
        {
          "output_type": "stream",
          "text": [
            "[0]\tvalidation_0-merror:0.0035\n",
            "Will train until validation_0-merror hasn't improved in 10 rounds.\n",
            "[1]\tvalidation_0-merror:0.00305\n",
            "[2]\tvalidation_0-merror:0.00253\n",
            "[3]\tvalidation_0-merror:0.002426\n",
            "[4]\tvalidation_0-merror:0.002391\n",
            "[5]\tvalidation_0-merror:0.002391\n",
            "[6]\tvalidation_0-merror:0.002322\n",
            "[7]\tvalidation_0-merror:0.00227\n",
            "[8]\tvalidation_0-merror:0.00227\n",
            "[9]\tvalidation_0-merror:0.00227\n",
            "[10]\tvalidation_0-merror:0.00227\n",
            "[11]\tvalidation_0-merror:0.00227\n",
            "[12]\tvalidation_0-merror:0.002218\n",
            "[13]\tvalidation_0-merror:0.002218\n",
            "[14]\tvalidation_0-merror:0.002218\n",
            "[15]\tvalidation_0-merror:0.002218\n",
            "[16]\tvalidation_0-merror:0.002218\n",
            "[17]\tvalidation_0-merror:0.002201\n",
            "[18]\tvalidation_0-merror:0.002166\n",
            "[19]\tvalidation_0-merror:0.002079\n",
            "[20]\tvalidation_0-merror:0.002062\n",
            "[21]\tvalidation_0-merror:0.002062\n",
            "[22]\tvalidation_0-merror:0.002131\n",
            "[23]\tvalidation_0-merror:0.002114\n",
            "[24]\tvalidation_0-merror:0.002062\n",
            "[25]\tvalidation_0-merror:0.002097\n",
            "[26]\tvalidation_0-merror:0.002131\n",
            "[27]\tvalidation_0-merror:0.002149\n",
            "[28]\tvalidation_0-merror:0.002166\n",
            "[29]\tvalidation_0-merror:0.002166\n",
            "[30]\tvalidation_0-merror:0.002183\n",
            "Stopping. Best iteration:\n",
            "[20]\tvalidation_0-merror:0.002062\n",
            "\n"
          ],
          "name": "stdout"
        },
        {
          "output_type": "execute_result",
          "data": {
            "text/plain": [
              "XGBClassifier(base_score=0.5, booster='gbtree', colsample_bylevel=0.8,\n",
              "              colsample_bynode=1, colsample_bytree=0.7, gamma=0,\n",
              "              learning_rate=0.15, max_delta_step=0, max_depth=5,\n",
              "              min_child_weight=1, missing=None, n_estimators=100, n_jobs=1,\n",
              "              nthread=4, objective='multi:softprob', random_state=42,\n",
              "              reg_alpha=0, reg_lambda=1, scale_pos_weight=1, seed=None,\n",
              "              silent=False, subsample=1, verbosity=1)"
            ]
          },
          "metadata": {
            "tags": []
          },
          "execution_count": 40
        }
      ]
    },
    {
      "cell_type": "code",
      "metadata": {
        "colab": {
          "base_uri": "https://localhost:8080/"
        },
        "id": "qHVRXVS1RWnB",
        "outputId": "d143ad79-ade3-4bea-a9de-3240ccf5afde"
      },
      "source": [
        "#모델 검증\n",
        "model_3.score(x_val_3, y_val_3)"
      ],
      "execution_count": 41,
      "outputs": [
        {
          "output_type": "execute_result",
          "data": {
            "text/plain": [
              "0.9979380371499862"
            ]
          },
          "metadata": {
            "tags": []
          },
          "execution_count": 41
        }
      ]
    },
    {
      "cell_type": "code",
      "metadata": {
        "colab": {
          "base_uri": "https://localhost:8080/",
          "height": 266
        },
        "id": "3xC47pkNQ5Dt",
        "outputId": "f9bfe1ac-30d0-4f5b-b1b4-32172221d09a"
      },
      "source": [
        "#crosstab으로 확인\n",
        "pred_3 = model_3.predict(x_val_3)\n",
        "crosstab_3 = pd.crosstab(y_val_3, pred_3, rownames=['real'], colnames=['pred'])\n",
        "crosstab_3"
      ],
      "execution_count": 42,
      "outputs": [
        {
          "output_type": "execute_result",
          "data": {
            "text/html": [
              "<div>\n",
              "<style scoped>\n",
              "    .dataframe tbody tr th:only-of-type {\n",
              "        vertical-align: middle;\n",
              "    }\n",
              "\n",
              "    .dataframe tbody tr th {\n",
              "        vertical-align: top;\n",
              "    }\n",
              "\n",
              "    .dataframe thead th {\n",
              "        text-align: right;\n",
              "    }\n",
              "</style>\n",
              "<table border=\"1\" class=\"dataframe\">\n",
              "  <thead>\n",
              "    <tr style=\"text-align: right;\">\n",
              "      <th>pred</th>\n",
              "      <th>0</th>\n",
              "      <th>1</th>\n",
              "      <th>3</th>\n",
              "      <th>4</th>\n",
              "      <th>5</th>\n",
              "    </tr>\n",
              "    <tr>\n",
              "      <th>real</th>\n",
              "      <th></th>\n",
              "      <th></th>\n",
              "      <th></th>\n",
              "      <th></th>\n",
              "      <th></th>\n",
              "    </tr>\n",
              "  </thead>\n",
              "  <tbody>\n",
              "    <tr>\n",
              "      <th>0</th>\n",
              "      <td>40735</td>\n",
              "      <td>0</td>\n",
              "      <td>0</td>\n",
              "      <td>0</td>\n",
              "      <td>0</td>\n",
              "    </tr>\n",
              "    <tr>\n",
              "      <th>1</th>\n",
              "      <td>105</td>\n",
              "      <td>16118</td>\n",
              "      <td>0</td>\n",
              "      <td>0</td>\n",
              "      <td>0</td>\n",
              "    </tr>\n",
              "    <tr>\n",
              "      <th>3</th>\n",
              "      <td>4</td>\n",
              "      <td>0</td>\n",
              "      <td>475</td>\n",
              "      <td>0</td>\n",
              "      <td>0</td>\n",
              "    </tr>\n",
              "    <tr>\n",
              "      <th>4</th>\n",
              "      <td>0</td>\n",
              "      <td>0</td>\n",
              "      <td>0</td>\n",
              "      <td>2</td>\n",
              "      <td>0</td>\n",
              "    </tr>\n",
              "    <tr>\n",
              "      <th>5</th>\n",
              "      <td>9</td>\n",
              "      <td>0</td>\n",
              "      <td>0</td>\n",
              "      <td>0</td>\n",
              "      <td>263</td>\n",
              "    </tr>\n",
              "    <tr>\n",
              "      <th>6</th>\n",
              "      <td>0</td>\n",
              "      <td>0</td>\n",
              "      <td>1</td>\n",
              "      <td>0</td>\n",
              "      <td>0</td>\n",
              "    </tr>\n",
              "  </tbody>\n",
              "</table>\n",
              "</div>"
            ],
            "text/plain": [
              "pred      0      1    3  4    5\n",
              "real                           \n",
              "0     40735      0    0  0    0\n",
              "1       105  16118    0  0    0\n",
              "3         4      0  475  0    0\n",
              "4         0      0    0  2    0\n",
              "5         9      0    0  0  263\n",
              "6         0      0    1  0    0"
            ]
          },
          "metadata": {
            "tags": []
          },
          "execution_count": 42
        }
      ]
    },
    {
      "cell_type": "markdown",
      "metadata": {
        "id": "MjQXzeQ2ot9_"
      },
      "source": [
        "###### score : 0.9980630165289256"
      ]
    },
    {
      "cell_type": "markdown",
      "metadata": {
        "id": "vG9hldsmk4VB"
      },
      "source": [
        "\n",
        "\n",
        "---\n",
        "\n"
      ]
    },
    {
      "cell_type": "markdown",
      "metadata": {
        "id": "GjALcuntn0e5"
      },
      "source": [
        "### 방법4) 숫자 마스킹 처리 -> Countervectorizer -> ExtraTreesClassifier\n"
      ]
    },
    {
      "cell_type": "code",
      "metadata": {
        "id": "iGvB8Q2ppr-Q"
      },
      "source": [
        "train_5 = train"
      ],
      "execution_count": 43,
      "outputs": []
    },
    {
      "cell_type": "code",
      "metadata": {
        "id": "Msji5NsxpuF8"
      },
      "source": [
        "train_5['full_log']=train_5['full_log'].str.replace(r'[0-9]', '<num>')"
      ],
      "execution_count": 44,
      "outputs": []
    },
    {
      "cell_type": "code",
      "metadata": {
        "id": "VKeorj5mRL6b"
      },
      "source": [
        "train_text_5=list(train_5['full_log'])\n",
        "train_level_5=np.array(train_5['level'])"
      ],
      "execution_count": 45,
      "outputs": []
    },
    {
      "cell_type": "code",
      "metadata": {
        "colab": {
          "base_uri": "https://localhost:8080/"
        },
        "id": "mDYtDnj5RPv0",
        "outputId": "a0c44bb1-110d-4d29-d8b0-c46a929f255b"
      },
      "source": [
        "#CountVectorizer로 벡터화\n",
        "from sklearn.feature_extraction.text import CountVectorizer\n",
        "vectorizer=CountVectorizer(analyzer=\"word\", max_features=10000)\n",
        "\n",
        "train_features_5=vectorizer.fit_transform(train_text_5)\n",
        "train_features_5"
      ],
      "execution_count": 46,
      "outputs": [
        {
          "output_type": "execute_result",
          "data": {
            "text/plain": [
              "<288560x10000 sparse matrix of type '<class 'numpy.int64'>'\n",
              "\twith 10035801 stored elements in Compressed Sparse Row format>"
            ]
          },
          "metadata": {
            "tags": []
          },
          "execution_count": 46
        }
      ]
    },
    {
      "cell_type": "code",
      "metadata": {
        "id": "rgEed33kRY2o"
      },
      "source": [
        "#훈련 데이터 셋과 검증 데이터 셋으로 분리\n",
        "TEST_SIZE=0.2\n",
        "RANDOM_SEED=42\n",
        "\n",
        "x_train_5,x_val_5, y_train_5, y_val_5=train_test_split(train_features_5, train_level_5, test_size=TEST_SIZE, random_state=RANDOM_SEED)"
      ],
      "execution_count": 47,
      "outputs": []
    },
    {
      "cell_type": "code",
      "metadata": {
        "id": "NgAYeswgpzp6"
      },
      "source": [
        "from sklearn.ensemble import ExtraTreesClassifier"
      ],
      "execution_count": 48,
      "outputs": []
    },
    {
      "cell_type": "code",
      "metadata": {
        "id": "75k_ps4WqNcj",
        "colab": {
          "base_uri": "https://localhost:8080/"
        },
        "outputId": "8bda069a-46c8-4041-e693-90512f7560b8"
      },
      "source": [
        "model_5 = ExtraTreesClassifier(n_estimators=100, n_jobs=-1)\n",
        "model_5.fit(x_train_5, y_train_5)\n"
      ],
      "execution_count": 49,
      "outputs": [
        {
          "output_type": "execute_result",
          "data": {
            "text/plain": [
              "ExtraTreesClassifier(bootstrap=False, ccp_alpha=0.0, class_weight=None,\n",
              "                     criterion='gini', max_depth=None, max_features='auto',\n",
              "                     max_leaf_nodes=None, max_samples=None,\n",
              "                     min_impurity_decrease=0.0, min_impurity_split=None,\n",
              "                     min_samples_leaf=1, min_samples_split=2,\n",
              "                     min_weight_fraction_leaf=0.0, n_estimators=100, n_jobs=-1,\n",
              "                     oob_score=False, random_state=None, verbose=0,\n",
              "                     warm_start=False)"
            ]
          },
          "metadata": {
            "tags": []
          },
          "execution_count": 49
        }
      ]
    },
    {
      "cell_type": "code",
      "metadata": {
        "id": "DXGX_TyJqaLM",
        "colab": {
          "base_uri": "https://localhost:8080/"
        },
        "outputId": "ab2190cb-ee62-49aa-a7c0-56052b02a51d"
      },
      "source": [
        "model_5.score(x_val_5, y_val_5)\n"
      ],
      "execution_count": 50,
      "outputs": [
        {
          "output_type": "execute_result",
          "data": {
            "text/plain": [
              "0.9976434710285556"
            ]
          },
          "metadata": {
            "tags": []
          },
          "execution_count": 50
        }
      ]
    },
    {
      "cell_type": "code",
      "metadata": {
        "id": "tNMqqp6-qeKr",
        "colab": {
          "base_uri": "https://localhost:8080/",
          "height": 266
        },
        "outputId": "dd83f6a2-a378-4e4c-d563-0ad34b3f98ff"
      },
      "source": [
        "#crosstab으로 확인\n",
        "pred_5 = model_5.predict(x_val_5)\n",
        "crosstab_5 = pd.crosstab(y_val_5, pred_5, rownames=['real'], colnames=['pred'])\n",
        "crosstab_5"
      ],
      "execution_count": 51,
      "outputs": [
        {
          "output_type": "execute_result",
          "data": {
            "text/html": [
              "<div>\n",
              "<style scoped>\n",
              "    .dataframe tbody tr th:only-of-type {\n",
              "        vertical-align: middle;\n",
              "    }\n",
              "\n",
              "    .dataframe tbody tr th {\n",
              "        vertical-align: top;\n",
              "    }\n",
              "\n",
              "    .dataframe thead th {\n",
              "        text-align: right;\n",
              "    }\n",
              "</style>\n",
              "<table border=\"1\" class=\"dataframe\">\n",
              "  <thead>\n",
              "    <tr style=\"text-align: right;\">\n",
              "      <th>pred</th>\n",
              "      <th>0</th>\n",
              "      <th>1</th>\n",
              "      <th>3</th>\n",
              "      <th>4</th>\n",
              "      <th>5</th>\n",
              "      <th>6</th>\n",
              "    </tr>\n",
              "    <tr>\n",
              "      <th>real</th>\n",
              "      <th></th>\n",
              "      <th></th>\n",
              "      <th></th>\n",
              "      <th></th>\n",
              "      <th></th>\n",
              "      <th></th>\n",
              "    </tr>\n",
              "  </thead>\n",
              "  <tbody>\n",
              "    <tr>\n",
              "      <th>0</th>\n",
              "      <td>40697</td>\n",
              "      <td>31</td>\n",
              "      <td>2</td>\n",
              "      <td>0</td>\n",
              "      <td>5</td>\n",
              "      <td>0</td>\n",
              "    </tr>\n",
              "    <tr>\n",
              "      <th>1</th>\n",
              "      <td>86</td>\n",
              "      <td>16135</td>\n",
              "      <td>0</td>\n",
              "      <td>0</td>\n",
              "      <td>2</td>\n",
              "      <td>0</td>\n",
              "    </tr>\n",
              "    <tr>\n",
              "      <th>3</th>\n",
              "      <td>2</td>\n",
              "      <td>0</td>\n",
              "      <td>477</td>\n",
              "      <td>0</td>\n",
              "      <td>0</td>\n",
              "      <td>0</td>\n",
              "    </tr>\n",
              "    <tr>\n",
              "      <th>4</th>\n",
              "      <td>0</td>\n",
              "      <td>0</td>\n",
              "      <td>0</td>\n",
              "      <td>2</td>\n",
              "      <td>0</td>\n",
              "      <td>0</td>\n",
              "    </tr>\n",
              "    <tr>\n",
              "      <th>5</th>\n",
              "      <td>8</td>\n",
              "      <td>0</td>\n",
              "      <td>0</td>\n",
              "      <td>0</td>\n",
              "      <td>264</td>\n",
              "      <td>0</td>\n",
              "    </tr>\n",
              "    <tr>\n",
              "      <th>6</th>\n",
              "      <td>0</td>\n",
              "      <td>0</td>\n",
              "      <td>0</td>\n",
              "      <td>0</td>\n",
              "      <td>0</td>\n",
              "      <td>1</td>\n",
              "    </tr>\n",
              "  </tbody>\n",
              "</table>\n",
              "</div>"
            ],
            "text/plain": [
              "pred      0      1    3  4    5  6\n",
              "real                              \n",
              "0     40697     31    2  0    5  0\n",
              "1        86  16135    0  0    2  0\n",
              "3         2      0  477  0    0  0\n",
              "4         0      0    0  2    0  0\n",
              "5         8      0    0  0  264  0\n",
              "6         0      0    0  0    0  1"
            ]
          },
          "metadata": {
            "tags": []
          },
          "execution_count": 51
        }
      ]
    },
    {
      "cell_type": "markdown",
      "metadata": {
        "id": "8vlJZQWORln3"
      },
      "source": [
        "###### score : 0.9978962947301654"
      ]
    },
    {
      "cell_type": "markdown",
      "metadata": {
        "id": "ksVoovis6dFO"
      },
      "source": [
        "\n",
        "\n",
        "---\n",
        "\n"
      ]
    },
    {
      "cell_type": "markdown",
      "metadata": {
        "id": "iP7-TsCU6eFd"
      },
      "source": [
        "### 방법5) 숫자 마스킹 처리 -> Countervectorizer -> KNN"
      ]
    },
    {
      "cell_type": "code",
      "metadata": {
        "id": "-C_YBqEK6h8Z"
      },
      "source": [
        "train_6 = train"
      ],
      "execution_count": 52,
      "outputs": []
    },
    {
      "cell_type": "code",
      "metadata": {
        "id": "Ib1KESOP6h8a"
      },
      "source": [
        "train_6['full_log']=train_6['full_log'].str.replace(r'[0-9]', '<num>')"
      ],
      "execution_count": 53,
      "outputs": []
    },
    {
      "cell_type": "code",
      "metadata": {
        "id": "Davqr1wd6rI3"
      },
      "source": [
        "train_text_6=list(train_6['full_log'])\n",
        "train_level_6=np.array(train_6['level'])"
      ],
      "execution_count": 54,
      "outputs": []
    },
    {
      "cell_type": "code",
      "metadata": {
        "colab": {
          "base_uri": "https://localhost:8080/"
        },
        "id": "n6gounaV6vS7",
        "outputId": "570772ae-b65c-4e3c-e787-0cc264744be5"
      },
      "source": [
        "#CountVectorizer로 벡터화\n",
        "from sklearn.feature_extraction.text import CountVectorizer\n",
        "vectorizer=CountVectorizer(analyzer=\"word\", max_features=10000)\n",
        "\n",
        "train_features_6=vectorizer.fit_transform(train_text_6)\n",
        "train_features_6"
      ],
      "execution_count": 55,
      "outputs": [
        {
          "output_type": "execute_result",
          "data": {
            "text/plain": [
              "<288560x10000 sparse matrix of type '<class 'numpy.int64'>'\n",
              "\twith 10035801 stored elements in Compressed Sparse Row format>"
            ]
          },
          "metadata": {
            "tags": []
          },
          "execution_count": 55
        }
      ]
    },
    {
      "cell_type": "code",
      "metadata": {
        "id": "ZABo4Nst61uh"
      },
      "source": [
        "#훈련 데이터 셋과 검증 데이터 셋으로 분리\n",
        "TEST_SIZE=0.2\n",
        "RANDOM_SEED=42\n",
        "\n",
        "x_train_6,x_val_6, y_train_6, y_val_6=train_test_split(train_features_6, train_level_6, test_size=TEST_SIZE, random_state=RANDOM_SEED)"
      ],
      "execution_count": 56,
      "outputs": []
    },
    {
      "cell_type": "code",
      "metadata": {
        "id": "OvJ4EUIq7AuV"
      },
      "source": [
        "from sklearn.neighbors import KNeighborsClassifier"
      ],
      "execution_count": 57,
      "outputs": []
    },
    {
      "cell_type": "code",
      "metadata": {
        "colab": {
          "base_uri": "https://localhost:8080/"
        },
        "id": "5lBx9EcS69Lg",
        "outputId": "71e5db10-e24a-4af9-94ee-506368e86f00"
      },
      "source": [
        "model_6 = KNeighborsClassifier(n_neighbors = 3)\n",
        "model_6.fit(x_train_6, y_train_6)"
      ],
      "execution_count": 58,
      "outputs": [
        {
          "output_type": "execute_result",
          "data": {
            "text/plain": [
              "KNeighborsClassifier(algorithm='auto', leaf_size=30, metric='minkowski',\n",
              "                     metric_params=None, n_jobs=None, n_neighbors=3, p=2,\n",
              "                     weights='uniform')"
            ]
          },
          "metadata": {
            "tags": []
          },
          "execution_count": 58
        }
      ]
    },
    {
      "cell_type": "code",
      "metadata": {
        "colab": {
          "base_uri": "https://localhost:8080/"
        },
        "id": "W-oarLxA6h8d",
        "outputId": "30d58df5-9e73-49ce-b8bd-67ca0271c7f3"
      },
      "source": [
        "model_6.score(x_val_6, y_val_6)\n"
      ],
      "execution_count": 59,
      "outputs": [
        {
          "output_type": "execute_result",
          "data": {
            "text/plain": [
              "0.9974182145827557"
            ]
          },
          "metadata": {
            "tags": []
          },
          "execution_count": 59
        }
      ]
    },
    {
      "cell_type": "code",
      "metadata": {
        "colab": {
          "base_uri": "https://localhost:8080/",
          "height": 266
        },
        "id": "hQeHe_zr6h8d",
        "outputId": "b9c241ca-7145-40e9-f708-460ede1f622e"
      },
      "source": [
        "#crosstab으로 확인\n",
        "pred_6 = model_6.predict(x_val_6)\n",
        "crosstab_6 = pd.crosstab(y_val_6, pred_6, rownames=['real'], colnames=['pred'])\n",
        "crosstab_6"
      ],
      "execution_count": 60,
      "outputs": [
        {
          "output_type": "execute_result",
          "data": {
            "text/html": [
              "<div>\n",
              "<style scoped>\n",
              "    .dataframe tbody tr th:only-of-type {\n",
              "        vertical-align: middle;\n",
              "    }\n",
              "\n",
              "    .dataframe tbody tr th {\n",
              "        vertical-align: top;\n",
              "    }\n",
              "\n",
              "    .dataframe thead th {\n",
              "        text-align: right;\n",
              "    }\n",
              "</style>\n",
              "<table border=\"1\" class=\"dataframe\">\n",
              "  <thead>\n",
              "    <tr style=\"text-align: right;\">\n",
              "      <th>pred</th>\n",
              "      <th>0</th>\n",
              "      <th>1</th>\n",
              "      <th>3</th>\n",
              "      <th>4</th>\n",
              "      <th>5</th>\n",
              "    </tr>\n",
              "    <tr>\n",
              "      <th>real</th>\n",
              "      <th></th>\n",
              "      <th></th>\n",
              "      <th></th>\n",
              "      <th></th>\n",
              "      <th></th>\n",
              "    </tr>\n",
              "  </thead>\n",
              "  <tbody>\n",
              "    <tr>\n",
              "      <th>0</th>\n",
              "      <td>40687</td>\n",
              "      <td>48</td>\n",
              "      <td>0</td>\n",
              "      <td>0</td>\n",
              "      <td>0</td>\n",
              "    </tr>\n",
              "    <tr>\n",
              "      <th>1</th>\n",
              "      <td>85</td>\n",
              "      <td>16137</td>\n",
              "      <td>0</td>\n",
              "      <td>0</td>\n",
              "      <td>1</td>\n",
              "    </tr>\n",
              "    <tr>\n",
              "      <th>3</th>\n",
              "      <td>2</td>\n",
              "      <td>0</td>\n",
              "      <td>474</td>\n",
              "      <td>0</td>\n",
              "      <td>3</td>\n",
              "    </tr>\n",
              "    <tr>\n",
              "      <th>4</th>\n",
              "      <td>0</td>\n",
              "      <td>0</td>\n",
              "      <td>0</td>\n",
              "      <td>2</td>\n",
              "      <td>0</td>\n",
              "    </tr>\n",
              "    <tr>\n",
              "      <th>5</th>\n",
              "      <td>6</td>\n",
              "      <td>3</td>\n",
              "      <td>0</td>\n",
              "      <td>0</td>\n",
              "      <td>263</td>\n",
              "    </tr>\n",
              "    <tr>\n",
              "      <th>6</th>\n",
              "      <td>1</td>\n",
              "      <td>0</td>\n",
              "      <td>0</td>\n",
              "      <td>0</td>\n",
              "      <td>0</td>\n",
              "    </tr>\n",
              "  </tbody>\n",
              "</table>\n",
              "</div>"
            ],
            "text/plain": [
              "pred      0      1    3  4    5\n",
              "real                           \n",
              "0     40687     48    0  0    0\n",
              "1        85  16137    0  0    1\n",
              "3         2      0  474  0    3\n",
              "4         0      0    0  2    0\n",
              "5         6      3    0  0  263\n",
              "6         1      0    0  0    0"
            ]
          },
          "metadata": {
            "tags": []
          },
          "execution_count": 60
        }
      ]
    },
    {
      "cell_type": "markdown",
      "metadata": {
        "id": "KSv-b9zFRBBa"
      },
      "source": [
        "###### score : 0.9977165812146519"
      ]
    },
    {
      "cell_type": "markdown",
      "metadata": {
        "id": "HYfT5z6I8K9i"
      },
      "source": [
        "### 방법6) 숫자 마스킹 처리 -> Countervectorizer -> Adaboost"
      ]
    },
    {
      "cell_type": "code",
      "metadata": {
        "id": "RTdH_fW68UEC"
      },
      "source": [
        "train_7 = train"
      ],
      "execution_count": 61,
      "outputs": []
    },
    {
      "cell_type": "code",
      "metadata": {
        "id": "g_Ur1uQQ8UED"
      },
      "source": [
        "train_7['full_log']=train_7['full_log'].str.replace(r'[0-9]', '<num>')"
      ],
      "execution_count": 62,
      "outputs": []
    },
    {
      "cell_type": "code",
      "metadata": {
        "id": "ZeXAn3xb8UEE"
      },
      "source": [
        "train_text_7=list(train_7['full_log'])\n",
        "train_level_7=np.array(train_7['level'])"
      ],
      "execution_count": 63,
      "outputs": []
    },
    {
      "cell_type": "code",
      "metadata": {
        "colab": {
          "base_uri": "https://localhost:8080/"
        },
        "id": "iJyHc7OX8UEE",
        "outputId": "a5d1aef8-cbf8-4264-c0df-946711866c6c"
      },
      "source": [
        "#CountVectorizer로 벡터화\n",
        "from sklearn.feature_extraction.text import CountVectorizer\n",
        "vectorizer=CountVectorizer(analyzer=\"word\", max_features=10000)\n",
        "\n",
        "train_features_7=vectorizer.fit_transform(train_text_7)\n",
        "train_features_7"
      ],
      "execution_count": 64,
      "outputs": [
        {
          "output_type": "execute_result",
          "data": {
            "text/plain": [
              "<288560x10000 sparse matrix of type '<class 'numpy.int64'>'\n",
              "\twith 10035801 stored elements in Compressed Sparse Row format>"
            ]
          },
          "metadata": {
            "tags": []
          },
          "execution_count": 64
        }
      ]
    },
    {
      "cell_type": "code",
      "metadata": {
        "id": "EcWZhdFD8UEF"
      },
      "source": [
        "#훈련 데이터 셋과 검증 데이터 셋으로 분리\n",
        "TEST_SIZE=0.2\n",
        "RANDOM_SEED=42\n",
        "\n",
        "x_train_7,x_val_7, y_train_7, y_val_7=train_test_split(train_features_7, train_level_7, test_size=TEST_SIZE, random_state=RANDOM_SEED)"
      ],
      "execution_count": 65,
      "outputs": []
    },
    {
      "cell_type": "code",
      "metadata": {
        "id": "LBPCsJaw8tZo"
      },
      "source": [
        "from sklearn.ensemble import AdaBoostClassifier"
      ],
      "execution_count": 66,
      "outputs": []
    },
    {
      "cell_type": "code",
      "metadata": {
        "colab": {
          "base_uri": "https://localhost:8080/"
        },
        "id": "J7Za2E1M8wJn",
        "outputId": "c3712701-bfcd-47d1-c0c1-6c80c46bf0ec"
      },
      "source": [
        "model_7 = AdaBoostClassifier(n_estimators=100)\n",
        "model_7.fit(x_train_7, y_train_7)"
      ],
      "execution_count": 67,
      "outputs": [
        {
          "output_type": "execute_result",
          "data": {
            "text/plain": [
              "AdaBoostClassifier(algorithm='SAMME.R', base_estimator=None, learning_rate=1.0,\n",
              "                   n_estimators=100, random_state=None)"
            ]
          },
          "metadata": {
            "tags": []
          },
          "execution_count": 67
        }
      ]
    },
    {
      "cell_type": "code",
      "metadata": {
        "colab": {
          "base_uri": "https://localhost:8080/"
        },
        "id": "5rJurmTe86DG",
        "outputId": "4d42778e-84ac-4bb1-dd41-94419356a5d6"
      },
      "source": [
        "model_7.score(x_val_7, y_val_7)"
      ],
      "execution_count": 68,
      "outputs": [
        {
          "output_type": "execute_result",
          "data": {
            "text/plain": [
              "0.9633525090102578"
            ]
          },
          "metadata": {
            "tags": []
          },
          "execution_count": 68
        }
      ]
    },
    {
      "cell_type": "markdown",
      "metadata": {
        "id": "6TyJyjsHRDjB"
      },
      "source": [
        "###### score : 0.9624504466409429"
      ]
    },
    {
      "cell_type": "markdown",
      "metadata": {
        "id": "yXEubvD6l1Rf"
      },
      "source": [
        "### 머신러닝 모델 비교 결과 : XGBClassifier의 성능이 가장 우수"
      ]
    },
    {
      "cell_type": "markdown",
      "metadata": {
        "id": "Wd56oR8yquFY"
      },
      "source": [
        "\n",
        "\n",
        "---\n",
        "\n"
      ]
    }
  ]
}